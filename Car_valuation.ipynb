{
 "cells": [
  {
   "cell_type": "markdown",
   "metadata": {},
   "source": [
    "# Определение стоимости автомобилей"
   ]
  },
  {
   "cell_type": "markdown",
   "metadata": {},
   "source": [
    "Сервис по продаже автомобилей с пробегом _«Не бит, не крашен»_ разрабатывает приложение для привлечения новых клиентов. В нём можно быстро узнать рыночную стоимость своего автомобиля.\n",
    "\n",
    "Необходимо **построить модель**, которая умеет её определять. В вашем распоряжении исторические данные: технические характеристики, комплектации и цены автомобилей. Вам нужно построить модель для определения стоимости. \n",
    "\n",
    "Заказчику важны:\n",
    "- качество предсказания;\n",
    "- скорость предсказания;\n",
    "- время обучения.\n",
    "\n",
    "_Примечания_: Для оценки качества моделей необходимо применять метрику **RMSE** (корень среднеквадратичного отклонения). Значение метрики RMSE должно быть меньше ± **2500**€.\n",
    "___"
   ]
  },
  {
   "cell_type": "markdown",
   "metadata": {},
   "source": [
    "## Подготовка данных"
   ]
  },
  {
   "cell_type": "code",
   "execution_count": 1,
   "metadata": {},
   "outputs": [],
   "source": [
    "# импорт основных библиотек\n",
    "import os\n",
    "import numpy as np\n",
    "import pandas as pd\n",
    "import seaborn as sns\n",
    "import lightgbm as lgb\n",
    "import matplotlib.pyplot as plt\n",
    "from tqdm.notebook import tqdm\n",
    "\n",
    "# импорт спец. библиотек\n",
    "from sklearn.metrics import mean_squared_error\n",
    "from sklearn.ensemble import RandomForestRegressor\n",
    "from sklearn.linear_model import LinearRegression\n",
    "from sklearn.preprocessing import OrdinalEncoder, StandardScaler\n",
    "from sklearn.model_selection import train_test_split\n",
    "\n",
    "import warnings\n",
    "warnings.filterwarnings(\"ignore\")\n",
    "\n",
    "# константы\n",
    "RANDOM_STATE = 12345\n",
    "\n",
    "# адреса расположения файла\n",
    "home_path = 'datasets/autos.csv'\n",
    "server_path = '/datasets/autos.csv'"
   ]
  },
  {
   "cell_type": "markdown",
   "metadata": {},
   "source": [
    "### Чтение и знакомство с данными"
   ]
  },
  {
   "cell_type": "code",
   "execution_count": 2,
   "metadata": {
    "scrolled": true
   },
   "outputs": [],
   "source": [
    "# домашняя версия\n",
    "if os.path.exists(home_path):\n",
    "    df = pd.read_csv(home_path, parse_dates=['DateCrawled', 'DateCreated', 'LastSeen'])    \n",
    "\n",
    "# сетевая версия\n",
    "elif os.path.exists(server_path):\n",
    "    df = pd.read_csv(server_path, parse_dates=['DateCrawled', 'DateCreated', 'LastSeen'])\n",
    "\n",
    "else:\n",
    "    print('Не удалось прочесть файл. Возможно, был указан неверный путь.')"
   ]
  },
  {
   "cell_type": "code",
   "execution_count": 3,
   "metadata": {},
   "outputs": [
    {
     "data": {
      "text/html": [
       "<div>\n",
       "<style scoped>\n",
       "    .dataframe tbody tr th:only-of-type {\n",
       "        vertical-align: middle;\n",
       "    }\n",
       "\n",
       "    .dataframe tbody tr th {\n",
       "        vertical-align: top;\n",
       "    }\n",
       "\n",
       "    .dataframe thead th {\n",
       "        text-align: right;\n",
       "    }\n",
       "</style>\n",
       "<table border=\"1\" class=\"dataframe\">\n",
       "  <thead>\n",
       "    <tr style=\"text-align: right;\">\n",
       "      <th></th>\n",
       "      <th>Brand</th>\n",
       "      <th>Model</th>\n",
       "      <th>VehicleType</th>\n",
       "      <th>Gearbox</th>\n",
       "      <th>Power</th>\n",
       "      <th>FuelType</th>\n",
       "      <th>Kilometer</th>\n",
       "      <th>RegistrationYear</th>\n",
       "      <th>RegistrationMonth</th>\n",
       "      <th>Repaired</th>\n",
       "      <th>NumberOfPictures</th>\n",
       "      <th>Price</th>\n",
       "      <th>DateCreated</th>\n",
       "      <th>DateCrawled</th>\n",
       "      <th>LastSeen</th>\n",
       "      <th>PostalCode</th>\n",
       "    </tr>\n",
       "  </thead>\n",
       "  <tbody>\n",
       "    <tr>\n",
       "      <th>0</th>\n",
       "      <td>volkswagen</td>\n",
       "      <td>golf</td>\n",
       "      <td>NaN</td>\n",
       "      <td>manual</td>\n",
       "      <td>0</td>\n",
       "      <td>petrol</td>\n",
       "      <td>150000</td>\n",
       "      <td>1993</td>\n",
       "      <td>0</td>\n",
       "      <td>NaN</td>\n",
       "      <td>0</td>\n",
       "      <td>480</td>\n",
       "      <td>2016-03-24</td>\n",
       "      <td>2016-03-24 11:52:17</td>\n",
       "      <td>2016-04-07 03:16:57</td>\n",
       "      <td>70435</td>\n",
       "    </tr>\n",
       "    <tr>\n",
       "      <th>1</th>\n",
       "      <td>audi</td>\n",
       "      <td>NaN</td>\n",
       "      <td>coupe</td>\n",
       "      <td>manual</td>\n",
       "      <td>190</td>\n",
       "      <td>gasoline</td>\n",
       "      <td>125000</td>\n",
       "      <td>2011</td>\n",
       "      <td>5</td>\n",
       "      <td>yes</td>\n",
       "      <td>0</td>\n",
       "      <td>18300</td>\n",
       "      <td>2016-03-24</td>\n",
       "      <td>2016-03-24 10:58:45</td>\n",
       "      <td>2016-04-07 01:46:50</td>\n",
       "      <td>66954</td>\n",
       "    </tr>\n",
       "    <tr>\n",
       "      <th>2</th>\n",
       "      <td>jeep</td>\n",
       "      <td>grand</td>\n",
       "      <td>suv</td>\n",
       "      <td>auto</td>\n",
       "      <td>163</td>\n",
       "      <td>gasoline</td>\n",
       "      <td>125000</td>\n",
       "      <td>2004</td>\n",
       "      <td>8</td>\n",
       "      <td>NaN</td>\n",
       "      <td>0</td>\n",
       "      <td>9800</td>\n",
       "      <td>2016-03-14</td>\n",
       "      <td>2016-03-14 12:52:21</td>\n",
       "      <td>2016-04-05 12:47:46</td>\n",
       "      <td>90480</td>\n",
       "    </tr>\n",
       "    <tr>\n",
       "      <th>3</th>\n",
       "      <td>volkswagen</td>\n",
       "      <td>golf</td>\n",
       "      <td>small</td>\n",
       "      <td>manual</td>\n",
       "      <td>75</td>\n",
       "      <td>petrol</td>\n",
       "      <td>150000</td>\n",
       "      <td>2001</td>\n",
       "      <td>6</td>\n",
       "      <td>no</td>\n",
       "      <td>0</td>\n",
       "      <td>1500</td>\n",
       "      <td>2016-03-17</td>\n",
       "      <td>2016-03-17 16:54:04</td>\n",
       "      <td>2016-03-17 17:40:17</td>\n",
       "      <td>91074</td>\n",
       "    </tr>\n",
       "    <tr>\n",
       "      <th>4</th>\n",
       "      <td>skoda</td>\n",
       "      <td>fabia</td>\n",
       "      <td>small</td>\n",
       "      <td>manual</td>\n",
       "      <td>69</td>\n",
       "      <td>gasoline</td>\n",
       "      <td>90000</td>\n",
       "      <td>2008</td>\n",
       "      <td>7</td>\n",
       "      <td>no</td>\n",
       "      <td>0</td>\n",
       "      <td>3600</td>\n",
       "      <td>2016-03-31</td>\n",
       "      <td>2016-03-31 17:25:20</td>\n",
       "      <td>2016-04-06 10:17:21</td>\n",
       "      <td>60437</td>\n",
       "    </tr>\n",
       "  </tbody>\n",
       "</table>\n",
       "</div>"
      ],
      "text/plain": [
       "        Brand  Model VehicleType Gearbox  Power  FuelType  Kilometer  \\\n",
       "0  volkswagen   golf         NaN  manual      0    petrol     150000   \n",
       "1        audi    NaN       coupe  manual    190  gasoline     125000   \n",
       "2        jeep  grand         suv    auto    163  gasoline     125000   \n",
       "3  volkswagen   golf       small  manual     75    petrol     150000   \n",
       "4       skoda  fabia       small  manual     69  gasoline      90000   \n",
       "\n",
       "   RegistrationYear  RegistrationMonth Repaired  NumberOfPictures  Price  \\\n",
       "0              1993                  0      NaN                 0    480   \n",
       "1              2011                  5      yes                 0  18300   \n",
       "2              2004                  8      NaN                 0   9800   \n",
       "3              2001                  6       no                 0   1500   \n",
       "4              2008                  7       no                 0   3600   \n",
       "\n",
       "  DateCreated         DateCrawled            LastSeen  PostalCode  \n",
       "0  2016-03-24 2016-03-24 11:52:17 2016-04-07 03:16:57       70435  \n",
       "1  2016-03-24 2016-03-24 10:58:45 2016-04-07 01:46:50       66954  \n",
       "2  2016-03-14 2016-03-14 12:52:21 2016-04-05 12:47:46       90480  \n",
       "3  2016-03-17 2016-03-17 16:54:04 2016-03-17 17:40:17       91074  \n",
       "4  2016-03-31 2016-03-31 17:25:20 2016-04-06 10:17:21       60437  "
      ]
     },
     "metadata": {},
     "output_type": "display_data"
    }
   ],
   "source": [
    "# изменение порядка столбцов\n",
    "df = df.reindex(columns=['Brand', 'Model', 'VehicleType', 'Gearbox', 'Power',  'FuelType', 'Kilometer',\n",
    "                         'RegistrationYear', 'RegistrationMonth', 'Repaired', 'NumberOfPictures', 'Price',\n",
    "                         'DateCreated', 'DateCrawled', 'LastSeen', 'PostalCode'])\n",
    "display(df.head())"
   ]
  },
  {
   "cell_type": "markdown",
   "metadata": {},
   "source": [
    "**Описание данны**:\n",
    "- `Brand` — марка автомобиля\n",
    "- `Model` — модель автомобиля\n",
    "- `VehicleType` — тип автомобильного кузова\n",
    "- `Gearbox` — тип коробки передач\n",
    "- `Power` — мощность (л. с.)\n",
    "- `FuelType` — тип топлива\n",
    "- `Kilometer` — пробег (км)\n",
    "- `RegistrationYear` — год первой регистрации автомобиля*\n",
    "- `RegistrationMonth` — месяц первой регистрации автомобиля*\n",
    "- `Repaired` — была машина в ремонте или нет\n",
    "- `NumberOfPictures` — количество фотографий автомобиля\n",
    "- `Price` — цена в евро, € (_целевой признак_)\n",
    "\n",
    "- `DateCreated` — дата публикации объявления**\n",
    "- `DateCrawled` — дата скачивания анкеты объявления из базы**\n",
    "- `LastSeen` — дата последней активности пользователя\n",
    "- `PostalCode` — почтовый индекс пользователя, разместившего объявления\n",
    "\n",
    "\n",
    "\\* первая регистрация автомобиля, сразу после его производства.\n",
    "\n",
    "\\** дата в формате: ГГГГ-ММ-ДД чч:мм:сс\n",
    "\n",
    "\\*** термин _анкета_, который использовался в формулировке задания, был замнён на слово _объявление_ для бóльшего понимания.\n"
   ]
  },
  {
   "cell_type": "code",
   "execution_count": 4,
   "metadata": {
    "scrolled": false
   },
   "outputs": [
    {
     "name": "stdout",
     "output_type": "stream",
     "text": [
      "<class 'pandas.core.frame.DataFrame'>\n",
      "RangeIndex: 354369 entries, 0 to 354368\n",
      "Data columns (total 16 columns):\n",
      " #   Column             Non-Null Count   Dtype         \n",
      "---  ------             --------------   -----         \n",
      " 0   Brand              354369 non-null  object        \n",
      " 1   Model              334664 non-null  object        \n",
      " 2   VehicleType        316879 non-null  object        \n",
      " 3   Gearbox            334536 non-null  object        \n",
      " 4   Power              354369 non-null  int64         \n",
      " 5   FuelType           321474 non-null  object        \n",
      " 6   Kilometer          354369 non-null  int64         \n",
      " 7   RegistrationYear   354369 non-null  int64         \n",
      " 8   RegistrationMonth  354369 non-null  int64         \n",
      " 9   Repaired           283215 non-null  object        \n",
      " 10  NumberOfPictures   354369 non-null  int64         \n",
      " 11  Price              354369 non-null  int64         \n",
      " 12  DateCreated        354369 non-null  datetime64[ns]\n",
      " 13  DateCrawled        354369 non-null  datetime64[ns]\n",
      " 14  LastSeen           354369 non-null  datetime64[ns]\n",
      " 15  PostalCode         354369 non-null  int64         \n",
      "dtypes: datetime64[ns](3), int64(7), object(6)\n",
      "memory usage: 43.3+ MB\n"
     ]
    }
   ],
   "source": [
    "df.info() # техническая информация о датасете"
   ]
  },
  {
   "cell_type": "code",
   "execution_count": 5,
   "metadata": {},
   "outputs": [],
   "source": [
    "# функция поиска пропусков\n",
    "def pass_value_barh(df):\n",
    "    try:\n",
    "        (\n",
    "            (df.isna().mean()*100)\n",
    "            .to_frame()\n",
    "            .rename(columns = {0:'space'})\n",
    "            .query('space > 0')\n",
    "            .sort_values(by = 'space', ascending = True)\n",
    "            .plot(kind='barh', figsize=(14, 6), grid=True, legend=False, title='Доля пропусков в датафрейма (значения в %)')\n",
    "        );\n",
    "    except:\n",
    "        print('Пропуски - отсутствуют.')"
   ]
  },
  {
   "cell_type": "code",
   "execution_count": 6,
   "metadata": {},
   "outputs": [
    {
     "data": {
      "image/png": "[encoded data removed]",
      "text/plain": [
       "<Figure size 1008x432 with 1 Axes>"
      ]
     },
     "metadata": {
      "needs_background": "light"
     },
     "output_type": "display_data"
    }
   ],
   "source": [
    "pass_value_barh(df)"
   ]
  },
  {
   "cell_type": "markdown",
   "metadata": {},
   "source": [
    "Датасет (набор данных) содержит более 354 000 строк и 16 столбцов. Каждая строчка это автомобиль, который выставлялся на продажу, где столбцы это параметры характеризующие этот автомобиль. Для каждого параметра установлен соответствующий тип данных.\n",
    "\n",
    "В датасете присутствуют дефекты:\n",
    "- пропуски в колонках: `VehicleType`, `Gearbox`, `Model`, `Fuel_type`, `Repaired`;\n",
    "- ошибки, к примеру: не указано стоимость автомобиля `Price = 0`;\n",
    "- возможно, присутствуют дубликаты.\n",
    "___"
   ]
  },
  {
   "cell_type": "markdown",
   "metadata": {},
   "source": [
    "## Предобработка данных"
   ]
  },
  {
   "cell_type": "markdown",
   "metadata": {},
   "source": [
    "### Стандартизация наименования колонок"
   ]
  },
  {
   "cell_type": "markdown",
   "metadata": {},
   "source": [
    "Текущее наименования колонок выглядят так: `Repaired`, `NumberOfPictures`. Такой облик называется \"_ВерблюжийРегистр_\".\n",
    "\n",
    "Но данные, содержащииеся в этих колонках, записаны в другом стиле: `renault`, `mercedes_benz`, а именно в \"змеином_регистре\", который является более распространённым и предпочтительным в сфере IT. По этой причине необходимо привести все названия к единому стандарту:"
   ]
  },
  {
   "cell_type": "code",
   "execution_count": 7,
   "metadata": {},
   "outputs": [],
   "source": [
    "# функция преобразования верблюжего регистра в змеиный\n",
    "def camel_to_snake(column):\n",
    "    for char in column:\n",
    "        if char.isupper():\n",
    "            column = column.replace(char, '_' + char.lower())\n",
    "    return column[1:]"
   ]
  },
  {
   "cell_type": "code",
   "execution_count": 8,
   "metadata": {
    "scrolled": false
   },
   "outputs": [
    {
     "name": "stdout",
     "output_type": "stream",
     "text": [
      "Новое оглавление колонок:\n",
      " Index(['brand', 'model', 'vehicle_type', 'gearbox', 'power', 'fuel_type',\n",
      "       'kilometer', 'registration_year', 'registration_month', 'repaired',\n",
      "       'number_of_pictures', 'price', 'date_created', 'date_crawled',\n",
      "       'last_seen', 'postal_code'],\n",
      "      dtype='object')\n"
     ]
    }
   ],
   "source": [
    "# переименовывание колонок\n",
    "for col in df.columns:\n",
    "    new_col = camel_to_snake(col)\n",
    "    df.rename(columns = {col : new_col}, inplace=True)\n",
    "\n",
    "# контроль\n",
    "print('Новое оглавление колонок:\\n', df.columns)"
   ]
  },
  {
   "cell_type": "markdown",
   "metadata": {},
   "source": [
    "###  Времянны́е периоды"
   ]
  },
  {
   "cell_type": "code",
   "execution_count": 9,
   "metadata": {
    "scrolled": true
   },
   "outputs": [
    {
     "name": "stdout",
     "output_type": "stream",
     "text": [
      "Период скачивания объявлений:    2016-03-05 - 2016-04-07\n",
      "Период публикаций объявлений:    2014-03-10 - 2016-04-07\n",
      "Период активности пользователей: 2016-03-05 - 2016-04-07\n"
     ]
    },
    {
     "data": {
      "text/html": [
       "<div>\n",
       "<style scoped>\n",
       "    .dataframe tbody tr th:only-of-type {\n",
       "        vertical-align: middle;\n",
       "    }\n",
       "\n",
       "    .dataframe tbody tr th {\n",
       "        vertical-align: top;\n",
       "    }\n",
       "\n",
       "    .dataframe thead th {\n",
       "        text-align: right;\n",
       "    }\n",
       "</style>\n",
       "<table border=\"1\" class=\"dataframe\">\n",
       "  <thead>\n",
       "    <tr style=\"text-align: right;\">\n",
       "      <th></th>\n",
       "      <th>count</th>\n",
       "    </tr>\n",
       "    <tr>\n",
       "      <th>year_created</th>\n",
       "      <th></th>\n",
       "    </tr>\n",
       "  </thead>\n",
       "  <tbody>\n",
       "    <tr>\n",
       "      <th>2014</th>\n",
       "      <td>1</td>\n",
       "    </tr>\n",
       "    <tr>\n",
       "      <th>2015</th>\n",
       "      <td>25</td>\n",
       "    </tr>\n",
       "    <tr>\n",
       "      <th>2016</th>\n",
       "      <td>354343</td>\n",
       "    </tr>\n",
       "  </tbody>\n",
       "</table>\n",
       "</div>"
      ],
      "text/plain": [
       "               count\n",
       "year_created        \n",
       "2014               1\n",
       "2015              25\n",
       "2016          354343"
      ]
     },
     "metadata": {},
     "output_type": "display_data"
    }
   ],
   "source": [
    "print('Период скачивания объявлений:   ',\n",
    "      df['date_crawled'].dt.date.min(), '-', df['date_crawled'].dt.date.max())\n",
    "\n",
    "print('Период публикаций объявлений:   ',\n",
    "      df['date_created'].dt.date.min(), '-', df['date_created'].dt.date.max())\n",
    "\n",
    "print('Период активности пользователей:',\n",
    "      df['last_seen'].dt.date.min(), '-', df['last_seen'].dt.date.max())\n",
    "\n",
    "df['year_created'] = df['date_created'].dt.year\n",
    "display(df.groupby('year_created')['brand'].count().to_frame().rename(columns = {'brand':'count'}))"
   ]
  },
  {
   "cell_type": "markdown",
   "metadata": {},
   "source": [
    "Скачивание объявлений просходило в течении 32 дней с марта по апрель в 2016 году.\n",
    "Судя по совпадению периодов скачивания объявления `date_crawled` и активности пользователей `last_seen`: в набор данных попали только активне пользователи, объявления которых **актуальны**, что заставляет их заходить на сайт и взаимодействовать с другими людьми.\n",
    "\n",
    "Подавляющее большинство объявлений приходится на **первые месяцы 2016 год**, и лишь штучные объявления до сих пор актуальных с прошлого и позапрошлого года. Для дальнейшей работы будут отобраны только актуальные объявления, для оценки которых необходимо взглянуть то как рапределились объявления в течении времени:"
   ]
  },
  {
   "cell_type": "code",
   "execution_count": 10,
   "metadata": {},
   "outputs": [
    {
     "data": {
      "image/png": "[encoded data removed]",
      "text/plain": [
       "<Figure size 1152x432 with 1 Axes>"
      ]
     },
     "metadata": {
      "needs_background": "light"
     },
     "output_type": "display_data"
    }
   ],
   "source": [
    "df['days'] = (df['date_created'].max() - df['date_created']).dt.components.days\n",
    "days_distribution = df['days'].value_counts().to_frame().reset_index().sort_values(by='index')\n",
    "days_distribution.plot(x='index', y='days', grid=True, figsize=(16, 6), legend=False, xlim=(0, 40),\n",
    "                            title='Срок публикации объявлений на сайте',\n",
    "                            ylabel='Количество объявлений',\n",
    "                            xlabel='Количество дней на сайте');"
   ]
  },
  {
   "cell_type": "markdown",
   "metadata": {},
   "source": [
    "Из графика видно, что основная часть объявлений актуальны **не более 35 дней**, все что свыше - автомобиль уже продан. Конечно, есть исключительные авто с большим сроком продажи, но эти случаи не носят массовый характер, и будут исключены из даньшейней работы."
   ]
  },
  {
   "cell_type": "code",
   "execution_count": 11,
   "metadata": {},
   "outputs": [
    {
     "name": "stdout",
     "output_type": "stream",
     "text": [
      "Из датасета удалено 580 авто.\n"
     ]
    }
   ],
   "source": [
    "# удаление нетипичных объектов\n",
    "print(f'Из датасета удалено {len(df.query(\"days > 35\"))} авто.')\n",
    "df.query('days <= 35', inplace=True)"
   ]
  },
  {
   "cell_type": "markdown",
   "metadata": {},
   "source": [
    "### Дубликаты"
   ]
  },
  {
   "cell_type": "markdown",
   "metadata": {},
   "source": [
    "Поскольку достоверно не известны критерии отбора объявлений при скачивания, нет возможности проконтролировать качество этого процесса. По этой причне будет выполнена проверна наличия повторно скаченных объявлений. В случае их обнаружения дубликаты будут удалены."
   ]
  },
  {
   "cell_type": "code",
   "execution_count": 12,
   "metadata": {},
   "outputs": [
    {
     "data": {
      "text/html": [
       "<div>\n",
       "<style scoped>\n",
       "    .dataframe tbody tr th:only-of-type {\n",
       "        vertical-align: middle;\n",
       "    }\n",
       "\n",
       "    .dataframe tbody tr th {\n",
       "        vertical-align: top;\n",
       "    }\n",
       "\n",
       "    .dataframe thead th {\n",
       "        text-align: right;\n",
       "    }\n",
       "</style>\n",
       "<table border=\"1\" class=\"dataframe\">\n",
       "  <thead>\n",
       "    <tr style=\"text-align: right;\">\n",
       "      <th></th>\n",
       "      <th>brand</th>\n",
       "      <th>model</th>\n",
       "      <th>vehicle_type</th>\n",
       "      <th>gearbox</th>\n",
       "      <th>power</th>\n",
       "      <th>fuel_type</th>\n",
       "      <th>kilometer</th>\n",
       "      <th>registration_year</th>\n",
       "      <th>registration_month</th>\n",
       "      <th>repaired</th>\n",
       "      <th>number_of_pictures</th>\n",
       "      <th>price</th>\n",
       "      <th>date_created</th>\n",
       "      <th>date_crawled</th>\n",
       "      <th>last_seen</th>\n",
       "      <th>postal_code</th>\n",
       "      <th>year_created</th>\n",
       "      <th>days</th>\n",
       "    </tr>\n",
       "  </thead>\n",
       "  <tbody>\n",
       "    <tr>\n",
       "      <th>4222</th>\n",
       "      <td>audi</td>\n",
       "      <td>a6</td>\n",
       "      <td>wagon</td>\n",
       "      <td>manual</td>\n",
       "      <td>140</td>\n",
       "      <td>gasoline</td>\n",
       "      <td>100000</td>\n",
       "      <td>2007</td>\n",
       "      <td>3</td>\n",
       "      <td>no</td>\n",
       "      <td>0</td>\n",
       "      <td>14500</td>\n",
       "      <td>2016-03-19</td>\n",
       "      <td>2016-03-19 21:54:30</td>\n",
       "      <td>2016-04-05 11:49:20</td>\n",
       "      <td>94060</td>\n",
       "      <td>2016</td>\n",
       "      <td>19</td>\n",
       "    </tr>\n",
       "    <tr>\n",
       "      <th>6360</th>\n",
       "      <td>volkswagen</td>\n",
       "      <td>golf</td>\n",
       "      <td>sedan</td>\n",
       "      <td>manual</td>\n",
       "      <td>140</td>\n",
       "      <td>gasoline</td>\n",
       "      <td>150000</td>\n",
       "      <td>2009</td>\n",
       "      <td>2</td>\n",
       "      <td>no</td>\n",
       "      <td>0</td>\n",
       "      <td>7199</td>\n",
       "      <td>2016-03-23</td>\n",
       "      <td>2016-03-23 15:47:35</td>\n",
       "      <td>2016-04-05 18:44:54</td>\n",
       "      <td>30657</td>\n",
       "      <td>2016</td>\n",
       "      <td>15</td>\n",
       "    </tr>\n",
       "    <tr>\n",
       "      <th>6503</th>\n",
       "      <td>ford</td>\n",
       "      <td>focus</td>\n",
       "      <td>sedan</td>\n",
       "      <td>manual</td>\n",
       "      <td>115</td>\n",
       "      <td>gasoline</td>\n",
       "      <td>150000</td>\n",
       "      <td>2004</td>\n",
       "      <td>6</td>\n",
       "      <td>NaN</td>\n",
       "      <td>0</td>\n",
       "      <td>1700</td>\n",
       "      <td>2016-03-10</td>\n",
       "      <td>2016-03-10 12:37:21</td>\n",
       "      <td>2016-03-24 13:44:37</td>\n",
       "      <td>78073</td>\n",
       "      <td>2016</td>\n",
       "      <td>28</td>\n",
       "    </tr>\n",
       "    <tr>\n",
       "      <th>8803</th>\n",
       "      <td>ford</td>\n",
       "      <td>mondeo</td>\n",
       "      <td>sedan</td>\n",
       "      <td>manual</td>\n",
       "      <td>0</td>\n",
       "      <td>gasoline</td>\n",
       "      <td>150000</td>\n",
       "      <td>2004</td>\n",
       "      <td>9</td>\n",
       "      <td>NaN</td>\n",
       "      <td>0</td>\n",
       "      <td>1700</td>\n",
       "      <td>2016-03-12</td>\n",
       "      <td>2016-03-12 19:52:18</td>\n",
       "      <td>2016-03-12 19:52:18</td>\n",
       "      <td>53520</td>\n",
       "      <td>2016</td>\n",
       "      <td>26</td>\n",
       "    </tr>\n",
       "    <tr>\n",
       "      <th>9025</th>\n",
       "      <td>volkswagen</td>\n",
       "      <td>polo</td>\n",
       "      <td>small</td>\n",
       "      <td>manual</td>\n",
       "      <td>50</td>\n",
       "      <td>petrol</td>\n",
       "      <td>150000</td>\n",
       "      <td>2000</td>\n",
       "      <td>10</td>\n",
       "      <td>no</td>\n",
       "      <td>0</td>\n",
       "      <td>1600</td>\n",
       "      <td>2016-03-24</td>\n",
       "      <td>2016-03-24 01:37:02</td>\n",
       "      <td>2016-04-06 01:46:51</td>\n",
       "      <td>38179</td>\n",
       "      <td>2016</td>\n",
       "      <td>14</td>\n",
       "    </tr>\n",
       "    <tr>\n",
       "      <th>...</th>\n",
       "      <td>...</td>\n",
       "      <td>...</td>\n",
       "      <td>...</td>\n",
       "      <td>...</td>\n",
       "      <td>...</td>\n",
       "      <td>...</td>\n",
       "      <td>...</td>\n",
       "      <td>...</td>\n",
       "      <td>...</td>\n",
       "      <td>...</td>\n",
       "      <td>...</td>\n",
       "      <td>...</td>\n",
       "      <td>...</td>\n",
       "      <td>...</td>\n",
       "      <td>...</td>\n",
       "      <td>...</td>\n",
       "      <td>...</td>\n",
       "      <td>...</td>\n",
       "    </tr>\n",
       "    <tr>\n",
       "      <th>354311</th>\n",
       "      <td>volkswagen</td>\n",
       "      <td>golf</td>\n",
       "      <td>sedan</td>\n",
       "      <td>manual</td>\n",
       "      <td>105</td>\n",
       "      <td>gasoline</td>\n",
       "      <td>150000</td>\n",
       "      <td>2006</td>\n",
       "      <td>6</td>\n",
       "      <td>no</td>\n",
       "      <td>0</td>\n",
       "      <td>3000</td>\n",
       "      <td>2016-03-08</td>\n",
       "      <td>2016-03-08 20:43:20</td>\n",
       "      <td>2016-03-08 20:43:20</td>\n",
       "      <td>1217</td>\n",
       "      <td>2016</td>\n",
       "      <td>30</td>\n",
       "    </tr>\n",
       "    <tr>\n",
       "      <th>354317</th>\n",
       "      <td>seat</td>\n",
       "      <td>ibiza</td>\n",
       "      <td>small</td>\n",
       "      <td>manual</td>\n",
       "      <td>86</td>\n",
       "      <td>petrol</td>\n",
       "      <td>90000</td>\n",
       "      <td>2009</td>\n",
       "      <td>6</td>\n",
       "      <td>no</td>\n",
       "      <td>0</td>\n",
       "      <td>5990</td>\n",
       "      <td>2016-03-19</td>\n",
       "      <td>2016-03-19 19:44:29</td>\n",
       "      <td>2016-03-24 15:17:52</td>\n",
       "      <td>51371</td>\n",
       "      <td>2016</td>\n",
       "      <td>19</td>\n",
       "    </tr>\n",
       "    <tr>\n",
       "      <th>354352</th>\n",
       "      <td>mercedes_benz</td>\n",
       "      <td>e_klasse</td>\n",
       "      <td>sedan</td>\n",
       "      <td>auto</td>\n",
       "      <td>145</td>\n",
       "      <td>gasoline</td>\n",
       "      <td>150000</td>\n",
       "      <td>2003</td>\n",
       "      <td>3</td>\n",
       "      <td>no</td>\n",
       "      <td>0</td>\n",
       "      <td>6500</td>\n",
       "      <td>2016-03-05</td>\n",
       "      <td>2016-03-06 21:11:23</td>\n",
       "      <td>2016-03-12 12:18:05</td>\n",
       "      <td>60437</td>\n",
       "      <td>2016</td>\n",
       "      <td>33</td>\n",
       "    </tr>\n",
       "    <tr>\n",
       "      <th>354355</th>\n",
       "      <td>seat</td>\n",
       "      <td>leon</td>\n",
       "      <td>sedan</td>\n",
       "      <td>manual</td>\n",
       "      <td>105</td>\n",
       "      <td>gasoline</td>\n",
       "      <td>150000</td>\n",
       "      <td>2008</td>\n",
       "      <td>7</td>\n",
       "      <td>no</td>\n",
       "      <td>0</td>\n",
       "      <td>4400</td>\n",
       "      <td>2016-03-21</td>\n",
       "      <td>2016-03-21 15:36:22</td>\n",
       "      <td>2016-04-06 15:45:01</td>\n",
       "      <td>45896</td>\n",
       "      <td>2016</td>\n",
       "      <td>17</td>\n",
       "    </tr>\n",
       "    <tr>\n",
       "      <th>354363</th>\n",
       "      <td>opel</td>\n",
       "      <td>zafira</td>\n",
       "      <td>bus</td>\n",
       "      <td>manual</td>\n",
       "      <td>0</td>\n",
       "      <td>petrol</td>\n",
       "      <td>150000</td>\n",
       "      <td>2000</td>\n",
       "      <td>3</td>\n",
       "      <td>no</td>\n",
       "      <td>0</td>\n",
       "      <td>1150</td>\n",
       "      <td>2016-03-27</td>\n",
       "      <td>2016-03-27 20:36:20</td>\n",
       "      <td>2016-03-29 10:17:23</td>\n",
       "      <td>26624</td>\n",
       "      <td>2016</td>\n",
       "      <td>11</td>\n",
       "    </tr>\n",
       "  </tbody>\n",
       "</table>\n",
       "<p>11765 rows × 18 columns</p>\n",
       "</div>"
      ],
      "text/plain": [
       "                brand     model vehicle_type gearbox  power fuel_type  \\\n",
       "4222             audi        a6        wagon  manual    140  gasoline   \n",
       "6360       volkswagen      golf        sedan  manual    140  gasoline   \n",
       "6503             ford     focus        sedan  manual    115  gasoline   \n",
       "8803             ford    mondeo        sedan  manual      0  gasoline   \n",
       "9025       volkswagen      polo        small  manual     50    petrol   \n",
       "...               ...       ...          ...     ...    ...       ...   \n",
       "354311     volkswagen      golf        sedan  manual    105  gasoline   \n",
       "354317           seat     ibiza        small  manual     86    petrol   \n",
       "354352  mercedes_benz  e_klasse        sedan    auto    145  gasoline   \n",
       "354355           seat      leon        sedan  manual    105  gasoline   \n",
       "354363           opel    zafira          bus  manual      0    petrol   \n",
       "\n",
       "        kilometer  registration_year  registration_month repaired  \\\n",
       "4222       100000               2007                   3       no   \n",
       "6360       150000               2009                   2       no   \n",
       "6503       150000               2004                   6      NaN   \n",
       "8803       150000               2004                   9      NaN   \n",
       "9025       150000               2000                  10       no   \n",
       "...           ...                ...                 ...      ...   \n",
       "354311     150000               2006                   6       no   \n",
       "354317      90000               2009                   6       no   \n",
       "354352     150000               2003                   3       no   \n",
       "354355     150000               2008                   7       no   \n",
       "354363     150000               2000                   3       no   \n",
       "\n",
       "        number_of_pictures  price date_created        date_crawled  \\\n",
       "4222                     0  14500   2016-03-19 2016-03-19 21:54:30   \n",
       "6360                     0   7199   2016-03-23 2016-03-23 15:47:35   \n",
       "6503                     0   1700   2016-03-10 2016-03-10 12:37:21   \n",
       "8803                     0   1700   2016-03-12 2016-03-12 19:52:18   \n",
       "9025                     0   1600   2016-03-24 2016-03-24 01:37:02   \n",
       "...                    ...    ...          ...                 ...   \n",
       "354311                   0   3000   2016-03-08 2016-03-08 20:43:20   \n",
       "354317                   0   5990   2016-03-19 2016-03-19 19:44:29   \n",
       "354352                   0   6500   2016-03-05 2016-03-06 21:11:23   \n",
       "354355                   0   4400   2016-03-21 2016-03-21 15:36:22   \n",
       "354363                   0   1150   2016-03-27 2016-03-27 20:36:20   \n",
       "\n",
       "                 last_seen  postal_code  year_created  days  \n",
       "4222   2016-04-05 11:49:20        94060          2016    19  \n",
       "6360   2016-04-05 18:44:54        30657          2016    15  \n",
       "6503   2016-03-24 13:44:37        78073          2016    28  \n",
       "8803   2016-03-12 19:52:18        53520          2016    26  \n",
       "9025   2016-04-06 01:46:51        38179          2016    14  \n",
       "...                    ...          ...           ...   ...  \n",
       "354311 2016-03-08 20:43:20         1217          2016    30  \n",
       "354317 2016-03-24 15:17:52        51371          2016    19  \n",
       "354352 2016-03-12 12:18:05        60437          2016    33  \n",
       "354355 2016-04-06 15:45:01        45896          2016    17  \n",
       "354363 2016-03-29 10:17:23        26624          2016    11  \n",
       "\n",
       "[11765 rows x 18 columns]"
      ]
     },
     "metadata": {},
     "output_type": "display_data"
    },
    {
     "name": "stdout",
     "output_type": "stream",
     "text": [
      "\n",
      " Из датасета удалено 11765 авто.\n"
     ]
    }
   ],
   "source": [
    "# поиск дубликатов\n",
    "dupl_autos = df[df[['brand', 'model', 'vehicle_type', 'gearbox', 'power', 'fuel_type', 'kilometer',\n",
    "                    'registration_year', 'registration_month', 'repaired', 'price', 'date_created']].duplicated()].index\n",
    "\n",
    "display(df.loc[dupl_autos])\n",
    "df.drop(dupl_autos, inplace=True)\n",
    "print(f'\\n Из датасета удалено {len(dupl_autos)} авто.')"
   ]
  },
  {
   "cell_type": "markdown",
   "metadata": {},
   "source": [
    "### Дата регистрации авто"
   ]
  },
  {
   "cell_type": "markdown",
   "metadata": {},
   "source": [
    "Под датой регистрации авто подразумевается момент _первичной регистрации_. Эта дата точнее характеризует автомобиль, чем дата его изготовления, посколько с момента производства до **момента начала эксплуотации** автомобиля может пройти некоторое количество времени, которое индивидуально для каждого авто. Её значения параллельны дате выпуска конкретной модели: имеют сходие границы, но доставерно угадать - невозможно. По этой причине, из датасета будут удалены автомобили дата регистрации которых:\n",
    "- новее чем дата скачивания самого датасета (апрель 2016)\n",
    "- старше 1990 (год, с которого начался сремительный рост кол-ва автомобилей на потребительском рынке)"
   ]
  },
  {
   "cell_type": "code",
   "execution_count": 13,
   "metadata": {},
   "outputs": [
    {
     "data": {
      "image/png": "[encoded data removed]",
      "text/plain": [
       "<Figure size 1296x432 with 1 Axes>"
      ]
     },
     "metadata": {
      "needs_background": "light"
     },
     "output_type": "display_data"
    }
   ],
   "source": [
    "# распределение автомобилей по году регистрации\n",
    "reg_years_distribution = df['registration_year'].value_counts().to_frame().reset_index().sort_values(by='index')\n",
    "reg_years_distribution.plot(x='index', y='registration_year', grid=True, figsize=(18, 6), legend=False, xlim=(1980, 2016),\n",
    "                            title='Графики распределения количества автомобилей по году первичной регистрации',\n",
    "                            ylabel='Количество автомобилей',\n",
    "                            xlabel='Год регистрации');"
   ]
  },
  {
   "cell_type": "code",
   "execution_count": 14,
   "metadata": {},
   "outputs": [
    {
     "name": "stdout",
     "output_type": "stream",
     "text": [
      "Из датасета удалено 28303 авто.\n"
     ]
    }
   ],
   "source": [
    "# удаление аномалий и выбрасов по году регистрации\n",
    "delete_index = df[(((df['registration_year'] >  2016) | (df['registration_year'] < 1990)) |\n",
    "                  ((df['registration_year'] == 2016) & (df['registration_month'] > 4)))].index\n",
    "\n",
    "print(f'Из датасета удалено {len(delete_index)} авто.')\n",
    "df.drop(delete_index, inplace=True)"
   ]
  },
  {
   "cell_type": "markdown",
   "metadata": {},
   "source": [
    "### Мощность двигателя"
   ]
  },
  {
   "cell_type": "code",
   "execution_count": 15,
   "metadata": {},
   "outputs": [
    {
     "name": "stdout",
     "output_type": "stream",
     "text": [
      "Диапазон мощностей автомобилей в исходном датасете: 0 - 20000 л.с.\n"
     ]
    }
   ],
   "source": [
    "print(f\"Диапазон мощностей автомобилей в исходном датасете: {df['power'].min()} - {df['power'].max()} л.с.\")"
   ]
  },
  {
   "cell_type": "markdown",
   "metadata": {},
   "source": [
    "Поскольку диапазон значений весьма велик, но будет уменьшен в два этапа:\n",
    "- **грубый этап**, но котором будут отсечены явно ошибочные значения (к примеру 2 л.с. или 20 000 л.с.). Диапазон сузится до значений самого маломощного и самого многомощный автомобилей, данных которых можно подтвердить.\n",
    "- **точный этап**, на котором диапазо можности сузиться до значений большинства автомобилей. Эти значения будут расчитаны автоматически для каждого типа кузова с помощью межквартильного размаха (пологая, что значения распределены нормально).\n",
    "\n",
    "Это необходимо чтобы снизить влияние особо больших _выбрасов_. Остальные автомобили будут считаться непопулярными или аномальными.\n",
    "\n",
    "Самым _маломощным_ автомобилем (26 л.с.), для которого получилось найти подтверждение, оказался [Trabant 601](https://ru.wikipedia.org/wiki/Trabant) микролитражный серийный автомобиль, выпущенный тиражом около 3 млн. автомобилей, и ставший символом ГДР (Германская Демократическая Республика).\n",
    "\n",
    "Самым _многомощным_ (408 л.с.) авто будет считаться [Porsche 911](https://ru.wikipedia.org/wiki/Porsche_993) 4ого покаления, известный спорткар, не нуждающийся в предствалении."
   ]
  },
  {
   "cell_type": "code",
   "execution_count": 16,
   "metadata": {},
   "outputs": [
    {
     "name": "stdout",
     "output_type": "stream",
     "text": [
      "Из датасета удалено 32887 авто.\n"
     ]
    },
    {
     "data": {
      "image/png": "[encoded data removed]",
      "text/plain": [
       "<Figure size 1152x576 with 1 Axes>"
      ]
     },
     "metadata": {},
     "output_type": "display_data"
    }
   ],
   "source": [
    "# грубый этап удаления аномалий\n",
    "print(f'Из датасета удалено {len(df[(df[\"power\"]<26) | (df[\"power\"]>408)])} авто.')\n",
    "df = df[(df['power'] >= 26) & (df['power'] <= 408)]\n",
    "\n",
    "sns.set(rc = {'figure.figsize':(16, 8)})\n",
    "sns.set_theme(style=\"whitegrid\")\n",
    "\n",
    "sns.boxplot(data=df, x='vehicle_type', y='power')\n",
    "plt.title('Распределение двигателя  среди разных типов кузова автомобиля')\n",
    "plt.ylabel('Мощность двигателя, л.с.')\n",
    "plt.xlabel('Типы кузова');"
   ]
  },
  {
   "cell_type": "code",
   "execution_count": 17,
   "metadata": {
    "scrolled": false
   },
   "outputs": [
    {
     "data": {
      "image/png": "[encoded data removed]",
      "text/plain": [
       "<Figure size 1152x576 with 1 Axes>"
      ]
     },
     "metadata": {},
     "output_type": "display_data"
    }
   ],
   "source": [
    "# точный этап удаления выбрасов\n",
    "for body_type in ['sedan', 'small', 'wagon', 'bus', 'convertible', 'coupe', 'suv', 'other']:\n",
    "    Q1, Q3 = df.loc[df['vehicle_type']==body_type, 'power'].quantile([0.25, 0.75])\n",
    "    IQR = Q3 - Q1\n",
    "    delete_index = df[(df['vehicle_type'] == body_type) &\n",
    "                      ((df['power'] <= (Q1 - 1.5*IQR)) |\n",
    "                       (df['power'] >= (Q3 + 1.5*IQR)))].index\n",
    "    df.drop(delete_index, inplace=True)\n",
    "\n",
    "sns.boxplot(data=df, x='vehicle_type', y='power')\n",
    "plt.title('Распределение двигателя  среди разных типов кузова автомобиля')\n",
    "plt.ylabel('Мощность двигателя, л.с.')\n",
    "plt.xlabel('Типы кузова');"
   ]
  },
  {
   "cell_type": "markdown",
   "metadata": {},
   "source": [
    "### Тип топлива"
   ]
  },
  {
   "cell_type": "code",
   "execution_count": 18,
   "metadata": {
    "scrolled": false
   },
   "outputs": [
    {
     "data": {
      "text/html": [
       "<div>\n",
       "<style scoped>\n",
       "    .dataframe tbody tr th:only-of-type {\n",
       "        vertical-align: middle;\n",
       "    }\n",
       "\n",
       "    .dataframe tbody tr th {\n",
       "        vertical-align: top;\n",
       "    }\n",
       "\n",
       "    .dataframe thead th {\n",
       "        text-align: right;\n",
       "    }\n",
       "</style>\n",
       "<table border=\"1\" class=\"dataframe\">\n",
       "  <thead>\n",
       "    <tr style=\"text-align: right;\">\n",
       "      <th></th>\n",
       "      <th>fuel_type</th>\n",
       "      <th>count</th>\n",
       "    </tr>\n",
       "  </thead>\n",
       "  <tbody>\n",
       "    <tr>\n",
       "      <th>0</th>\n",
       "      <td>petrol</td>\n",
       "      <td>169515</td>\n",
       "    </tr>\n",
       "    <tr>\n",
       "      <th>1</th>\n",
       "      <td>gasoline</td>\n",
       "      <td>82205</td>\n",
       "    </tr>\n",
       "    <tr>\n",
       "      <th>2</th>\n",
       "      <td>NaN</td>\n",
       "      <td>14002</td>\n",
       "    </tr>\n",
       "    <tr>\n",
       "      <th>3</th>\n",
       "      <td>lpg</td>\n",
       "      <td>4029</td>\n",
       "    </tr>\n",
       "    <tr>\n",
       "      <th>4</th>\n",
       "      <td>cng</td>\n",
       "      <td>469</td>\n",
       "    </tr>\n",
       "    <tr>\n",
       "      <th>5</th>\n",
       "      <td>hybrid</td>\n",
       "      <td>189</td>\n",
       "    </tr>\n",
       "    <tr>\n",
       "      <th>6</th>\n",
       "      <td>other</td>\n",
       "      <td>48</td>\n",
       "    </tr>\n",
       "    <tr>\n",
       "      <th>7</th>\n",
       "      <td>electric</td>\n",
       "      <td>36</td>\n",
       "    </tr>\n",
       "  </tbody>\n",
       "</table>\n",
       "</div>"
      ],
      "text/plain": [
       "  fuel_type   count\n",
       "0    petrol  169515\n",
       "1  gasoline   82205\n",
       "2       NaN   14002\n",
       "3       lpg    4029\n",
       "4       cng     469\n",
       "5    hybrid     189\n",
       "6     other      48\n",
       "7  electric      36"
      ]
     },
     "metadata": {},
     "output_type": "display_data"
    }
   ],
   "source": [
    "# подсчёт численности каждой категории авто\n",
    "display(df['fuel_type']\n",
    "        .value_counts(dropna=False)\n",
    "        .to_frame()\n",
    "        .reset_index()\n",
    "        .rename(columns = {'fuel_type':'count', 'index':'fuel_type'}))"
   ]
  },
  {
   "cell_type": "markdown",
   "metadata": {},
   "source": [
    "- `gasoline` и `petrol` - **бензин**. Фактически являются одним и тем топливом. А разное название пошли из двух стран: Великобритания и США, соответственно. Это может свидетельствовать о проихождении автомобиля, но косвенно. По этому все бензиновые автомобили будут объеденены под единым название `petrol`, поскольку оно вдвое распространённей.\n",
    "- `lpg` - сжиженные **углеводородные газы** (обычно это смесь пропан-бутана)\n",
    "- `cng` - компримированный **природный газ** (метан)\n",
    "- `electric` - **электроэнергия** \n",
    "- `hybrid` - **гибридный** тип, который совмещает несколько типов топлива в одном автомобиле. Распрастранённый пример: бензиновый и электрический двигатели установленные в автомобиле Toyota Prius.\n",
    "- `other` - **дргие** виды топлива, которые не попали в основные групы, либо не были явно указаны в объявлении."
   ]
  },
  {
   "cell_type": "code",
   "execution_count": 19,
   "metadata": {},
   "outputs": [
    {
     "name": "stdout",
     "output_type": "stream",
     "text": [
      "Количество автомобилей с типом топлива \"gasoline\": 0\n",
      "Количество автомобилей с типом топлива \"petrol\"  : 251720\n"
     ]
    }
   ],
   "source": [
    "# замена типа топлива \"gasoline\" на \"petrol\"\n",
    "df.loc[df['fuel_type']=='gasoline', 'fuel_type'] = 'petrol'\n",
    "print('Количество автомобилей с типом топлива \"gasoline\":', len(df.query('fuel_type==\"gasoline\"')))\n",
    "print('Количество автомобилей с типом топлива \"petrol\"  :', len(df.query('fuel_type==\"petrol\"')))"
   ]
  },
  {
   "cell_type": "code",
   "execution_count": 20,
   "metadata": {
    "scrolled": false
   },
   "outputs": [
    {
     "name": "stdout",
     "output_type": "stream",
     "text": [
      "\n",
      "Примеры автомобилей с каждым типом используемого топлива.\n"
     ]
    },
    {
     "data": {
      "text/html": [
       "<div>\n",
       "<style scoped>\n",
       "    .dataframe tbody tr th:only-of-type {\n",
       "        vertical-align: middle;\n",
       "    }\n",
       "\n",
       "    .dataframe tbody tr th {\n",
       "        vertical-align: top;\n",
       "    }\n",
       "\n",
       "    .dataframe thead th {\n",
       "        text-align: right;\n",
       "    }\n",
       "</style>\n",
       "<table border=\"1\" class=\"dataframe\">\n",
       "  <thead>\n",
       "    <tr style=\"text-align: right;\">\n",
       "      <th></th>\n",
       "      <th>brand</th>\n",
       "      <th>model</th>\n",
       "      <th>vehicle_type</th>\n",
       "      <th>gearbox</th>\n",
       "      <th>power</th>\n",
       "      <th>fuel_type</th>\n",
       "      <th>kilometer</th>\n",
       "      <th>registration_year</th>\n",
       "      <th>registration_month</th>\n",
       "      <th>repaired</th>\n",
       "      <th>number_of_pictures</th>\n",
       "      <th>price</th>\n",
       "      <th>date_created</th>\n",
       "      <th>date_crawled</th>\n",
       "      <th>last_seen</th>\n",
       "      <th>postal_code</th>\n",
       "      <th>year_created</th>\n",
       "      <th>days</th>\n",
       "    </tr>\n",
       "  </thead>\n",
       "  <tbody>\n",
       "    <tr>\n",
       "      <th>2</th>\n",
       "      <td>jeep</td>\n",
       "      <td>grand</td>\n",
       "      <td>suv</td>\n",
       "      <td>auto</td>\n",
       "      <td>163</td>\n",
       "      <td>petrol</td>\n",
       "      <td>125000</td>\n",
       "      <td>2004</td>\n",
       "      <td>8</td>\n",
       "      <td>NaN</td>\n",
       "      <td>0</td>\n",
       "      <td>9800</td>\n",
       "      <td>2016-03-14</td>\n",
       "      <td>2016-03-14 12:52:21</td>\n",
       "      <td>2016-04-05 12:47:46</td>\n",
       "      <td>90480</td>\n",
       "      <td>2016</td>\n",
       "      <td>24</td>\n",
       "    </tr>\n",
       "    <tr>\n",
       "      <th>152</th>\n",
       "      <td>opel</td>\n",
       "      <td>meriva</td>\n",
       "      <td>bus</td>\n",
       "      <td>manual</td>\n",
       "      <td>101</td>\n",
       "      <td>lpg</td>\n",
       "      <td>150000</td>\n",
       "      <td>2004</td>\n",
       "      <td>10</td>\n",
       "      <td>yes</td>\n",
       "      <td>0</td>\n",
       "      <td>0</td>\n",
       "      <td>2016-03-11</td>\n",
       "      <td>2016-03-11 18:55:53</td>\n",
       "      <td>2016-03-12 23:47:10</td>\n",
       "      <td>27432</td>\n",
       "      <td>2016</td>\n",
       "      <td>27</td>\n",
       "    </tr>\n",
       "    <tr>\n",
       "      <th>2315</th>\n",
       "      <td>opel</td>\n",
       "      <td>zafira</td>\n",
       "      <td>bus</td>\n",
       "      <td>manual</td>\n",
       "      <td>150</td>\n",
       "      <td>cng</td>\n",
       "      <td>125000</td>\n",
       "      <td>2009</td>\n",
       "      <td>11</td>\n",
       "      <td>no</td>\n",
       "      <td>0</td>\n",
       "      <td>8600</td>\n",
       "      <td>2016-03-27</td>\n",
       "      <td>2016-03-27 14:37:04</td>\n",
       "      <td>2016-04-07 10:45:26</td>\n",
       "      <td>88048</td>\n",
       "      <td>2016</td>\n",
       "      <td>11</td>\n",
       "    </tr>\n",
       "    <tr>\n",
       "      <th>3244</th>\n",
       "      <td>citroen</td>\n",
       "      <td>c5</td>\n",
       "      <td>sedan</td>\n",
       "      <td>manual</td>\n",
       "      <td>99</td>\n",
       "      <td>electric</td>\n",
       "      <td>100000</td>\n",
       "      <td>1999</td>\n",
       "      <td>3</td>\n",
       "      <td>yes</td>\n",
       "      <td>0</td>\n",
       "      <td>0</td>\n",
       "      <td>2016-03-30</td>\n",
       "      <td>2016-03-30 08:57:11</td>\n",
       "      <td>2016-04-07 01:15:34</td>\n",
       "      <td>6842</td>\n",
       "      <td>2016</td>\n",
       "      <td>8</td>\n",
       "    </tr>\n",
       "    <tr>\n",
       "      <th>1075</th>\n",
       "      <td>toyota</td>\n",
       "      <td>other</td>\n",
       "      <td>sedan</td>\n",
       "      <td>auto</td>\n",
       "      <td>100</td>\n",
       "      <td>hybrid</td>\n",
       "      <td>150000</td>\n",
       "      <td>2007</td>\n",
       "      <td>9</td>\n",
       "      <td>no</td>\n",
       "      <td>0</td>\n",
       "      <td>5750</td>\n",
       "      <td>2016-03-26</td>\n",
       "      <td>2016-03-26 12:58:01</td>\n",
       "      <td>2016-03-29 15:16:05</td>\n",
       "      <td>32427</td>\n",
       "      <td>2016</td>\n",
       "      <td>12</td>\n",
       "    </tr>\n",
       "    <tr>\n",
       "      <th>363</th>\n",
       "      <td>ford</td>\n",
       "      <td>focus</td>\n",
       "      <td>sedan</td>\n",
       "      <td>manual</td>\n",
       "      <td>125</td>\n",
       "      <td>other</td>\n",
       "      <td>125000</td>\n",
       "      <td>2007</td>\n",
       "      <td>9</td>\n",
       "      <td>no</td>\n",
       "      <td>0</td>\n",
       "      <td>6500</td>\n",
       "      <td>2016-03-14</td>\n",
       "      <td>2016-03-14 23:52:32</td>\n",
       "      <td>2016-04-05 11:51:03</td>\n",
       "      <td>97199</td>\n",
       "      <td>2016</td>\n",
       "      <td>24</td>\n",
       "    </tr>\n",
       "  </tbody>\n",
       "</table>\n",
       "</div>"
      ],
      "text/plain": [
       "        brand   model vehicle_type gearbox  power fuel_type  kilometer  \\\n",
       "2        jeep   grand          suv    auto    163    petrol     125000   \n",
       "152      opel  meriva          bus  manual    101       lpg     150000   \n",
       "2315     opel  zafira          bus  manual    150       cng     125000   \n",
       "3244  citroen      c5        sedan  manual     99  electric     100000   \n",
       "1075   toyota   other        sedan    auto    100    hybrid     150000   \n",
       "363      ford   focus        sedan  manual    125     other     125000   \n",
       "\n",
       "      registration_year  registration_month repaired  number_of_pictures  \\\n",
       "2                  2004                   8      NaN                   0   \n",
       "152                2004                  10      yes                   0   \n",
       "2315               2009                  11       no                   0   \n",
       "3244               1999                   3      yes                   0   \n",
       "1075               2007                   9       no                   0   \n",
       "363                2007                   9       no                   0   \n",
       "\n",
       "      price date_created        date_crawled           last_seen  postal_code  \\\n",
       "2      9800   2016-03-14 2016-03-14 12:52:21 2016-04-05 12:47:46        90480   \n",
       "152       0   2016-03-11 2016-03-11 18:55:53 2016-03-12 23:47:10        27432   \n",
       "2315   8600   2016-03-27 2016-03-27 14:37:04 2016-04-07 10:45:26        88048   \n",
       "3244      0   2016-03-30 2016-03-30 08:57:11 2016-04-07 01:15:34         6842   \n",
       "1075   5750   2016-03-26 2016-03-26 12:58:01 2016-03-29 15:16:05        32427   \n",
       "363    6500   2016-03-14 2016-03-14 23:52:32 2016-04-05 11:51:03        97199   \n",
       "\n",
       "      year_created  days  \n",
       "2             2016    24  \n",
       "152           2016    27  \n",
       "2315          2016    11  \n",
       "3244          2016     8  \n",
       "1075          2016    12  \n",
       "363           2016    24  "
      ]
     },
     "metadata": {},
     "output_type": "display_data"
    }
   ],
   "source": [
    "fuel_index = []\n",
    "for fuel_type in ['petrol', 'lpg', 'cng', 'electric', 'hybrid', 'other']:\n",
    "    fuel_index.append(df[((df['fuel_type'] == fuel_type) &\n",
    "                         ~(df['vehicle_type'].isna()) &\n",
    "                         ~(df['gearbox'].isna()) &\n",
    "                         ~(df['brand'].isna()) &\n",
    "                         ~(df['model'].isna()) &\n",
    "                         ~(df['power'].isna()))].first_valid_index())\n",
    "\n",
    "print('\\nПримеры автомобилей с каждым типом используемого топлива.')\n",
    "display(df.loc[fuel_index])"
   ]
  },
  {
   "cell_type": "markdown",
   "metadata": {},
   "source": [
    "### Типы кузова"
   ]
  },
  {
   "cell_type": "code",
   "execution_count": 21,
   "metadata": {
    "scrolled": false
   },
   "outputs": [
    {
     "data": {
      "text/html": [
       "<div>\n",
       "<style scoped>\n",
       "    .dataframe tbody tr th:only-of-type {\n",
       "        vertical-align: middle;\n",
       "    }\n",
       "\n",
       "    .dataframe tbody tr th {\n",
       "        vertical-align: top;\n",
       "    }\n",
       "\n",
       "    .dataframe thead th {\n",
       "        text-align: right;\n",
       "    }\n",
       "</style>\n",
       "<table border=\"1\" class=\"dataframe\">\n",
       "  <thead>\n",
       "    <tr style=\"text-align: right;\">\n",
       "      <th></th>\n",
       "      <th>vehicle_type</th>\n",
       "      <th>count</th>\n",
       "    </tr>\n",
       "  </thead>\n",
       "  <tbody>\n",
       "    <tr>\n",
       "      <th>0</th>\n",
       "      <td>sedan</td>\n",
       "      <td>75599</td>\n",
       "    </tr>\n",
       "    <tr>\n",
       "      <th>1</th>\n",
       "      <td>small</td>\n",
       "      <td>63423</td>\n",
       "    </tr>\n",
       "    <tr>\n",
       "      <th>2</th>\n",
       "      <td>wagon</td>\n",
       "      <td>56559</td>\n",
       "    </tr>\n",
       "    <tr>\n",
       "      <th>3</th>\n",
       "      <td>bus</td>\n",
       "      <td>24793</td>\n",
       "    </tr>\n",
       "    <tr>\n",
       "      <th>4</th>\n",
       "      <td>convertible</td>\n",
       "      <td>16881</td>\n",
       "    </tr>\n",
       "    <tr>\n",
       "      <th>5</th>\n",
       "      <td>coupe</td>\n",
       "      <td>13161</td>\n",
       "    </tr>\n",
       "    <tr>\n",
       "      <th>6</th>\n",
       "      <td>suv</td>\n",
       "      <td>9818</td>\n",
       "    </tr>\n",
       "    <tr>\n",
       "      <th>7</th>\n",
       "      <td>NaN</td>\n",
       "      <td>8076</td>\n",
       "    </tr>\n",
       "    <tr>\n",
       "      <th>8</th>\n",
       "      <td>other</td>\n",
       "      <td>2183</td>\n",
       "    </tr>\n",
       "  </tbody>\n",
       "</table>\n",
       "</div>"
      ],
      "text/plain": [
       "  vehicle_type  count\n",
       "0        sedan  75599\n",
       "1        small  63423\n",
       "2        wagon  56559\n",
       "3          bus  24793\n",
       "4  convertible  16881\n",
       "5        coupe  13161\n",
       "6          suv   9818\n",
       "7          NaN   8076\n",
       "8        other   2183"
      ]
     },
     "metadata": {},
     "output_type": "display_data"
    }
   ],
   "source": [
    "# подсчёт численности каждой категории авто\n",
    "display(df['vehicle_type']\n",
    "        .value_counts(dropna=False)\n",
    "        .to_frame()\n",
    "        .reset_index()\n",
    "        .rename(columns = {'vehicle_type':'count', 'index':'vehicle_type'}))"
   ]
  },
  {
   "cell_type": "markdown",
   "metadata": {},
   "source": [
    "- `sedan` - **седан**. Закрытый кузов легкового автомобиля с багажником, структурно отделённым от пассажирского салона.\n",
    "- `small` - **хэтчбэк**. Отличается от седана укороченным задним свесом. Может содержать один или два рядя сидений.\n",
    "- `wagon` - **универсал**. Представляет собой вариант седана с увеличенным багажным отделением.\n",
    "- `bus` - **мини-вэн**. Однообъёмный кузов, как правило, имеющий три ряда сидений.\n",
    "- `convertible` - **кабриолет** \n",
    "- `coupe` - **купе**. Зыкрытый кузов. Отличается двумя дверьми и одним (реже двумя) рядами сидений.\n",
    "- `suv` - **sport utility vehicle** — «спортивно-утилитарный автомобиль») — тип автомобиля, происходящий изначально из класса внедорожников, но используемый в подавляющем большинстве случаев в городах и на асфальтированной дороге.\n",
    "- `other` - **другие** автомобили не попавшие в вышепеерчисленные категории."
   ]
  },
  {
   "cell_type": "code",
   "execution_count": 22,
   "metadata": {
    "scrolled": false
   },
   "outputs": [
    {
     "name": "stdout",
     "output_type": "stream",
     "text": [
      "\n",
      "Примеры автомобилей с каждым типом кузова.\n"
     ]
    },
    {
     "data": {
      "text/html": [
       "<div>\n",
       "<style scoped>\n",
       "    .dataframe tbody tr th:only-of-type {\n",
       "        vertical-align: middle;\n",
       "    }\n",
       "\n",
       "    .dataframe tbody tr th {\n",
       "        vertical-align: top;\n",
       "    }\n",
       "\n",
       "    .dataframe thead th {\n",
       "        text-align: right;\n",
       "    }\n",
       "</style>\n",
       "<table border=\"1\" class=\"dataframe\">\n",
       "  <thead>\n",
       "    <tr style=\"text-align: right;\">\n",
       "      <th></th>\n",
       "      <th>brand</th>\n",
       "      <th>model</th>\n",
       "      <th>vehicle_type</th>\n",
       "      <th>gearbox</th>\n",
       "      <th>power</th>\n",
       "      <th>fuel_type</th>\n",
       "      <th>kilometer</th>\n",
       "      <th>registration_year</th>\n",
       "      <th>registration_month</th>\n",
       "      <th>repaired</th>\n",
       "      <th>number_of_pictures</th>\n",
       "      <th>price</th>\n",
       "      <th>date_created</th>\n",
       "      <th>date_crawled</th>\n",
       "      <th>last_seen</th>\n",
       "      <th>postal_code</th>\n",
       "      <th>year_created</th>\n",
       "      <th>days</th>\n",
       "    </tr>\n",
       "  </thead>\n",
       "  <tbody>\n",
       "    <tr>\n",
       "      <th>5</th>\n",
       "      <td>bmw</td>\n",
       "      <td>3er</td>\n",
       "      <td>sedan</td>\n",
       "      <td>manual</td>\n",
       "      <td>102</td>\n",
       "      <td>petrol</td>\n",
       "      <td>150000</td>\n",
       "      <td>1995</td>\n",
       "      <td>10</td>\n",
       "      <td>yes</td>\n",
       "      <td>0</td>\n",
       "      <td>650</td>\n",
       "      <td>2016-04-04</td>\n",
       "      <td>2016-04-04 17:36:23</td>\n",
       "      <td>2016-04-06 19:17:07</td>\n",
       "      <td>33775</td>\n",
       "      <td>2016</td>\n",
       "      <td>3</td>\n",
       "    </tr>\n",
       "    <tr>\n",
       "      <th>3</th>\n",
       "      <td>volkswagen</td>\n",
       "      <td>golf</td>\n",
       "      <td>small</td>\n",
       "      <td>manual</td>\n",
       "      <td>75</td>\n",
       "      <td>petrol</td>\n",
       "      <td>150000</td>\n",
       "      <td>2001</td>\n",
       "      <td>6</td>\n",
       "      <td>no</td>\n",
       "      <td>0</td>\n",
       "      <td>1500</td>\n",
       "      <td>2016-03-17</td>\n",
       "      <td>2016-03-17 16:54:04</td>\n",
       "      <td>2016-03-17 17:40:17</td>\n",
       "      <td>91074</td>\n",
       "      <td>2016</td>\n",
       "      <td>21</td>\n",
       "    </tr>\n",
       "    <tr>\n",
       "      <th>11</th>\n",
       "      <td>volkswagen</td>\n",
       "      <td>passat</td>\n",
       "      <td>wagon</td>\n",
       "      <td>manual</td>\n",
       "      <td>140</td>\n",
       "      <td>petrol</td>\n",
       "      <td>150000</td>\n",
       "      <td>2005</td>\n",
       "      <td>12</td>\n",
       "      <td>yes</td>\n",
       "      <td>0</td>\n",
       "      <td>2799</td>\n",
       "      <td>2016-04-07</td>\n",
       "      <td>2016-04-07 10:06:22</td>\n",
       "      <td>2016-04-07 10:25:17</td>\n",
       "      <td>57290</td>\n",
       "      <td>2016</td>\n",
       "      <td>0</td>\n",
       "    </tr>\n",
       "    <tr>\n",
       "      <th>8</th>\n",
       "      <td>ford</td>\n",
       "      <td>c_max</td>\n",
       "      <td>bus</td>\n",
       "      <td>manual</td>\n",
       "      <td>125</td>\n",
       "      <td>petrol</td>\n",
       "      <td>30000</td>\n",
       "      <td>2014</td>\n",
       "      <td>8</td>\n",
       "      <td>NaN</td>\n",
       "      <td>0</td>\n",
       "      <td>14500</td>\n",
       "      <td>2016-04-04</td>\n",
       "      <td>2016-04-04 23:42:13</td>\n",
       "      <td>2016-04-04 23:42:13</td>\n",
       "      <td>94505</td>\n",
       "      <td>2016</td>\n",
       "      <td>3</td>\n",
       "    </tr>\n",
       "    <tr>\n",
       "      <th>6</th>\n",
       "      <td>peugeot</td>\n",
       "      <td>2_reihe</td>\n",
       "      <td>convertible</td>\n",
       "      <td>manual</td>\n",
       "      <td>109</td>\n",
       "      <td>petrol</td>\n",
       "      <td>150000</td>\n",
       "      <td>2004</td>\n",
       "      <td>8</td>\n",
       "      <td>no</td>\n",
       "      <td>0</td>\n",
       "      <td>2200</td>\n",
       "      <td>2016-04-01</td>\n",
       "      <td>2016-04-01 20:48:51</td>\n",
       "      <td>2016-04-05 18:18:39</td>\n",
       "      <td>67112</td>\n",
       "      <td>2016</td>\n",
       "      <td>6</td>\n",
       "    </tr>\n",
       "    <tr>\n",
       "      <th>20</th>\n",
       "      <td>volkswagen</td>\n",
       "      <td>scirocco</td>\n",
       "      <td>coupe</td>\n",
       "      <td>manual</td>\n",
       "      <td>160</td>\n",
       "      <td>petrol</td>\n",
       "      <td>100000</td>\n",
       "      <td>2009</td>\n",
       "      <td>4</td>\n",
       "      <td>no</td>\n",
       "      <td>0</td>\n",
       "      <td>10400</td>\n",
       "      <td>2016-04-01</td>\n",
       "      <td>2016-04-01 19:56:48</td>\n",
       "      <td>2016-04-05 16:45:49</td>\n",
       "      <td>75365</td>\n",
       "      <td>2016</td>\n",
       "      <td>6</td>\n",
       "    </tr>\n",
       "    <tr>\n",
       "      <th>2</th>\n",
       "      <td>jeep</td>\n",
       "      <td>grand</td>\n",
       "      <td>suv</td>\n",
       "      <td>auto</td>\n",
       "      <td>163</td>\n",
       "      <td>petrol</td>\n",
       "      <td>125000</td>\n",
       "      <td>2004</td>\n",
       "      <td>8</td>\n",
       "      <td>NaN</td>\n",
       "      <td>0</td>\n",
       "      <td>9800</td>\n",
       "      <td>2016-03-14</td>\n",
       "      <td>2016-03-14 12:52:21</td>\n",
       "      <td>2016-04-05 12:47:46</td>\n",
       "      <td>90480</td>\n",
       "      <td>2016</td>\n",
       "      <td>24</td>\n",
       "    </tr>\n",
       "    <tr>\n",
       "      <th>38</th>\n",
       "      <td>volkswagen</td>\n",
       "      <td>other</td>\n",
       "      <td>other</td>\n",
       "      <td>manual</td>\n",
       "      <td>129</td>\n",
       "      <td>petrol</td>\n",
       "      <td>150000</td>\n",
       "      <td>2002</td>\n",
       "      <td>11</td>\n",
       "      <td>no</td>\n",
       "      <td>0</td>\n",
       "      <td>11900</td>\n",
       "      <td>2016-04-01</td>\n",
       "      <td>2016-04-01 17:45:07</td>\n",
       "      <td>2016-04-05 12:47:30</td>\n",
       "      <td>10551</td>\n",
       "      <td>2016</td>\n",
       "      <td>6</td>\n",
       "    </tr>\n",
       "  </tbody>\n",
       "</table>\n",
       "</div>"
      ],
      "text/plain": [
       "         brand     model vehicle_type gearbox  power fuel_type  kilometer  \\\n",
       "5          bmw       3er        sedan  manual    102    petrol     150000   \n",
       "3   volkswagen      golf        small  manual     75    petrol     150000   \n",
       "11  volkswagen    passat        wagon  manual    140    petrol     150000   \n",
       "8         ford     c_max          bus  manual    125    petrol      30000   \n",
       "6      peugeot   2_reihe  convertible  manual    109    petrol     150000   \n",
       "20  volkswagen  scirocco        coupe  manual    160    petrol     100000   \n",
       "2         jeep     grand          suv    auto    163    petrol     125000   \n",
       "38  volkswagen     other        other  manual    129    petrol     150000   \n",
       "\n",
       "    registration_year  registration_month repaired  number_of_pictures  price  \\\n",
       "5                1995                  10      yes                   0    650   \n",
       "3                2001                   6       no                   0   1500   \n",
       "11               2005                  12      yes                   0   2799   \n",
       "8                2014                   8      NaN                   0  14500   \n",
       "6                2004                   8       no                   0   2200   \n",
       "20               2009                   4       no                   0  10400   \n",
       "2                2004                   8      NaN                   0   9800   \n",
       "38               2002                  11       no                   0  11900   \n",
       "\n",
       "   date_created        date_crawled           last_seen  postal_code  \\\n",
       "5    2016-04-04 2016-04-04 17:36:23 2016-04-06 19:17:07        33775   \n",
       "3    2016-03-17 2016-03-17 16:54:04 2016-03-17 17:40:17        91074   \n",
       "11   2016-04-07 2016-04-07 10:06:22 2016-04-07 10:25:17        57290   \n",
       "8    2016-04-04 2016-04-04 23:42:13 2016-04-04 23:42:13        94505   \n",
       "6    2016-04-01 2016-04-01 20:48:51 2016-04-05 18:18:39        67112   \n",
       "20   2016-04-01 2016-04-01 19:56:48 2016-04-05 16:45:49        75365   \n",
       "2    2016-03-14 2016-03-14 12:52:21 2016-04-05 12:47:46        90480   \n",
       "38   2016-04-01 2016-04-01 17:45:07 2016-04-05 12:47:30        10551   \n",
       "\n",
       "    year_created  days  \n",
       "5           2016     3  \n",
       "3           2016    21  \n",
       "11          2016     0  \n",
       "8           2016     3  \n",
       "6           2016     6  \n",
       "20          2016     6  \n",
       "2           2016    24  \n",
       "38          2016     6  "
      ]
     },
     "metadata": {},
     "output_type": "display_data"
    }
   ],
   "source": [
    "body_index = []\n",
    "for body_type in ['sedan', 'small', 'wagon', 'bus', 'convertible', 'coupe', 'suv', 'other']:\n",
    "    body_index.append(df[((df['vehicle_type'] == body_type) &\n",
    "                         ~(df['fuel_type'].isna()) &\n",
    "                         ~(df['gearbox'].isna()) &\n",
    "                         ~(df['brand'].isna()) &\n",
    "                         ~(df['model'].isna()) &\n",
    "                         ~(df['power'].isna()))].first_valid_index())\n",
    "\n",
    "print('\\nПримеры автомобилей с каждым типом кузова.')\n",
    "display(df.loc[body_index])"
   ]
  },
  {
   "cell_type": "markdown",
   "metadata": {},
   "source": [
    "### Типы трансмиссии"
   ]
  },
  {
   "cell_type": "markdown",
   "metadata": {},
   "source": [
    "В этом параметре присутствуют пропуски. Не все владельцы (пользователи) указали тип трансмиссии. Дабы, в конечном счёте предложить пользователям бóльший выбор параметров при оценке автомобиля, будет сохранена категория \"_неизвестных трасмиссий_\" по названием `undefined` (не определено)."
   ]
  },
  {
   "cell_type": "code",
   "execution_count": 23,
   "metadata": {},
   "outputs": [
    {
     "data": {
      "text/html": [
       "<div>\n",
       "<style scoped>\n",
       "    .dataframe tbody tr th:only-of-type {\n",
       "        vertical-align: middle;\n",
       "    }\n",
       "\n",
       "    .dataframe tbody tr th {\n",
       "        vertical-align: top;\n",
       "    }\n",
       "\n",
       "    .dataframe thead th {\n",
       "        text-align: right;\n",
       "    }\n",
       "</style>\n",
       "<table border=\"1\" class=\"dataframe\">\n",
       "  <thead>\n",
       "    <tr style=\"text-align: right;\">\n",
       "      <th></th>\n",
       "      <th>gearbox</th>\n",
       "      <th>count</th>\n",
       "    </tr>\n",
       "  </thead>\n",
       "  <tbody>\n",
       "    <tr>\n",
       "      <th>0</th>\n",
       "      <td>manual</td>\n",
       "      <td>214936</td>\n",
       "    </tr>\n",
       "    <tr>\n",
       "      <th>1</th>\n",
       "      <td>auto</td>\n",
       "      <td>50475</td>\n",
       "    </tr>\n",
       "    <tr>\n",
       "      <th>2</th>\n",
       "      <td>NaN</td>\n",
       "      <td>5082</td>\n",
       "    </tr>\n",
       "  </tbody>\n",
       "</table>\n",
       "</div>"
      ],
      "text/plain": [
       "  gearbox   count\n",
       "0  manual  214936\n",
       "1    auto   50475\n",
       "2     NaN    5082"
      ]
     },
     "metadata": {},
     "output_type": "display_data"
    }
   ],
   "source": [
    "# подсчёт численности каждой категории авто\n",
    "display(df['gearbox']\n",
    "        .value_counts(dropna=False)\n",
    "        .to_frame()\n",
    "        .reset_index()\n",
    "        .rename(columns = {'gearbox':'count', 'index':'gearbox'}))"
   ]
  },
  {
   "cell_type": "markdown",
   "metadata": {},
   "source": [
    "### Автомобильные бренды"
   ]
  },
  {
   "cell_type": "code",
   "execution_count": 24,
   "metadata": {},
   "outputs": [
    {
     "name": "stdout",
     "output_type": "stream",
     "text": [
      "Перечень автомобильных брендов:\n",
      " ['alfa_romeo', 'audi', 'bmw', 'chevrolet', 'chrysler', 'citroen', 'dacia', 'daewoo', 'daihatsu', 'fiat', 'ford', 'honda', 'hyundai', 'jaguar', 'jeep', 'kia', 'lada', 'lancia', 'land_rover', 'mazda', 'mercedes_benz', 'mini', 'mitsubishi', 'nissan', 'opel', 'peugeot', 'porsche', 'renault', 'rover', 'saab', 'seat', 'skoda', 'smart', 'sonstige_autos', 'subaru', 'suzuki', 'toyota', 'trabant', 'volkswagen', 'volvo']\n"
     ]
    }
   ],
   "source": [
    "print('Перечень автомобильных брендов:\\n', sorted(df['brand'].unique()))"
   ]
  },
  {
   "cell_type": "markdown",
   "metadata": {},
   "source": [
    "Среди перечня уникальных значенией встречается `sonstige_autos` - это категория, которая содержит _другие_, менее популярные марки. В этой катерогии у всех отсутствует название модели, а так же не редко отстутствуют характеристиках автомобиля: _тип кузова, трансмиссия, мощность двигателя, и др._\n",
    "\n",
    "Ввиду малой информативности, эта категория будет удалена."
   ]
  },
  {
   "cell_type": "code",
   "execution_count": 25,
   "metadata": {
    "scrolled": false
   },
   "outputs": [
    {
     "data": {
      "text/html": [
       "<div>\n",
       "<style scoped>\n",
       "    .dataframe tbody tr th:only-of-type {\n",
       "        vertical-align: middle;\n",
       "    }\n",
       "\n",
       "    .dataframe tbody tr th {\n",
       "        vertical-align: top;\n",
       "    }\n",
       "\n",
       "    .dataframe thead th {\n",
       "        text-align: right;\n",
       "    }\n",
       "</style>\n",
       "<table border=\"1\" class=\"dataframe\">\n",
       "  <thead>\n",
       "    <tr style=\"text-align: right;\">\n",
       "      <th></th>\n",
       "      <th>brand</th>\n",
       "      <th>model</th>\n",
       "      <th>vehicle_type</th>\n",
       "      <th>gearbox</th>\n",
       "      <th>power</th>\n",
       "      <th>fuel_type</th>\n",
       "      <th>kilometer</th>\n",
       "      <th>registration_year</th>\n",
       "      <th>registration_month</th>\n",
       "      <th>repaired</th>\n",
       "      <th>number_of_pictures</th>\n",
       "      <th>price</th>\n",
       "      <th>date_created</th>\n",
       "      <th>date_crawled</th>\n",
       "      <th>last_seen</th>\n",
       "      <th>postal_code</th>\n",
       "      <th>year_created</th>\n",
       "      <th>days</th>\n",
       "    </tr>\n",
       "  </thead>\n",
       "  <tbody>\n",
       "    <tr>\n",
       "      <th>59</th>\n",
       "      <td>sonstige_autos</td>\n",
       "      <td>NaN</td>\n",
       "      <td>suv</td>\n",
       "      <td>manual</td>\n",
       "      <td>286</td>\n",
       "      <td>NaN</td>\n",
       "      <td>150000</td>\n",
       "      <td>1994</td>\n",
       "      <td>11</td>\n",
       "      <td>NaN</td>\n",
       "      <td>0</td>\n",
       "      <td>1</td>\n",
       "      <td>2016-03-29</td>\n",
       "      <td>2016-03-29 15:48:15</td>\n",
       "      <td>2016-04-06 01:44:38</td>\n",
       "      <td>53721</td>\n",
       "      <td>2016</td>\n",
       "      <td>9</td>\n",
       "    </tr>\n",
       "    <tr>\n",
       "      <th>661</th>\n",
       "      <td>sonstige_autos</td>\n",
       "      <td>NaN</td>\n",
       "      <td>suv</td>\n",
       "      <td>auto</td>\n",
       "      <td>250</td>\n",
       "      <td>lpg</td>\n",
       "      <td>150000</td>\n",
       "      <td>2000</td>\n",
       "      <td>4</td>\n",
       "      <td>no</td>\n",
       "      <td>0</td>\n",
       "      <td>9900</td>\n",
       "      <td>2016-04-01</td>\n",
       "      <td>2016-04-01 15:56:27</td>\n",
       "      <td>2016-04-07 14:56:03</td>\n",
       "      <td>17309</td>\n",
       "      <td>2016</td>\n",
       "      <td>6</td>\n",
       "    </tr>\n",
       "    <tr>\n",
       "      <th>700</th>\n",
       "      <td>sonstige_autos</td>\n",
       "      <td>NaN</td>\n",
       "      <td>sedan</td>\n",
       "      <td>auto</td>\n",
       "      <td>186</td>\n",
       "      <td>petrol</td>\n",
       "      <td>125000</td>\n",
       "      <td>2010</td>\n",
       "      <td>4</td>\n",
       "      <td>no</td>\n",
       "      <td>0</td>\n",
       "      <td>6999</td>\n",
       "      <td>2016-03-30</td>\n",
       "      <td>2016-03-30 21:37:21</td>\n",
       "      <td>2016-04-05 11:18:33</td>\n",
       "      <td>81929</td>\n",
       "      <td>2016</td>\n",
       "      <td>8</td>\n",
       "    </tr>\n",
       "    <tr>\n",
       "      <th>985</th>\n",
       "      <td>sonstige_autos</td>\n",
       "      <td>NaN</td>\n",
       "      <td>sedan</td>\n",
       "      <td>manual</td>\n",
       "      <td>101</td>\n",
       "      <td>petrol</td>\n",
       "      <td>70000</td>\n",
       "      <td>2010</td>\n",
       "      <td>1</td>\n",
       "      <td>yes</td>\n",
       "      <td>0</td>\n",
       "      <td>500</td>\n",
       "      <td>2016-03-15</td>\n",
       "      <td>2016-03-15 16:37:22</td>\n",
       "      <td>2016-03-21 14:15:21</td>\n",
       "      <td>76829</td>\n",
       "      <td>2016</td>\n",
       "      <td>23</td>\n",
       "    </tr>\n",
       "    <tr>\n",
       "      <th>1345</th>\n",
       "      <td>sonstige_autos</td>\n",
       "      <td>NaN</td>\n",
       "      <td>NaN</td>\n",
       "      <td>NaN</td>\n",
       "      <td>37</td>\n",
       "      <td>NaN</td>\n",
       "      <td>60000</td>\n",
       "      <td>1990</td>\n",
       "      <td>2</td>\n",
       "      <td>NaN</td>\n",
       "      <td>0</td>\n",
       "      <td>899</td>\n",
       "      <td>2016-03-21</td>\n",
       "      <td>2016-03-21 01:57:37</td>\n",
       "      <td>2016-03-27 21:44:30</td>\n",
       "      <td>85057</td>\n",
       "      <td>2016</td>\n",
       "      <td>17</td>\n",
       "    </tr>\n",
       "    <tr>\n",
       "      <th>...</th>\n",
       "      <td>...</td>\n",
       "      <td>...</td>\n",
       "      <td>...</td>\n",
       "      <td>...</td>\n",
       "      <td>...</td>\n",
       "      <td>...</td>\n",
       "      <td>...</td>\n",
       "      <td>...</td>\n",
       "      <td>...</td>\n",
       "      <td>...</td>\n",
       "      <td>...</td>\n",
       "      <td>...</td>\n",
       "      <td>...</td>\n",
       "      <td>...</td>\n",
       "      <td>...</td>\n",
       "      <td>...</td>\n",
       "      <td>...</td>\n",
       "      <td>...</td>\n",
       "    </tr>\n",
       "    <tr>\n",
       "      <th>352549</th>\n",
       "      <td>sonstige_autos</td>\n",
       "      <td>NaN</td>\n",
       "      <td>wagon</td>\n",
       "      <td>manual</td>\n",
       "      <td>70</td>\n",
       "      <td>petrol</td>\n",
       "      <td>60000</td>\n",
       "      <td>2011</td>\n",
       "      <td>11</td>\n",
       "      <td>no</td>\n",
       "      <td>0</td>\n",
       "      <td>9900</td>\n",
       "      <td>2016-03-14</td>\n",
       "      <td>2016-03-14 16:54:25</td>\n",
       "      <td>2016-04-05 21:18:17</td>\n",
       "      <td>86415</td>\n",
       "      <td>2016</td>\n",
       "      <td>24</td>\n",
       "    </tr>\n",
       "    <tr>\n",
       "      <th>353756</th>\n",
       "      <td>sonstige_autos</td>\n",
       "      <td>NaN</td>\n",
       "      <td>small</td>\n",
       "      <td>manual</td>\n",
       "      <td>66</td>\n",
       "      <td>petrol</td>\n",
       "      <td>150000</td>\n",
       "      <td>1997</td>\n",
       "      <td>5</td>\n",
       "      <td>NaN</td>\n",
       "      <td>0</td>\n",
       "      <td>250</td>\n",
       "      <td>2016-04-01</td>\n",
       "      <td>2016-04-01 16:53:46</td>\n",
       "      <td>2016-04-05 12:17:30</td>\n",
       "      <td>7548</td>\n",
       "      <td>2016</td>\n",
       "      <td>6</td>\n",
       "    </tr>\n",
       "    <tr>\n",
       "      <th>353867</th>\n",
       "      <td>sonstige_autos</td>\n",
       "      <td>NaN</td>\n",
       "      <td>sedan</td>\n",
       "      <td>manual</td>\n",
       "      <td>175</td>\n",
       "      <td>petrol</td>\n",
       "      <td>125000</td>\n",
       "      <td>2006</td>\n",
       "      <td>12</td>\n",
       "      <td>no</td>\n",
       "      <td>0</td>\n",
       "      <td>5000</td>\n",
       "      <td>2016-03-28</td>\n",
       "      <td>2016-03-29 00:38:48</td>\n",
       "      <td>2016-04-05 14:16:37</td>\n",
       "      <td>71397</td>\n",
       "      <td>2016</td>\n",
       "      <td>10</td>\n",
       "    </tr>\n",
       "    <tr>\n",
       "      <th>353892</th>\n",
       "      <td>sonstige_autos</td>\n",
       "      <td>NaN</td>\n",
       "      <td>bus</td>\n",
       "      <td>NaN</td>\n",
       "      <td>140</td>\n",
       "      <td>petrol</td>\n",
       "      <td>125000</td>\n",
       "      <td>2009</td>\n",
       "      <td>7</td>\n",
       "      <td>no</td>\n",
       "      <td>0</td>\n",
       "      <td>7900</td>\n",
       "      <td>2016-03-06</td>\n",
       "      <td>2016-03-06 11:42:12</td>\n",
       "      <td>2016-03-26 16:16:02</td>\n",
       "      <td>97256</td>\n",
       "      <td>2016</td>\n",
       "      <td>32</td>\n",
       "    </tr>\n",
       "    <tr>\n",
       "      <th>354321</th>\n",
       "      <td>sonstige_autos</td>\n",
       "      <td>NaN</td>\n",
       "      <td>wagon</td>\n",
       "      <td>manual</td>\n",
       "      <td>200</td>\n",
       "      <td>petrol</td>\n",
       "      <td>150000</td>\n",
       "      <td>2007</td>\n",
       "      <td>4</td>\n",
       "      <td>yes</td>\n",
       "      <td>0</td>\n",
       "      <td>9400</td>\n",
       "      <td>2016-03-15</td>\n",
       "      <td>2016-03-15 13:52:34</td>\n",
       "      <td>2016-03-17 08:16:25</td>\n",
       "      <td>91186</td>\n",
       "      <td>2016</td>\n",
       "      <td>23</td>\n",
       "    </tr>\n",
       "  </tbody>\n",
       "</table>\n",
       "<p>921 rows × 18 columns</p>\n",
       "</div>"
      ],
      "text/plain": [
       "                 brand model vehicle_type gearbox  power fuel_type  kilometer  \\\n",
       "59      sonstige_autos   NaN          suv  manual    286       NaN     150000   \n",
       "661     sonstige_autos   NaN          suv    auto    250       lpg     150000   \n",
       "700     sonstige_autos   NaN        sedan    auto    186    petrol     125000   \n",
       "985     sonstige_autos   NaN        sedan  manual    101    petrol      70000   \n",
       "1345    sonstige_autos   NaN          NaN     NaN     37       NaN      60000   \n",
       "...                ...   ...          ...     ...    ...       ...        ...   \n",
       "352549  sonstige_autos   NaN        wagon  manual     70    petrol      60000   \n",
       "353756  sonstige_autos   NaN        small  manual     66    petrol     150000   \n",
       "353867  sonstige_autos   NaN        sedan  manual    175    petrol     125000   \n",
       "353892  sonstige_autos   NaN          bus     NaN    140    petrol     125000   \n",
       "354321  sonstige_autos   NaN        wagon  manual    200    petrol     150000   \n",
       "\n",
       "        registration_year  registration_month repaired  number_of_pictures  \\\n",
       "59                   1994                  11      NaN                   0   \n",
       "661                  2000                   4       no                   0   \n",
       "700                  2010                   4       no                   0   \n",
       "985                  2010                   1      yes                   0   \n",
       "1345                 1990                   2      NaN                   0   \n",
       "...                   ...                 ...      ...                 ...   \n",
       "352549               2011                  11       no                   0   \n",
       "353756               1997                   5      NaN                   0   \n",
       "353867               2006                  12       no                   0   \n",
       "353892               2009                   7       no                   0   \n",
       "354321               2007                   4      yes                   0   \n",
       "\n",
       "        price date_created        date_crawled           last_seen  \\\n",
       "59          1   2016-03-29 2016-03-29 15:48:15 2016-04-06 01:44:38   \n",
       "661      9900   2016-04-01 2016-04-01 15:56:27 2016-04-07 14:56:03   \n",
       "700      6999   2016-03-30 2016-03-30 21:37:21 2016-04-05 11:18:33   \n",
       "985       500   2016-03-15 2016-03-15 16:37:22 2016-03-21 14:15:21   \n",
       "1345      899   2016-03-21 2016-03-21 01:57:37 2016-03-27 21:44:30   \n",
       "...       ...          ...                 ...                 ...   \n",
       "352549   9900   2016-03-14 2016-03-14 16:54:25 2016-04-05 21:18:17   \n",
       "353756    250   2016-04-01 2016-04-01 16:53:46 2016-04-05 12:17:30   \n",
       "353867   5000   2016-03-28 2016-03-29 00:38:48 2016-04-05 14:16:37   \n",
       "353892   7900   2016-03-06 2016-03-06 11:42:12 2016-03-26 16:16:02   \n",
       "354321   9400   2016-03-15 2016-03-15 13:52:34 2016-03-17 08:16:25   \n",
       "\n",
       "        postal_code  year_created  days  \n",
       "59            53721          2016     9  \n",
       "661           17309          2016     6  \n",
       "700           81929          2016     8  \n",
       "985           76829          2016    23  \n",
       "1345          85057          2016    17  \n",
       "...             ...           ...   ...  \n",
       "352549        86415          2016    24  \n",
       "353756         7548          2016     6  \n",
       "353867        71397          2016    10  \n",
       "353892        97256          2016    32  \n",
       "354321        91186          2016    23  \n",
       "\n",
       "[921 rows x 18 columns]"
      ]
     },
     "metadata": {},
     "output_type": "display_data"
    },
    {
     "name": "stdout",
     "output_type": "stream",
     "text": [
      "Из датасета удалено 921 авто.\n"
     ]
    }
   ],
   "source": [
    "display(df.query('brand == \"sonstige_autos\"'))\n",
    "\n",
    "print(f'Из датасета удалено {len(df[df[\"brand\"]==\"sonstige_autos\"])} авто.')\n",
    "df.query('brand != \"sonstige_autos\"', inplace=True)"
   ]
  },
  {
   "cell_type": "markdown",
   "metadata": {},
   "source": [
    "### Модели автомобилей"
   ]
  },
  {
   "cell_type": "code",
   "execution_count": 26,
   "metadata": {},
   "outputs": [
    {
     "name": "stdout",
     "output_type": "stream",
     "text": [
      "Перечень моделей:\n",
      " ['100', '145', '147', '156', '159', '1_reihe', '1er', '200', '2_reihe', '300c', '3_reihe', '3er', '4_reihe', '500', '5_reihe', '5er', '601', '6_reihe', '6er', '7er', '80', '850', '90', '900', '9000', '911', 'a1', 'a2', 'a3', 'a4', 'a5', 'a6', 'a8', 'a_klasse', 'accord', 'agila', 'alhambra', 'almera', 'altea', 'amarok', 'antara', 'arosa', 'astra', 'auris', 'avensis', 'aveo', 'aygo', 'b_klasse', 'b_max', 'beetle', 'berlingo', 'bora', 'boxster', 'bravo', 'c1', 'c2', 'c3', 'c4', 'c5', 'c_klasse', 'c_max', 'c_reihe', 'caddy', 'calibra', 'captiva', 'carisma', 'carnival', 'cayenne', 'cc', 'ceed', 'charade', 'cherokee', 'citigo', 'civic', 'cl', 'clio', 'clk', 'clubman', 'colt', 'combo', 'cooper', 'cordoba', 'corolla', 'corsa', 'cr_reihe', 'croma', 'crossfire', 'cuore', 'cx_reihe', 'defender', 'delta', 'discovery', 'doblo', 'ducato', 'duster', 'e_klasse', 'elefantino', 'eos', 'escort', 'espace', 'exeo', 'fabia', 'fiesta', 'focus', 'forester', 'forfour', 'fortwo', 'fox', 'freelander', 'fusion', 'g_klasse', 'galant', 'galaxy', 'getz', 'gl', 'glk', 'golf', 'grand', 'i3', 'i_reihe', 'ibiza', 'impreza', 'insignia', 'jazz', 'jetta', 'jimny', 'juke', 'justy', 'ka', 'kadett', 'kaefer', 'kalina', 'kalos', 'kangoo', 'kappa', 'kuga', 'laguna', 'lancer', 'lanos', 'legacy', 'leon', 'lodgy', 'logan', 'lupo', 'lybra', 'm_klasse', 'm_reihe', 'materia', 'matiz', 'megane', 'meriva', 'micra', 'mii', 'modus', 'mondeo', 'move', 'musa', 'mustang', 'mx_reihe', 'navara', 'niva', 'note', 'nubira', 'octavia', 'omega', 'one', 'other', 'outlander', 'pajero', 'panda', 'passat', 'phaeton', 'picanto', 'polo', 'primera', 'ptcruiser', 'punto', 'q3', 'q5', 'q7', 'qashqai', 'r19', 'range_rover', 'range_rover_sport', 'rangerover', 'rav', 'rio', 'roadster', 'roomster', 'rx_reihe', 's60', 's_klasse', 's_max', 's_type', 'samara', 'sandero', 'santa', 'scenic', 'scirocco', 'seicento', 'sharan', 'signum', 'sirion', 'sl', 'slk', 'sorento', 'spark', 'spider', 'sportage', 'sprinter', 'stilo', 'superb', 'swift', 'terios', 'tigra', 'tiguan', 'toledo', 'touareg', 'touran', 'transit', 'transporter', 'tt', 'tucson', 'twingo', 'up', 'v40', 'v50', 'v60', 'v70', 'v_klasse', 'vectra', 'verso', 'viano', 'vito', 'vivaro', 'voyager', 'wrangler', 'x_reihe', 'x_trail', 'x_type', 'xc_reihe', 'yaris', 'yeti', 'ypsilon', 'z_reihe', 'zafira']\n"
     ]
    }
   ],
   "source": [
    "print('Перечень моделей:\\n', sorted(df['model'].dropna().unique()))"
   ]
  },
  {
   "cell_type": "markdown",
   "metadata": {},
   "source": [
    "При визуальном осмотре моделей, перечисленных выше, была выявлена одна ошибки в названии модели: `rangerover`. Этот штучный экземпляр имеет нетипичный тип кузова, трансмиссию и мощность двигателя для этой модели, и неверное название бренда. Всего скорей это автомобиль марки Rover, но модель установить не удастся, по этой прчине она будет удалена."
   ]
  },
  {
   "cell_type": "code",
   "execution_count": 27,
   "metadata": {},
   "outputs": [
    {
     "data": {
      "text/html": [
       "<div>\n",
       "<style scoped>\n",
       "    .dataframe tbody tr th:only-of-type {\n",
       "        vertical-align: middle;\n",
       "    }\n",
       "\n",
       "    .dataframe tbody tr th {\n",
       "        vertical-align: top;\n",
       "    }\n",
       "\n",
       "    .dataframe thead th {\n",
       "        text-align: right;\n",
       "    }\n",
       "</style>\n",
       "<table border=\"1\" class=\"dataframe\">\n",
       "  <thead>\n",
       "    <tr style=\"text-align: right;\">\n",
       "      <th></th>\n",
       "      <th>brand</th>\n",
       "      <th>model</th>\n",
       "      <th>vehicle_type</th>\n",
       "      <th>gearbox</th>\n",
       "      <th>power</th>\n",
       "      <th>fuel_type</th>\n",
       "      <th>kilometer</th>\n",
       "      <th>registration_year</th>\n",
       "      <th>registration_month</th>\n",
       "      <th>repaired</th>\n",
       "      <th>number_of_pictures</th>\n",
       "      <th>price</th>\n",
       "      <th>date_created</th>\n",
       "      <th>date_crawled</th>\n",
       "      <th>last_seen</th>\n",
       "      <th>postal_code</th>\n",
       "      <th>year_created</th>\n",
       "      <th>days</th>\n",
       "    </tr>\n",
       "  </thead>\n",
       "  <tbody>\n",
       "    <tr>\n",
       "      <th>27949</th>\n",
       "      <td>rover</td>\n",
       "      <td>rangerover</td>\n",
       "      <td>small</td>\n",
       "      <td>manual</td>\n",
       "      <td>103</td>\n",
       "      <td>petrol</td>\n",
       "      <td>150000</td>\n",
       "      <td>1998</td>\n",
       "      <td>10</td>\n",
       "      <td>NaN</td>\n",
       "      <td>0</td>\n",
       "      <td>1050</td>\n",
       "      <td>2016-03-18</td>\n",
       "      <td>2016-03-18 01:57:30</td>\n",
       "      <td>2016-04-05 21:18:19</td>\n",
       "      <td>49084</td>\n",
       "      <td>2016</td>\n",
       "      <td>20</td>\n",
       "    </tr>\n",
       "  </tbody>\n",
       "</table>\n",
       "</div>"
      ],
      "text/plain": [
       "       brand       model vehicle_type gearbox  power fuel_type  kilometer  \\\n",
       "27949  rover  rangerover        small  manual    103    petrol     150000   \n",
       "\n",
       "       registration_year  registration_month repaired  number_of_pictures  \\\n",
       "27949               1998                  10      NaN                   0   \n",
       "\n",
       "       price date_created        date_crawled           last_seen  \\\n",
       "27949   1050   2016-03-18 2016-03-18 01:57:30 2016-04-05 21:18:19   \n",
       "\n",
       "       postal_code  year_created  days  \n",
       "27949        49084          2016    20  "
      ]
     },
     "metadata": {},
     "output_type": "display_data"
    },
    {
     "data": {
      "text/html": [
       "<div>\n",
       "<style scoped>\n",
       "    .dataframe tbody tr th:only-of-type {\n",
       "        vertical-align: middle;\n",
       "    }\n",
       "\n",
       "    .dataframe tbody tr th {\n",
       "        vertical-align: top;\n",
       "    }\n",
       "\n",
       "    .dataframe thead th {\n",
       "        text-align: right;\n",
       "    }\n",
       "</style>\n",
       "<table border=\"1\" class=\"dataframe\">\n",
       "  <thead>\n",
       "    <tr style=\"text-align: right;\">\n",
       "      <th></th>\n",
       "      <th>brand</th>\n",
       "      <th>model</th>\n",
       "      <th>vehicle_type</th>\n",
       "      <th>gearbox</th>\n",
       "      <th>power</th>\n",
       "      <th>fuel_type</th>\n",
       "      <th>kilometer</th>\n",
       "      <th>registration_year</th>\n",
       "      <th>registration_month</th>\n",
       "      <th>repaired</th>\n",
       "      <th>number_of_pictures</th>\n",
       "      <th>price</th>\n",
       "      <th>date_created</th>\n",
       "      <th>date_crawled</th>\n",
       "      <th>last_seen</th>\n",
       "      <th>postal_code</th>\n",
       "      <th>year_created</th>\n",
       "      <th>days</th>\n",
       "    </tr>\n",
       "  </thead>\n",
       "  <tbody>\n",
       "    <tr>\n",
       "      <th>5615</th>\n",
       "      <td>land_rover</td>\n",
       "      <td>range_rover</td>\n",
       "      <td>suv</td>\n",
       "      <td>auto</td>\n",
       "      <td>182</td>\n",
       "      <td>petrol</td>\n",
       "      <td>150000</td>\n",
       "      <td>1993</td>\n",
       "      <td>11</td>\n",
       "      <td>no</td>\n",
       "      <td>0</td>\n",
       "      <td>14900</td>\n",
       "      <td>2016-03-20</td>\n",
       "      <td>2016-03-20 11:43:28</td>\n",
       "      <td>2016-04-06 08:46:41</td>\n",
       "      <td>10781</td>\n",
       "      <td>2016</td>\n",
       "      <td>18</td>\n",
       "    </tr>\n",
       "    <tr>\n",
       "      <th>22356</th>\n",
       "      <td>land_rover</td>\n",
       "      <td>range_rover</td>\n",
       "      <td>suv</td>\n",
       "      <td>auto</td>\n",
       "      <td>224</td>\n",
       "      <td>NaN</td>\n",
       "      <td>150000</td>\n",
       "      <td>1996</td>\n",
       "      <td>1</td>\n",
       "      <td>no</td>\n",
       "      <td>0</td>\n",
       "      <td>2800</td>\n",
       "      <td>2016-03-22</td>\n",
       "      <td>2016-03-22 13:49:59</td>\n",
       "      <td>2016-04-06 02:45:52</td>\n",
       "      <td>59075</td>\n",
       "      <td>2016</td>\n",
       "      <td>16</td>\n",
       "    </tr>\n",
       "    <tr>\n",
       "      <th>32216</th>\n",
       "      <td>land_rover</td>\n",
       "      <td>range_rover</td>\n",
       "      <td>suv</td>\n",
       "      <td>auto</td>\n",
       "      <td>182</td>\n",
       "      <td>petrol</td>\n",
       "      <td>150000</td>\n",
       "      <td>1994</td>\n",
       "      <td>7</td>\n",
       "      <td>no</td>\n",
       "      <td>0</td>\n",
       "      <td>14950</td>\n",
       "      <td>2016-04-04</td>\n",
       "      <td>2016-04-05 00:39:33</td>\n",
       "      <td>2016-04-07 08:15:37</td>\n",
       "      <td>34123</td>\n",
       "      <td>2016</td>\n",
       "      <td>3</td>\n",
       "    </tr>\n",
       "    <tr>\n",
       "      <th>33834</th>\n",
       "      <td>land_rover</td>\n",
       "      <td>range_rover</td>\n",
       "      <td>suv</td>\n",
       "      <td>auto</td>\n",
       "      <td>224</td>\n",
       "      <td>petrol</td>\n",
       "      <td>150000</td>\n",
       "      <td>1996</td>\n",
       "      <td>2</td>\n",
       "      <td>yes</td>\n",
       "      <td>0</td>\n",
       "      <td>0</td>\n",
       "      <td>2016-03-21</td>\n",
       "      <td>2016-03-22 00:40:08</td>\n",
       "      <td>2016-03-28 22:47:52</td>\n",
       "      <td>21217</td>\n",
       "      <td>2016</td>\n",
       "      <td>17</td>\n",
       "    </tr>\n",
       "    <tr>\n",
       "      <th>42698</th>\n",
       "      <td>land_rover</td>\n",
       "      <td>range_rover</td>\n",
       "      <td>suv</td>\n",
       "      <td>auto</td>\n",
       "      <td>177</td>\n",
       "      <td>petrol</td>\n",
       "      <td>150000</td>\n",
       "      <td>2004</td>\n",
       "      <td>6</td>\n",
       "      <td>NaN</td>\n",
       "      <td>0</td>\n",
       "      <td>6800</td>\n",
       "      <td>2016-03-22</td>\n",
       "      <td>2016-03-22 18:46:58</td>\n",
       "      <td>2016-03-28 09:46:45</td>\n",
       "      <td>24340</td>\n",
       "      <td>2016</td>\n",
       "      <td>16</td>\n",
       "    </tr>\n",
       "  </tbody>\n",
       "</table>\n",
       "</div>"
      ],
      "text/plain": [
       "            brand        model vehicle_type gearbox  power fuel_type  \\\n",
       "5615   land_rover  range_rover          suv    auto    182    petrol   \n",
       "22356  land_rover  range_rover          suv    auto    224       NaN   \n",
       "32216  land_rover  range_rover          suv    auto    182    petrol   \n",
       "33834  land_rover  range_rover          suv    auto    224    petrol   \n",
       "42698  land_rover  range_rover          suv    auto    177    petrol   \n",
       "\n",
       "       kilometer  registration_year  registration_month repaired  \\\n",
       "5615      150000               1993                  11       no   \n",
       "22356     150000               1996                   1       no   \n",
       "32216     150000               1994                   7       no   \n",
       "33834     150000               1996                   2      yes   \n",
       "42698     150000               2004                   6      NaN   \n",
       "\n",
       "       number_of_pictures  price date_created        date_crawled  \\\n",
       "5615                    0  14900   2016-03-20 2016-03-20 11:43:28   \n",
       "22356                   0   2800   2016-03-22 2016-03-22 13:49:59   \n",
       "32216                   0  14950   2016-04-04 2016-04-05 00:39:33   \n",
       "33834                   0      0   2016-03-21 2016-03-22 00:40:08   \n",
       "42698                   0   6800   2016-03-22 2016-03-22 18:46:58   \n",
       "\n",
       "                last_seen  postal_code  year_created  days  \n",
       "5615  2016-04-06 08:46:41        10781          2016    18  \n",
       "22356 2016-04-06 02:45:52        59075          2016    16  \n",
       "32216 2016-04-07 08:15:37        34123          2016     3  \n",
       "33834 2016-03-28 22:47:52        21217          2016    17  \n",
       "42698 2016-03-28 09:46:45        24340          2016    16  "
      ]
     },
     "metadata": {},
     "output_type": "display_data"
    }
   ],
   "source": [
    "# удаление неявного дубликата\n",
    "display(df[df['model'] == 'rangerover'])\n",
    "display(df[df['model'] == 'range_rover'].head())\n",
    "df.drop(df[df['model'] == 'rangerover'].index, inplace=True)"
   ]
  },
  {
   "cell_type": "markdown",
   "metadata": {},
   "source": [
    "### Состояние автомобиля"
   ]
  },
  {
   "cell_type": "markdown",
   "metadata": {},
   "source": [
    "О наличии (или отсутствии) крупного ремонта авмотобиля умолчало некоторая значительная часть пользователей. Они будут сохранены с аналогичной меткой: `undefined` (не определено)."
   ]
  },
  {
   "cell_type": "code",
   "execution_count": 28,
   "metadata": {},
   "outputs": [
    {
     "data": {
      "text/html": [
       "<div>\n",
       "<style scoped>\n",
       "    .dataframe tbody tr th:only-of-type {\n",
       "        vertical-align: middle;\n",
       "    }\n",
       "\n",
       "    .dataframe tbody tr th {\n",
       "        vertical-align: top;\n",
       "    }\n",
       "\n",
       "    .dataframe thead th {\n",
       "        text-align: right;\n",
       "    }\n",
       "</style>\n",
       "<table border=\"1\" class=\"dataframe\">\n",
       "  <thead>\n",
       "    <tr style=\"text-align: right;\">\n",
       "      <th></th>\n",
       "      <th>repaired</th>\n",
       "      <th>count</th>\n",
       "    </tr>\n",
       "  </thead>\n",
       "  <tbody>\n",
       "    <tr>\n",
       "      <th>0</th>\n",
       "      <td>no</td>\n",
       "      <td>202180</td>\n",
       "    </tr>\n",
       "    <tr>\n",
       "      <th>1</th>\n",
       "      <td>NaN</td>\n",
       "      <td>39874</td>\n",
       "    </tr>\n",
       "    <tr>\n",
       "      <th>2</th>\n",
       "      <td>yes</td>\n",
       "      <td>27517</td>\n",
       "    </tr>\n",
       "  </tbody>\n",
       "</table>\n",
       "</div>"
      ],
      "text/plain": [
       "  repaired   count\n",
       "0       no  202180\n",
       "1      NaN   39874\n",
       "2      yes   27517"
      ]
     },
     "metadata": {},
     "output_type": "display_data"
    }
   ],
   "source": [
    "display(df['repaired']\n",
    "        .value_counts(dropna=False)\n",
    "        .to_frame().reset_index()\n",
    "        .rename(columns = {'repaired':'count', 'index':'repaired'}))\n",
    "\n",
    "# заполнение пропусков\n",
    "df['repaired'].fillna('undefined', inplace=True)"
   ]
  },
  {
   "cell_type": "markdown",
   "metadata": {},
   "source": [
    "### Пробег автомобилей"
   ]
  },
  {
   "cell_type": "code",
   "execution_count": 29,
   "metadata": {},
   "outputs": [
    {
     "data": {
      "image/png": "[encoded data removed]",
      "text/plain": [
       "<Figure size 1152x432 with 1 Axes>"
      ]
     },
     "metadata": {},
     "output_type": "display_data"
    }
   ],
   "source": [
    "kilometer_distribution = df['kilometer'].value_counts().to_frame().reset_index().sort_values(by='index')\n",
    "kilometer_distribution.plot(style='o-', x='index', y='kilometer', grid=True, figsize=(16, 6), legend=False,\n",
    "                            title='График пробега автомобилей на сайте',\n",
    "                            ylabel='Количество автомобилей (объявлений)',\n",
    "                            xlabel='Общий пробег автомобиля, км.');"
   ]
  },
  {
   "cell_type": "markdown",
   "metadata": {},
   "source": [
    "### Стоимость автомобиля (целевой признак)"
   ]
  },
  {
   "cell_type": "markdown",
   "metadata": {},
   "source": [
    "Стоимости автомобилей начинается от 0€ и ступенчато возростает до 20 000€.\n",
    "Аномально дешёвые автомобили будут удалены."
   ]
  },
  {
   "cell_type": "code",
   "execution_count": 30,
   "metadata": {},
   "outputs": [
    {
     "data": {
      "image/png": "[encoded data removed]",
      "text/plain": [
       "<Figure size 1296x576 with 1 Axes>"
      ]
     },
     "metadata": {},
     "output_type": "display_data"
    }
   ],
   "source": [
    "df['price'].plot(kind='hist', bins=80, grid=True, figsize=(18, 8), legend=False,\n",
    "                 title='График распределения количества автомобилей от их стоимости')\n",
    "plt.ylabel('Количество автомобилей, шт.')\n",
    "plt.xlabel('Стоимость авто, €');"
   ]
  },
  {
   "cell_type": "code",
   "execution_count": 31,
   "metadata": {},
   "outputs": [
    {
     "data": {
      "text/html": [
       "<div>\n",
       "<style scoped>\n",
       "    .dataframe tbody tr th:only-of-type {\n",
       "        vertical-align: middle;\n",
       "    }\n",
       "\n",
       "    .dataframe tbody tr th {\n",
       "        vertical-align: top;\n",
       "    }\n",
       "\n",
       "    .dataframe thead th {\n",
       "        text-align: right;\n",
       "    }\n",
       "</style>\n",
       "<table border=\"1\" class=\"dataframe\">\n",
       "  <thead>\n",
       "    <tr style=\"text-align: right;\">\n",
       "      <th></th>\n",
       "      <th>brand</th>\n",
       "      <th>model</th>\n",
       "      <th>vehicle_type</th>\n",
       "      <th>gearbox</th>\n",
       "      <th>power</th>\n",
       "      <th>fuel_type</th>\n",
       "      <th>kilometer</th>\n",
       "      <th>registration_year</th>\n",
       "      <th>registration_month</th>\n",
       "      <th>repaired</th>\n",
       "      <th>number_of_pictures</th>\n",
       "      <th>price</th>\n",
       "      <th>date_created</th>\n",
       "      <th>date_crawled</th>\n",
       "      <th>last_seen</th>\n",
       "      <th>postal_code</th>\n",
       "      <th>year_created</th>\n",
       "      <th>days</th>\n",
       "    </tr>\n",
       "  </thead>\n",
       "  <tbody>\n",
       "    <tr>\n",
       "      <th>79</th>\n",
       "      <td>opel</td>\n",
       "      <td>astra</td>\n",
       "      <td>NaN</td>\n",
       "      <td>manual</td>\n",
       "      <td>75</td>\n",
       "      <td>petrol</td>\n",
       "      <td>150000</td>\n",
       "      <td>2016</td>\n",
       "      <td>3</td>\n",
       "      <td>yes</td>\n",
       "      <td>0</td>\n",
       "      <td>150</td>\n",
       "      <td>2016-03-17</td>\n",
       "      <td>2016-03-17 18:52:56</td>\n",
       "      <td>2016-04-05 03:45:22</td>\n",
       "      <td>78315</td>\n",
       "      <td>2016</td>\n",
       "      <td>21</td>\n",
       "    </tr>\n",
       "    <tr>\n",
       "      <th>89</th>\n",
       "      <td>mercedes_benz</td>\n",
       "      <td>e_klasse</td>\n",
       "      <td>sedan</td>\n",
       "      <td>manual</td>\n",
       "      <td>113</td>\n",
       "      <td>petrol</td>\n",
       "      <td>150000</td>\n",
       "      <td>1995</td>\n",
       "      <td>4</td>\n",
       "      <td>no</td>\n",
       "      <td>0</td>\n",
       "      <td>1</td>\n",
       "      <td>2016-03-28</td>\n",
       "      <td>2016-03-28 09:37:01</td>\n",
       "      <td>2016-04-06 12:15:54</td>\n",
       "      <td>40589</td>\n",
       "      <td>2016</td>\n",
       "      <td>10</td>\n",
       "    </tr>\n",
       "    <tr>\n",
       "      <th>152</th>\n",
       "      <td>opel</td>\n",
       "      <td>meriva</td>\n",
       "      <td>bus</td>\n",
       "      <td>manual</td>\n",
       "      <td>101</td>\n",
       "      <td>lpg</td>\n",
       "      <td>150000</td>\n",
       "      <td>2004</td>\n",
       "      <td>10</td>\n",
       "      <td>yes</td>\n",
       "      <td>0</td>\n",
       "      <td>0</td>\n",
       "      <td>2016-03-11</td>\n",
       "      <td>2016-03-11 18:55:53</td>\n",
       "      <td>2016-03-12 23:47:10</td>\n",
       "      <td>27432</td>\n",
       "      <td>2016</td>\n",
       "      <td>27</td>\n",
       "    </tr>\n",
       "    <tr>\n",
       "      <th>231</th>\n",
       "      <td>ford</td>\n",
       "      <td>mondeo</td>\n",
       "      <td>wagon</td>\n",
       "      <td>manual</td>\n",
       "      <td>115</td>\n",
       "      <td>NaN</td>\n",
       "      <td>150000</td>\n",
       "      <td>2001</td>\n",
       "      <td>0</td>\n",
       "      <td>undefined</td>\n",
       "      <td>0</td>\n",
       "      <td>0</td>\n",
       "      <td>2016-03-16</td>\n",
       "      <td>2016-03-16 22:06:24</td>\n",
       "      <td>2016-03-26 11:17:50</td>\n",
       "      <td>57627</td>\n",
       "      <td>2016</td>\n",
       "      <td>22</td>\n",
       "    </tr>\n",
       "    <tr>\n",
       "      <th>268</th>\n",
       "      <td>audi</td>\n",
       "      <td>80</td>\n",
       "      <td>sedan</td>\n",
       "      <td>manual</td>\n",
       "      <td>90</td>\n",
       "      <td>petrol</td>\n",
       "      <td>70000</td>\n",
       "      <td>1990</td>\n",
       "      <td>6</td>\n",
       "      <td>no</td>\n",
       "      <td>0</td>\n",
       "      <td>1</td>\n",
       "      <td>2016-03-11</td>\n",
       "      <td>2016-03-12 07:26:49</td>\n",
       "      <td>2016-03-26 23:15:49</td>\n",
       "      <td>55122</td>\n",
       "      <td>2016</td>\n",
       "      <td>27</td>\n",
       "    </tr>\n",
       "    <tr>\n",
       "      <th>...</th>\n",
       "      <td>...</td>\n",
       "      <td>...</td>\n",
       "      <td>...</td>\n",
       "      <td>...</td>\n",
       "      <td>...</td>\n",
       "      <td>...</td>\n",
       "      <td>...</td>\n",
       "      <td>...</td>\n",
       "      <td>...</td>\n",
       "      <td>...</td>\n",
       "      <td>...</td>\n",
       "      <td>...</td>\n",
       "      <td>...</td>\n",
       "      <td>...</td>\n",
       "      <td>...</td>\n",
       "      <td>...</td>\n",
       "      <td>...</td>\n",
       "      <td>...</td>\n",
       "    </tr>\n",
       "    <tr>\n",
       "      <th>354238</th>\n",
       "      <td>ford</td>\n",
       "      <td>fiesta</td>\n",
       "      <td>small</td>\n",
       "      <td>manual</td>\n",
       "      <td>60</td>\n",
       "      <td>petrol</td>\n",
       "      <td>150000</td>\n",
       "      <td>2002</td>\n",
       "      <td>3</td>\n",
       "      <td>undefined</td>\n",
       "      <td>0</td>\n",
       "      <td>0</td>\n",
       "      <td>2016-03-20</td>\n",
       "      <td>2016-03-20 14:55:07</td>\n",
       "      <td>2016-04-06 18:45:23</td>\n",
       "      <td>33659</td>\n",
       "      <td>2016</td>\n",
       "      <td>18</td>\n",
       "    </tr>\n",
       "    <tr>\n",
       "      <th>354248</th>\n",
       "      <td>suzuki</td>\n",
       "      <td>swift</td>\n",
       "      <td>small</td>\n",
       "      <td>manual</td>\n",
       "      <td>53</td>\n",
       "      <td>petrol</td>\n",
       "      <td>150000</td>\n",
       "      <td>1999</td>\n",
       "      <td>3</td>\n",
       "      <td>undefined</td>\n",
       "      <td>0</td>\n",
       "      <td>0</td>\n",
       "      <td>2016-03-24</td>\n",
       "      <td>2016-03-24 13:48:05</td>\n",
       "      <td>2016-04-07 05:17:24</td>\n",
       "      <td>42329</td>\n",
       "      <td>2016</td>\n",
       "      <td>14</td>\n",
       "    </tr>\n",
       "    <tr>\n",
       "      <th>354273</th>\n",
       "      <td>opel</td>\n",
       "      <td>astra</td>\n",
       "      <td>small</td>\n",
       "      <td>manual</td>\n",
       "      <td>55</td>\n",
       "      <td>petrol</td>\n",
       "      <td>150000</td>\n",
       "      <td>1993</td>\n",
       "      <td>3</td>\n",
       "      <td>yes</td>\n",
       "      <td>0</td>\n",
       "      <td>150</td>\n",
       "      <td>2016-03-16</td>\n",
       "      <td>2016-03-16 15:47:56</td>\n",
       "      <td>2016-04-06 17:46:29</td>\n",
       "      <td>66424</td>\n",
       "      <td>2016</td>\n",
       "      <td>22</td>\n",
       "    </tr>\n",
       "    <tr>\n",
       "      <th>354277</th>\n",
       "      <td>seat</td>\n",
       "      <td>arosa</td>\n",
       "      <td>small</td>\n",
       "      <td>manual</td>\n",
       "      <td>37</td>\n",
       "      <td>petrol</td>\n",
       "      <td>150000</td>\n",
       "      <td>1999</td>\n",
       "      <td>7</td>\n",
       "      <td>yes</td>\n",
       "      <td>0</td>\n",
       "      <td>0</td>\n",
       "      <td>2016-03-10</td>\n",
       "      <td>2016-03-10 22:55:50</td>\n",
       "      <td>2016-03-12 23:46:32</td>\n",
       "      <td>22559</td>\n",
       "      <td>2016</td>\n",
       "      <td>28</td>\n",
       "    </tr>\n",
       "    <tr>\n",
       "      <th>354309</th>\n",
       "      <td>seat</td>\n",
       "      <td>arosa</td>\n",
       "      <td>small</td>\n",
       "      <td>manual</td>\n",
       "      <td>60</td>\n",
       "      <td>petrol</td>\n",
       "      <td>150000</td>\n",
       "      <td>1999</td>\n",
       "      <td>1</td>\n",
       "      <td>yes</td>\n",
       "      <td>0</td>\n",
       "      <td>99</td>\n",
       "      <td>2016-03-09</td>\n",
       "      <td>2016-03-09 22:37:41</td>\n",
       "      <td>2016-04-06 22:15:32</td>\n",
       "      <td>91301</td>\n",
       "      <td>2016</td>\n",
       "      <td>29</td>\n",
       "    </tr>\n",
       "  </tbody>\n",
       "</table>\n",
       "<p>8953 rows × 18 columns</p>\n",
       "</div>"
      ],
      "text/plain": [
       "                brand     model vehicle_type gearbox  power fuel_type  \\\n",
       "79               opel     astra          NaN  manual     75    petrol   \n",
       "89      mercedes_benz  e_klasse        sedan  manual    113    petrol   \n",
       "152              opel    meriva          bus  manual    101       lpg   \n",
       "231              ford    mondeo        wagon  manual    115       NaN   \n",
       "268              audi        80        sedan  manual     90    petrol   \n",
       "...               ...       ...          ...     ...    ...       ...   \n",
       "354238           ford    fiesta        small  manual     60    petrol   \n",
       "354248         suzuki     swift        small  manual     53    petrol   \n",
       "354273           opel     astra        small  manual     55    petrol   \n",
       "354277           seat     arosa        small  manual     37    petrol   \n",
       "354309           seat     arosa        small  manual     60    petrol   \n",
       "\n",
       "        kilometer  registration_year  registration_month   repaired  \\\n",
       "79         150000               2016                   3        yes   \n",
       "89         150000               1995                   4         no   \n",
       "152        150000               2004                  10        yes   \n",
       "231        150000               2001                   0  undefined   \n",
       "268         70000               1990                   6         no   \n",
       "...           ...                ...                 ...        ...   \n",
       "354238     150000               2002                   3  undefined   \n",
       "354248     150000               1999                   3  undefined   \n",
       "354273     150000               1993                   3        yes   \n",
       "354277     150000               1999                   7        yes   \n",
       "354309     150000               1999                   1        yes   \n",
       "\n",
       "        number_of_pictures  price date_created        date_crawled  \\\n",
       "79                       0    150   2016-03-17 2016-03-17 18:52:56   \n",
       "89                       0      1   2016-03-28 2016-03-28 09:37:01   \n",
       "152                      0      0   2016-03-11 2016-03-11 18:55:53   \n",
       "231                      0      0   2016-03-16 2016-03-16 22:06:24   \n",
       "268                      0      1   2016-03-11 2016-03-12 07:26:49   \n",
       "...                    ...    ...          ...                 ...   \n",
       "354238                   0      0   2016-03-20 2016-03-20 14:55:07   \n",
       "354248                   0      0   2016-03-24 2016-03-24 13:48:05   \n",
       "354273                   0    150   2016-03-16 2016-03-16 15:47:56   \n",
       "354277                   0      0   2016-03-10 2016-03-10 22:55:50   \n",
       "354309                   0     99   2016-03-09 2016-03-09 22:37:41   \n",
       "\n",
       "                 last_seen  postal_code  year_created  days  \n",
       "79     2016-04-05 03:45:22        78315          2016    21  \n",
       "89     2016-04-06 12:15:54        40589          2016    10  \n",
       "152    2016-03-12 23:47:10        27432          2016    27  \n",
       "231    2016-03-26 11:17:50        57627          2016    22  \n",
       "268    2016-03-26 23:15:49        55122          2016    27  \n",
       "...                    ...          ...           ...   ...  \n",
       "354238 2016-04-06 18:45:23        33659          2016    18  \n",
       "354248 2016-04-07 05:17:24        42329          2016    14  \n",
       "354273 2016-04-06 17:46:29        66424          2016    22  \n",
       "354277 2016-03-12 23:46:32        22559          2016    28  \n",
       "354309 2016-04-06 22:15:32        91301          2016    29  \n",
       "\n",
       "[8953 rows x 18 columns]"
      ]
     },
     "metadata": {},
     "output_type": "display_data"
    },
    {
     "name": "stdout",
     "output_type": "stream",
     "text": [
      "Из датасета удалено 8953 авто.\n"
     ]
    }
   ],
   "source": [
    "# аномально дешёвые автомобили\n",
    "display(df[df['price'] < 200])\n",
    "print(f'Из датасета удалено {len(df.query(\"price < 200\"))} авто.')\n",
    "df = df[df['price'] >= 200]"
   ]
  },
  {
   "cell_type": "markdown",
   "metadata": {},
   "source": [
    "### Почтовый индекс"
   ]
  },
  {
   "cell_type": "markdown",
   "metadata": {},
   "source": [
    "Судя по формату индекса, его составу и основываясь на общем впечатлении об исходном датасете, имеется предположение, что исследуемая область находится на территории Германии."
   ]
  },
  {
   "cell_type": "code",
   "execution_count": 32,
   "metadata": {
    "scrolled": true
   },
   "outputs": [
    {
     "data": {
      "text/plain": [
       "array([66954, 90480, 91074, ..., 97259, 95691, 86751], dtype=int64)"
      ]
     },
     "execution_count": 32,
     "metadata": {},
     "output_type": "execute_result"
    }
   ],
   "source": [
    "df['postal_code'].unique()"
   ]
  },
  {
   "cell_type": "markdown",
   "metadata": {},
   "source": [
    "### Фотографии в объявлениях"
   ]
  },
  {
   "cell_type": "markdown",
   "metadata": {},
   "source": [
    "У всех объявлений отутствует достоверная информации о количестве фотографий автомобиля. У всех это значение ровняется нулю. Поскольку колонка `number_of_pictures` не содержить сколь угодно полезной информации, она будет удалена из датафрейма."
   ]
  },
  {
   "cell_type": "code",
   "execution_count": 33,
   "metadata": {
    "scrolled": true
   },
   "outputs": [
    {
     "name": "stdout",
     "output_type": "stream",
     "text": [
      "Типичная численность фотографий автомобиля, которая встречается в объявлениях: [0]\n"
     ]
    }
   ],
   "source": [
    "print('Типичная численность фотографий автомобиля, которая встречается в объявлениях:', df['number_of_pictures'].unique())\n",
    "\n",
    "# удаление колонки 'number_of_pictures'\n",
    "df.drop(columns=['number_of_pictures'], inplace=True)"
   ]
  },
  {
   "cell_type": "markdown",
   "metadata": {},
   "source": [
    "## Заполнение пропусков"
   ]
  },
  {
   "cell_type": "markdown",
   "metadata": {},
   "source": [
    "Все обработанные предыдущие параметры авто (в частности дубликаты и аномалии)  позволяют создать сводную таблицу из различных моделей авто и их комплектаций для заполнения пропусков в других авто. Принцип работы: если у случайного автомобиля пропущен лишь один параметр (к примеру: название модели), а остальные значения присутствуют, то по ним осуществляется поиск автомобиля в точно такими же параметрами. Если результат поиска выдаёт один автомобиль, этот ответ считается однознаный, и название модели этого автомобиля заполняет пропуск.\n",
    "\n",
    "Автомобили, данные которых восстановить не получилось будут удалены."
   ]
  },
  {
   "cell_type": "code",
   "execution_count": 34,
   "metadata": {
    "scrolled": false
   },
   "outputs": [
    {
     "data": {
      "text/html": [
       "<div>\n",
       "<style scoped>\n",
       "    .dataframe tbody tr th:only-of-type {\n",
       "        vertical-align: middle;\n",
       "    }\n",
       "\n",
       "    .dataframe tbody tr th {\n",
       "        vertical-align: top;\n",
       "    }\n",
       "\n",
       "    .dataframe thead th {\n",
       "        text-align: right;\n",
       "    }\n",
       "</style>\n",
       "<table border=\"1\" class=\"dataframe\">\n",
       "  <thead>\n",
       "    <tr style=\"text-align: right;\">\n",
       "      <th></th>\n",
       "      <th>brand</th>\n",
       "      <th>model</th>\n",
       "      <th>vehicle_type</th>\n",
       "      <th>gearbox</th>\n",
       "      <th>power</th>\n",
       "      <th>fuel_type</th>\n",
       "    </tr>\n",
       "  </thead>\n",
       "  <tbody>\n",
       "    <tr>\n",
       "      <th>15254</th>\n",
       "      <td>alfa_romeo</td>\n",
       "      <td>145</td>\n",
       "      <td>sedan</td>\n",
       "      <td>manual</td>\n",
       "      <td>103</td>\n",
       "      <td>petrol</td>\n",
       "    </tr>\n",
       "    <tr>\n",
       "      <th>23713</th>\n",
       "      <td>alfa_romeo</td>\n",
       "      <td>145</td>\n",
       "      <td>small</td>\n",
       "      <td>manual</td>\n",
       "      <td>103</td>\n",
       "      <td>petrol</td>\n",
       "    </tr>\n",
       "    <tr>\n",
       "      <th>73386</th>\n",
       "      <td>alfa_romeo</td>\n",
       "      <td>145</td>\n",
       "      <td>coupe</td>\n",
       "      <td>manual</td>\n",
       "      <td>103</td>\n",
       "      <td>petrol</td>\n",
       "    </tr>\n",
       "    <tr>\n",
       "      <th>133817</th>\n",
       "      <td>alfa_romeo</td>\n",
       "      <td>145</td>\n",
       "      <td>sedan</td>\n",
       "      <td>manual</td>\n",
       "      <td>119</td>\n",
       "      <td>petrol</td>\n",
       "    </tr>\n",
       "    <tr>\n",
       "      <th>146336</th>\n",
       "      <td>alfa_romeo</td>\n",
       "      <td>145</td>\n",
       "      <td>sedan</td>\n",
       "      <td>manual</td>\n",
       "      <td>120</td>\n",
       "      <td>petrol</td>\n",
       "    </tr>\n",
       "    <tr>\n",
       "      <th>...</th>\n",
       "      <td>...</td>\n",
       "      <td>...</td>\n",
       "      <td>...</td>\n",
       "      <td>...</td>\n",
       "      <td>...</td>\n",
       "      <td>...</td>\n",
       "    </tr>\n",
       "    <tr>\n",
       "      <th>281887</th>\n",
       "      <td>volvo</td>\n",
       "      <td>xc_reihe</td>\n",
       "      <td>suv</td>\n",
       "      <td>auto</td>\n",
       "      <td>210</td>\n",
       "      <td>petrol</td>\n",
       "    </tr>\n",
       "    <tr>\n",
       "      <th>295575</th>\n",
       "      <td>volvo</td>\n",
       "      <td>xc_reihe</td>\n",
       "      <td>suv</td>\n",
       "      <td>auto</td>\n",
       "      <td>267</td>\n",
       "      <td>petrol</td>\n",
       "    </tr>\n",
       "    <tr>\n",
       "      <th>303282</th>\n",
       "      <td>volvo</td>\n",
       "      <td>xc_reihe</td>\n",
       "      <td>suv</td>\n",
       "      <td>auto</td>\n",
       "      <td>208</td>\n",
       "      <td>petrol</td>\n",
       "    </tr>\n",
       "    <tr>\n",
       "      <th>343491</th>\n",
       "      <td>volvo</td>\n",
       "      <td>xc_reihe</td>\n",
       "      <td>suv</td>\n",
       "      <td>auto</td>\n",
       "      <td>181</td>\n",
       "      <td>petrol</td>\n",
       "    </tr>\n",
       "    <tr>\n",
       "      <th>353069</th>\n",
       "      <td>volvo</td>\n",
       "      <td>xc_reihe</td>\n",
       "      <td>wagon</td>\n",
       "      <td>manual</td>\n",
       "      <td>200</td>\n",
       "      <td>petrol</td>\n",
       "    </tr>\n",
       "  </tbody>\n",
       "</table>\n",
       "<p>18625 rows × 6 columns</p>\n",
       "</div>"
      ],
      "text/plain": [
       "             brand     model vehicle_type gearbox  power fuel_type\n",
       "15254   alfa_romeo       145        sedan  manual    103    petrol\n",
       "23713   alfa_romeo       145        small  manual    103    petrol\n",
       "73386   alfa_romeo       145        coupe  manual    103    petrol\n",
       "133817  alfa_romeo       145        sedan  manual    119    petrol\n",
       "146336  alfa_romeo       145        sedan  manual    120    petrol\n",
       "...            ...       ...          ...     ...    ...       ...\n",
       "281887       volvo  xc_reihe          suv    auto    210    petrol\n",
       "295575       volvo  xc_reihe          suv    auto    267    petrol\n",
       "303282       volvo  xc_reihe          suv    auto    208    petrol\n",
       "343491       volvo  xc_reihe          suv    auto    181    petrol\n",
       "353069       volvo  xc_reihe        wagon  manual    200    petrol\n",
       "\n",
       "[18625 rows x 6 columns]"
      ]
     },
     "metadata": {},
     "output_type": "display_data"
    }
   ],
   "source": [
    "# создание сводной таблицы различных моделей авто и их комплектаций\n",
    "autos = df[['brand', 'model', 'vehicle_type', 'gearbox', 'power', 'fuel_type']]\n",
    "autos = autos[~autos['brand'].isna()]\n",
    "autos = autos[~autos['model'].isna()]\n",
    "autos = autos[~autos['power'].isna()]\n",
    "autos = autos[~autos['gearbox'].isna()]\n",
    "autos = autos[~autos['fuel_type'].isna()]\n",
    "autos = autos[~autos['vehicle_type'].isna()]\n",
    "\n",
    "autos.drop_duplicates(inplace=True)\n",
    "autos.sort_values(by=['brand', 'model'], inplace=True)\n",
    "\n",
    "display(autos)"
   ]
  },
  {
   "cell_type": "markdown",
   "metadata": {},
   "source": [
    "### Модели"
   ]
  },
  {
   "cell_type": "code",
   "execution_count": 35,
   "metadata": {},
   "outputs": [
    {
     "name": "stdout",
     "output_type": "stream",
     "text": [
      "Количество восстановленных пропусков: 808\n",
      "Количество удалённых объектов:        7127\n",
      "Wall time: 1min 29s\n"
     ]
    }
   ],
   "source": [
    "%%time\n",
    "nan_index = df[df['model'].isna()].index\n",
    "counter = 0\n",
    "\n",
    "for i in nan_index:\n",
    "    \n",
    "    # сохранение пар-ов авто\n",
    "    brand = df.loc[i, 'brand']\n",
    "    power = df.loc[i, 'power']\n",
    "    gearbox = df.loc[i, 'gearbox']\n",
    "    fuel_type = df.loc[i, 'fuel_type']\n",
    "    vehicle_type = df.loc[i, 'vehicle_type']\n",
    "    \n",
    "    try:\n",
    "        # поиск аналогичного автомобиля без пропусков в пар-ах\n",
    "        source = autos[((autos['brand'] == brand) &\n",
    "                        (autos['power'] == power) &\n",
    "                        (autos['gearbox'] == gearbox) &\n",
    "                        (autos['fuel_type'] == fuel_type) &\n",
    "                        (autos['vehicle_type'] == vehicle_type))]\n",
    "        \n",
    "        # если существует лишь одна модель с такимиже пар-ми, то\n",
    "        if len(source['model'].unique()) == 1:\n",
    "            \n",
    "            # пропуск заполняется этим уникальным названием модели\n",
    "            df.loc[i, 'model'] = source['model'].unique()[0]\n",
    "            counter = counter + 1\n",
    "        \n",
    "    except:\n",
    "        print('Не удалось найти замену')\n",
    "\n",
    "print('Количество восстановленных пропусков:', counter)\n",
    "print('Количество удалённых объектов:       ', len(df[df['model'].isna()]))\n",
    "df.dropna(subset=['model'], inplace=True)"
   ]
  },
  {
   "cell_type": "markdown",
   "metadata": {},
   "source": [
    "### Тип кузова"
   ]
  },
  {
   "cell_type": "code",
   "execution_count": 36,
   "metadata": {},
   "outputs": [
    {
     "name": "stdout",
     "output_type": "stream",
     "text": [
      "Количество восстановленных пропусков: 287\n",
      "Количество удалённых объектов:        5457\n",
      "Wall time: 56.7 s\n"
     ]
    }
   ],
   "source": [
    "%%time\n",
    "nan_index = df[df['vehicle_type'].isna()].index\n",
    "counter = 0\n",
    "\n",
    "for i in nan_index:\n",
    "    brand = df.loc[i, 'brand']\n",
    "    model = df.loc[i, 'model']\n",
    "    power = df.loc[i, 'power']\n",
    "    gearbox = df.loc[i, 'gearbox']\n",
    "    fuel_type = df.loc[i, 'fuel_type']\n",
    "    \n",
    "    try:\n",
    "        source = autos[((autos['brand'] == brand) &\n",
    "                        (autos['model'] == model) &\n",
    "                        (autos['power'] == power) &\n",
    "                        (autos['gearbox'] == gearbox) &\n",
    "                        (autos['fuel_type'] == fuel_type))]\n",
    "        if len(source['vehicle_type'].unique()) == 1:\n",
    "            df.loc[i, 'vehicle_type'] = source['vehicle_type'].unique()[0]\n",
    "            counter = counter + 1\n",
    "    except:\n",
    "        print('Не удалось найти замену')\n",
    "\n",
    "print('Количество восстановленных пропусков:', counter)\n",
    "print('Количество удалённых объектов:       ', len(df[df['vehicle_type'].isna()]))\n",
    "df.dropna(subset=['vehicle_type'], inplace=True)"
   ]
  },
  {
   "cell_type": "markdown",
   "metadata": {},
   "source": [
    "### Тип топлива"
   ]
  },
  {
   "cell_type": "code",
   "execution_count": 37,
   "metadata": {},
   "outputs": [
    {
     "name": "stdout",
     "output_type": "stream",
     "text": [
      "Количество восстановленных пропусков: 3156\n",
      "Количество удалённых объектов:        4889\n",
      "Wall time: 1min 53s\n"
     ]
    }
   ],
   "source": [
    "%%time\n",
    "nan_index = df[df['fuel_type'].isna()].index\n",
    "counter = 0\n",
    "\n",
    "for i in nan_index:\n",
    "    brand = df.loc[i, 'brand']\n",
    "    model = df.loc[i, 'model']\n",
    "    power = df.loc[i, 'power']\n",
    "    gearbox = df.loc[i, 'gearbox']\n",
    "    vehicle_type = df.loc[i, 'vehicle_type']\n",
    "    \n",
    "    try:\n",
    "        source = autos[((autos['brand'] == brand) &\n",
    "                        (autos['model'] == model) &\n",
    "                        (autos['power'] == power) &\n",
    "                        (autos['gearbox'] == gearbox) &\n",
    "                        (autos['vehicle_type'] == vehicle_type))]\n",
    "        if len(source['fuel_type'].unique()) == 1:\n",
    "            df.loc[i, 'fuel_type'] = source['fuel_type'].unique()[0]\n",
    "            counter = counter + 1\n",
    "    except:\n",
    "        print('Не удалось найти замену')\n",
    "\n",
    "print('Количество восстановленных пропусков:', counter)\n",
    "print('Количество удалённых объектов:       ', len(df[df['fuel_type'].isna()]))\n",
    "df.dropna(subset=['fuel_type'], inplace=True)"
   ]
  },
  {
   "cell_type": "markdown",
   "metadata": {},
   "source": [
    "### Трансмиссия"
   ]
  },
  {
   "cell_type": "code",
   "execution_count": 38,
   "metadata": {},
   "outputs": [
    {
     "name": "stdout",
     "output_type": "stream",
     "text": [
      "Количество восстановленных пропусков: 500\n",
      "Wall time: 35.2 s\n"
     ]
    }
   ],
   "source": [
    "%%time\n",
    "nan_index = df[df['gearbox'].isna()].index\n",
    "counter = 0\n",
    "\n",
    "for i in nan_index:\n",
    "    brand = df.loc[i, 'brand']\n",
    "    model = df.loc[i, 'model']\n",
    "    power = df.loc[i, 'power']\n",
    "    fuel_type = df.loc[i, 'fuel_type']\n",
    "    vehicle_type = df.loc[i, 'vehicle_type']\n",
    "    \n",
    "    try:\n",
    "        source = autos[((autos['brand'] == brand) &\n",
    "                        (autos['model'] == model) &\n",
    "                        (autos['power'] == power) &\n",
    "                        (autos['fuel_type'] == fuel_type) &\n",
    "                        (autos['vehicle_type'] == vehicle_type))]\n",
    "        if len(source['gearbox'].unique()) == 1:\n",
    "            df.loc[i, 'gearbox'] = source['gearbox'].unique()[0]\n",
    "            counter = counter + 1\n",
    "    except:\n",
    "        print('Не удалось найти замену')\n",
    "\n",
    "print('Количество восстановленных пропусков:', counter)\n",
    "df['gearbox'].fillna('undefined', inplace=True)"
   ]
  },
  {
   "cell_type": "code",
   "execution_count": 39,
   "metadata": {},
   "outputs": [
    {
     "data": {
      "text/html": [
       "<div>\n",
       "<style scoped>\n",
       "    .dataframe tbody tr th:only-of-type {\n",
       "        vertical-align: middle;\n",
       "    }\n",
       "\n",
       "    .dataframe tbody tr th {\n",
       "        vertical-align: top;\n",
       "    }\n",
       "\n",
       "    .dataframe thead th {\n",
       "        text-align: right;\n",
       "    }\n",
       "</style>\n",
       "<table border=\"1\" class=\"dataframe\">\n",
       "  <thead>\n",
       "    <tr style=\"text-align: right;\">\n",
       "      <th></th>\n",
       "      <th>brand</th>\n",
       "      <th>model</th>\n",
       "      <th>vehicle_type</th>\n",
       "      <th>gearbox</th>\n",
       "      <th>power</th>\n",
       "      <th>fuel_type</th>\n",
       "      <th>kilometer</th>\n",
       "      <th>registration_year</th>\n",
       "      <th>registration_month</th>\n",
       "      <th>repaired</th>\n",
       "      <th>price</th>\n",
       "      <th>date_created</th>\n",
       "      <th>date_crawled</th>\n",
       "      <th>last_seen</th>\n",
       "      <th>postal_code</th>\n",
       "      <th>year_created</th>\n",
       "      <th>days</th>\n",
       "    </tr>\n",
       "  </thead>\n",
       "  <tbody>\n",
       "    <tr>\n",
       "      <th>60554</th>\n",
       "      <td>ford</td>\n",
       "      <td>kuga</td>\n",
       "      <td>suv</td>\n",
       "      <td>manual</td>\n",
       "      <td>150</td>\n",
       "      <td>petrol</td>\n",
       "      <td>20000</td>\n",
       "      <td>2015</td>\n",
       "      <td>6</td>\n",
       "      <td>no</td>\n",
       "      <td>18400</td>\n",
       "      <td>2016-03-23</td>\n",
       "      <td>2016-03-23 13:57:38</td>\n",
       "      <td>2016-03-31 00:17:19</td>\n",
       "      <td>50827</td>\n",
       "      <td>2016</td>\n",
       "      <td>15</td>\n",
       "    </tr>\n",
       "    <tr>\n",
       "      <th>70709</th>\n",
       "      <td>renault</td>\n",
       "      <td>laguna</td>\n",
       "      <td>wagon</td>\n",
       "      <td>manual</td>\n",
       "      <td>131</td>\n",
       "      <td>petrol</td>\n",
       "      <td>125000</td>\n",
       "      <td>2007</td>\n",
       "      <td>6</td>\n",
       "      <td>no</td>\n",
       "      <td>2100</td>\n",
       "      <td>2016-03-14</td>\n",
       "      <td>2016-03-14 12:53:43</td>\n",
       "      <td>2016-03-16 03:15:45</td>\n",
       "      <td>41472</td>\n",
       "      <td>2016</td>\n",
       "      <td>24</td>\n",
       "    </tr>\n",
       "    <tr>\n",
       "      <th>72661</th>\n",
       "      <td>opel</td>\n",
       "      <td>corsa</td>\n",
       "      <td>small</td>\n",
       "      <td>manual</td>\n",
       "      <td>45</td>\n",
       "      <td>petrol</td>\n",
       "      <td>150000</td>\n",
       "      <td>1996</td>\n",
       "      <td>1</td>\n",
       "      <td>yes</td>\n",
       "      <td>500</td>\n",
       "      <td>2016-03-30</td>\n",
       "      <td>2016-03-30 21:56:42</td>\n",
       "      <td>2016-04-05 12:20:44</td>\n",
       "      <td>27753</td>\n",
       "      <td>2016</td>\n",
       "      <td>8</td>\n",
       "    </tr>\n",
       "    <tr>\n",
       "      <th>73869</th>\n",
       "      <td>opel</td>\n",
       "      <td>omega</td>\n",
       "      <td>sedan</td>\n",
       "      <td>auto</td>\n",
       "      <td>144</td>\n",
       "      <td>petrol</td>\n",
       "      <td>150000</td>\n",
       "      <td>2000</td>\n",
       "      <td>12</td>\n",
       "      <td>no</td>\n",
       "      <td>3000</td>\n",
       "      <td>2016-03-06</td>\n",
       "      <td>2016-03-06 16:23:20</td>\n",
       "      <td>2016-03-11 07:16:27</td>\n",
       "      <td>64546</td>\n",
       "      <td>2016</td>\n",
       "      <td>32</td>\n",
       "    </tr>\n",
       "    <tr>\n",
       "      <th>76278</th>\n",
       "      <td>skoda</td>\n",
       "      <td>octavia</td>\n",
       "      <td>wagon</td>\n",
       "      <td>manual</td>\n",
       "      <td>150</td>\n",
       "      <td>petrol</td>\n",
       "      <td>150000</td>\n",
       "      <td>2008</td>\n",
       "      <td>1</td>\n",
       "      <td>no</td>\n",
       "      <td>10800</td>\n",
       "      <td>2016-03-27</td>\n",
       "      <td>2016-03-27 10:54:53</td>\n",
       "      <td>2016-04-07 06:44:56</td>\n",
       "      <td>82499</td>\n",
       "      <td>2016</td>\n",
       "      <td>11</td>\n",
       "    </tr>\n",
       "    <tr>\n",
       "      <th>...</th>\n",
       "      <td>...</td>\n",
       "      <td>...</td>\n",
       "      <td>...</td>\n",
       "      <td>...</td>\n",
       "      <td>...</td>\n",
       "      <td>...</td>\n",
       "      <td>...</td>\n",
       "      <td>...</td>\n",
       "      <td>...</td>\n",
       "      <td>...</td>\n",
       "      <td>...</td>\n",
       "      <td>...</td>\n",
       "      <td>...</td>\n",
       "      <td>...</td>\n",
       "      <td>...</td>\n",
       "      <td>...</td>\n",
       "      <td>...</td>\n",
       "    </tr>\n",
       "    <tr>\n",
       "      <th>344354</th>\n",
       "      <td>volkswagen</td>\n",
       "      <td>transporter</td>\n",
       "      <td>bus</td>\n",
       "      <td>manual</td>\n",
       "      <td>174</td>\n",
       "      <td>petrol</td>\n",
       "      <td>150000</td>\n",
       "      <td>2006</td>\n",
       "      <td>6</td>\n",
       "      <td>no</td>\n",
       "      <td>18800</td>\n",
       "      <td>2016-04-03</td>\n",
       "      <td>2016-04-03 23:49:20</td>\n",
       "      <td>2016-04-06 04:17:31</td>\n",
       "      <td>24796</td>\n",
       "      <td>2016</td>\n",
       "      <td>4</td>\n",
       "    </tr>\n",
       "    <tr>\n",
       "      <th>347229</th>\n",
       "      <td>peugeot</td>\n",
       "      <td>4_reihe</td>\n",
       "      <td>wagon</td>\n",
       "      <td>manual</td>\n",
       "      <td>170</td>\n",
       "      <td>petrol</td>\n",
       "      <td>150000</td>\n",
       "      <td>2006</td>\n",
       "      <td>11</td>\n",
       "      <td>no</td>\n",
       "      <td>2500</td>\n",
       "      <td>2016-03-10</td>\n",
       "      <td>2016-03-10 09:53:50</td>\n",
       "      <td>2016-03-12 12:44:15</td>\n",
       "      <td>32130</td>\n",
       "      <td>2016</td>\n",
       "      <td>28</td>\n",
       "    </tr>\n",
       "    <tr>\n",
       "      <th>349163</th>\n",
       "      <td>toyota</td>\n",
       "      <td>corolla</td>\n",
       "      <td>small</td>\n",
       "      <td>manual</td>\n",
       "      <td>97</td>\n",
       "      <td>petrol</td>\n",
       "      <td>125000</td>\n",
       "      <td>2003</td>\n",
       "      <td>9</td>\n",
       "      <td>no</td>\n",
       "      <td>3690</td>\n",
       "      <td>2016-03-15</td>\n",
       "      <td>2016-03-15 16:49:28</td>\n",
       "      <td>2016-03-20 12:46:36</td>\n",
       "      <td>89415</td>\n",
       "      <td>2016</td>\n",
       "      <td>23</td>\n",
       "    </tr>\n",
       "    <tr>\n",
       "      <th>351816</th>\n",
       "      <td>daewoo</td>\n",
       "      <td>nubira</td>\n",
       "      <td>wagon</td>\n",
       "      <td>manual</td>\n",
       "      <td>124</td>\n",
       "      <td>petrol</td>\n",
       "      <td>150000</td>\n",
       "      <td>2002</td>\n",
       "      <td>7</td>\n",
       "      <td>no</td>\n",
       "      <td>850</td>\n",
       "      <td>2016-03-08</td>\n",
       "      <td>2016-03-16 18:47:15</td>\n",
       "      <td>2016-03-18 01:44:09</td>\n",
       "      <td>72393</td>\n",
       "      <td>2016</td>\n",
       "      <td>30</td>\n",
       "    </tr>\n",
       "    <tr>\n",
       "      <th>353027</th>\n",
       "      <td>mercedes_benz</td>\n",
       "      <td>a_klasse</td>\n",
       "      <td>sedan</td>\n",
       "      <td>manual</td>\n",
       "      <td>95</td>\n",
       "      <td>petrol</td>\n",
       "      <td>150000</td>\n",
       "      <td>2002</td>\n",
       "      <td>3</td>\n",
       "      <td>no</td>\n",
       "      <td>2000</td>\n",
       "      <td>2016-03-23</td>\n",
       "      <td>2016-03-23 20:49:38</td>\n",
       "      <td>2016-04-06 02:16:42</td>\n",
       "      <td>91332</td>\n",
       "      <td>2016</td>\n",
       "      <td>15</td>\n",
       "    </tr>\n",
       "  </tbody>\n",
       "</table>\n",
       "<p>133 rows × 17 columns</p>\n",
       "</div>"
      ],
      "text/plain": [
       "                brand        model vehicle_type gearbox  power fuel_type  \\\n",
       "60554            ford         kuga          suv  manual    150    petrol   \n",
       "70709         renault       laguna        wagon  manual    131    petrol   \n",
       "72661            opel        corsa        small  manual     45    petrol   \n",
       "73869            opel        omega        sedan    auto    144    petrol   \n",
       "76278           skoda      octavia        wagon  manual    150    petrol   \n",
       "...               ...          ...          ...     ...    ...       ...   \n",
       "344354     volkswagen  transporter          bus  manual    174    petrol   \n",
       "347229        peugeot      4_reihe        wagon  manual    170    petrol   \n",
       "349163         toyota      corolla        small  manual     97    petrol   \n",
       "351816         daewoo       nubira        wagon  manual    124    petrol   \n",
       "353027  mercedes_benz     a_klasse        sedan  manual     95    petrol   \n",
       "\n",
       "        kilometer  registration_year  registration_month repaired  price  \\\n",
       "60554       20000               2015                   6       no  18400   \n",
       "70709      125000               2007                   6       no   2100   \n",
       "72661      150000               1996                   1      yes    500   \n",
       "73869      150000               2000                  12       no   3000   \n",
       "76278      150000               2008                   1       no  10800   \n",
       "...           ...                ...                 ...      ...    ...   \n",
       "344354     150000               2006                   6       no  18800   \n",
       "347229     150000               2006                  11       no   2500   \n",
       "349163     125000               2003                   9       no   3690   \n",
       "351816     150000               2002                   7       no    850   \n",
       "353027     150000               2002                   3       no   2000   \n",
       "\n",
       "       date_created        date_crawled           last_seen  postal_code  \\\n",
       "60554    2016-03-23 2016-03-23 13:57:38 2016-03-31 00:17:19        50827   \n",
       "70709    2016-03-14 2016-03-14 12:53:43 2016-03-16 03:15:45        41472   \n",
       "72661    2016-03-30 2016-03-30 21:56:42 2016-04-05 12:20:44        27753   \n",
       "73869    2016-03-06 2016-03-06 16:23:20 2016-03-11 07:16:27        64546   \n",
       "76278    2016-03-27 2016-03-27 10:54:53 2016-04-07 06:44:56        82499   \n",
       "...             ...                 ...                 ...          ...   \n",
       "344354   2016-04-03 2016-04-03 23:49:20 2016-04-06 04:17:31        24796   \n",
       "347229   2016-03-10 2016-03-10 09:53:50 2016-03-12 12:44:15        32130   \n",
       "349163   2016-03-15 2016-03-15 16:49:28 2016-03-20 12:46:36        89415   \n",
       "351816   2016-03-08 2016-03-16 18:47:15 2016-03-18 01:44:09        72393   \n",
       "353027   2016-03-23 2016-03-23 20:49:38 2016-04-06 02:16:42        91332   \n",
       "\n",
       "        year_created  days  \n",
       "60554           2016    15  \n",
       "70709           2016    24  \n",
       "72661           2016     8  \n",
       "73869           2016    32  \n",
       "76278           2016    11  \n",
       "...              ...   ...  \n",
       "344354          2016     4  \n",
       "347229          2016    28  \n",
       "349163          2016    23  \n",
       "351816          2016    30  \n",
       "353027          2016    15  \n",
       "\n",
       "[133 rows x 17 columns]"
      ]
     },
     "metadata": {},
     "output_type": "display_data"
    },
    {
     "name": "stdout",
     "output_type": "stream",
     "text": [
      "\n",
      " Из датасета удалено 133 авто.\n"
     ]
    }
   ],
   "source": [
    "# повторный поиск (контроль) новых дубликатов\n",
    "dupl_autos = df[df[['brand', 'model', 'vehicle_type', 'gearbox', 'power', 'fuel_type', 'kilometer',\n",
    "                    'registration_year', 'registration_month', 'repaired', 'price', 'date_created']].duplicated()].index\n",
    "\n",
    "display(df.loc[dupl_autos])\n",
    "df.drop(dupl_autos, inplace=True)\n",
    "print(f'\\n Из датасета удалено {len(dupl_autos)} авто.')"
   ]
  },
  {
   "cell_type": "markdown",
   "metadata": {},
   "source": [
    "### Финальный шаг"
   ]
  },
  {
   "cell_type": "markdown",
   "metadata": {},
   "source": [
    "Этап предобработки окончен и по этой причине, помимо колонки `number_of_pictures`, будут удалены колонки: `date_crawled` (дата скачивания анкеты объявления из базы) и `last_seen` (дата последней активности пользователя) поскольку их значения фактически не влияют на стоимость авто. А взамен колонки `date_created` (дата создания объявления) будут использованы те же данные, в упрощённом формате: `days` (кол-во дней с момента публикаций)."
   ]
  },
  {
   "cell_type": "code",
   "execution_count": 40,
   "metadata": {},
   "outputs": [
    {
     "data": {
      "text/html": [
       "<div>\n",
       "<style scoped>\n",
       "    .dataframe tbody tr th:only-of-type {\n",
       "        vertical-align: middle;\n",
       "    }\n",
       "\n",
       "    .dataframe tbody tr th {\n",
       "        vertical-align: top;\n",
       "    }\n",
       "\n",
       "    .dataframe thead th {\n",
       "        text-align: right;\n",
       "    }\n",
       "</style>\n",
       "<table border=\"1\" class=\"dataframe\">\n",
       "  <thead>\n",
       "    <tr style=\"text-align: right;\">\n",
       "      <th></th>\n",
       "      <th>brand</th>\n",
       "      <th>model</th>\n",
       "      <th>vehicle_type</th>\n",
       "      <th>gearbox</th>\n",
       "      <th>power</th>\n",
       "      <th>fuel_type</th>\n",
       "      <th>kilometer</th>\n",
       "      <th>registration_year</th>\n",
       "      <th>repaired</th>\n",
       "      <th>price</th>\n",
       "      <th>postal_code</th>\n",
       "      <th>days</th>\n",
       "    </tr>\n",
       "  </thead>\n",
       "  <tbody>\n",
       "    <tr>\n",
       "      <th>0</th>\n",
       "      <td>jeep</td>\n",
       "      <td>grand</td>\n",
       "      <td>suv</td>\n",
       "      <td>auto</td>\n",
       "      <td>163</td>\n",
       "      <td>petrol</td>\n",
       "      <td>125000</td>\n",
       "      <td>2004</td>\n",
       "      <td>undefined</td>\n",
       "      <td>9800</td>\n",
       "      <td>90480</td>\n",
       "      <td>24</td>\n",
       "    </tr>\n",
       "    <tr>\n",
       "      <th>1</th>\n",
       "      <td>volkswagen</td>\n",
       "      <td>golf</td>\n",
       "      <td>small</td>\n",
       "      <td>manual</td>\n",
       "      <td>75</td>\n",
       "      <td>petrol</td>\n",
       "      <td>150000</td>\n",
       "      <td>2001</td>\n",
       "      <td>no</td>\n",
       "      <td>1500</td>\n",
       "      <td>91074</td>\n",
       "      <td>21</td>\n",
       "    </tr>\n",
       "    <tr>\n",
       "      <th>2</th>\n",
       "      <td>skoda</td>\n",
       "      <td>fabia</td>\n",
       "      <td>small</td>\n",
       "      <td>manual</td>\n",
       "      <td>69</td>\n",
       "      <td>petrol</td>\n",
       "      <td>90000</td>\n",
       "      <td>2008</td>\n",
       "      <td>no</td>\n",
       "      <td>3600</td>\n",
       "      <td>60437</td>\n",
       "      <td>7</td>\n",
       "    </tr>\n",
       "    <tr>\n",
       "      <th>3</th>\n",
       "      <td>bmw</td>\n",
       "      <td>3er</td>\n",
       "      <td>sedan</td>\n",
       "      <td>manual</td>\n",
       "      <td>102</td>\n",
       "      <td>petrol</td>\n",
       "      <td>150000</td>\n",
       "      <td>1995</td>\n",
       "      <td>yes</td>\n",
       "      <td>650</td>\n",
       "      <td>33775</td>\n",
       "      <td>3</td>\n",
       "    </tr>\n",
       "    <tr>\n",
       "      <th>4</th>\n",
       "      <td>peugeot</td>\n",
       "      <td>2_reihe</td>\n",
       "      <td>convertible</td>\n",
       "      <td>manual</td>\n",
       "      <td>109</td>\n",
       "      <td>petrol</td>\n",
       "      <td>150000</td>\n",
       "      <td>2004</td>\n",
       "      <td>no</td>\n",
       "      <td>2200</td>\n",
       "      <td>67112</td>\n",
       "      <td>6</td>\n",
       "    </tr>\n",
       "  </tbody>\n",
       "</table>\n",
       "</div>"
      ],
      "text/plain": [
       "        brand    model vehicle_type gearbox  power fuel_type  kilometer  \\\n",
       "0        jeep    grand          suv    auto    163    petrol     125000   \n",
       "1  volkswagen     golf        small  manual     75    petrol     150000   \n",
       "2       skoda    fabia        small  manual     69    petrol      90000   \n",
       "3         bmw      3er        sedan  manual    102    petrol     150000   \n",
       "4     peugeot  2_reihe  convertible  manual    109    petrol     150000   \n",
       "\n",
       "   registration_year   repaired  price  postal_code  days  \n",
       "0               2004  undefined   9800        90480    24  \n",
       "1               2001         no   1500        91074    21  \n",
       "2               2008         no   3600        60437     7  \n",
       "3               1995        yes    650        33775     3  \n",
       "4               2004         no   2200        67112     6  "
      ]
     },
     "metadata": {},
     "output_type": "display_data"
    },
    {
     "name": "stdout",
     "output_type": "stream",
     "text": [
      "<class 'pandas.core.frame.DataFrame'>\n",
      "RangeIndex: 243012 entries, 0 to 243011\n",
      "Data columns (total 12 columns):\n",
      " #   Column             Non-Null Count   Dtype \n",
      "---  ------             --------------   ----- \n",
      " 0   brand              243012 non-null  object\n",
      " 1   model              243012 non-null  object\n",
      " 2   vehicle_type       243012 non-null  object\n",
      " 3   gearbox            243012 non-null  object\n",
      " 4   power              243012 non-null  int64 \n",
      " 5   fuel_type          243012 non-null  object\n",
      " 6   kilometer          243012 non-null  int64 \n",
      " 7   registration_year  243012 non-null  int64 \n",
      " 8   repaired           243012 non-null  object\n",
      " 9   price              243012 non-null  int64 \n",
      " 10  postal_code        243012 non-null  int64 \n",
      " 11  days               243012 non-null  int64 \n",
      "dtypes: int64(6), object(6)\n",
      "memory usage: 22.2+ MB\n",
      "None\n",
      "Пропуски - отсутствуют.\n"
     ]
    },
    {
     "data": {
      "image/png": "[encoded data removed]",
      "text/plain": [
       "<Figure size 1008x432 with 1 Axes>"
      ]
     },
     "metadata": {},
     "output_type": "display_data"
    }
   ],
   "source": [
    "df.drop(columns=['date_crawled', 'last_seen', 'registration_month', 'date_created', 'year_created'], inplace=True)\n",
    "df.reset_index(drop=True, inplace=True)\n",
    "\n",
    "display(df.head())\n",
    "print(df.info())\n",
    "pass_value_barh(df)"
   ]
  },
  {
   "cell_type": "markdown",
   "metadata": {},
   "source": [
    "**Итог:**\n",
    "- **наименование столбцов** и содержание датафрейма приведено к единому стандарту: `змеиный_регистр`;\n",
    "- явные **дубликаты**: выявлены и удалены повторно скаченные объявления;\n",
    "- неявные дубликаты: типы топлива _gasoline_ и _petrol_ объеденены под последним названием, как наиболее популярным. Подобные дубликаты и ошибки в других колонках - отсутствуют;\n",
    "- установленные **времянны́е рамки**: в датафрейме собраны объявления за последние 35 дней, и автомобили с 1990 - 2016 год регистрации;\n",
    "- одинарные **пропуски** заполнены из параметров однотипных автомобилей. Была создана сводная таблица различных моделей авто их параметров, которая стала источником для дополнения пропусков;\n",
    "- неявные пропуски: категория малоизвестных автомобилей `sonstige_autos` без точного имяни бренда/модели - удалены;\n",
    "- **аномальные значения** (стоимость автомобиля 0€ и др.) - удалены;\n",
    "- **индексация** обновлена.\n",
    "\n",
    "По результату предобработки данных осталось около **243 000 объектов**, которые характеризуются следующими значениями (**12 колонок**) : `brand`,\t`model`, `vehicle_type`, `gearbox`, `power`, `fuel_type,` `kilometer`, `registration_year`, `repaired`, `price`, `postal_code`, `days`.\n",
    "___"
   ]
  },
  {
   "cell_type": "markdown",
   "metadata": {},
   "source": [
    "## Обучение моделей"
   ]
  },
  {
   "cell_type": "markdown",
   "metadata": {},
   "source": [
    "Перед началом нового раздела в проекте, напомню **ключевые технические термины**, которые будут далее использоваться в проекте:\n",
    "- автомобиль — это объект,\n",
    "- параметры автомобиля — признаки объекта,\n",
    "- стоимость автомобиля — целевой признак, которые необходимо предсказать по значениям других признаков."
   ]
  },
  {
   "cell_type": "markdown",
   "metadata": {},
   "source": [
    "### Валидация данных"
   ]
  },
  {
   "cell_type": "markdown",
   "metadata": {},
   "source": [
    "Деление исходного датасета на 3 выборки под разные задачи:\n",
    "- **Тренировочная** (60%) — на её объектах модель будет обучена;\n",
    "- **Валидационная** (20%) — на её объектах модель будет контролироваться и корректироваться её обучение;\n",
    "- **Тестовая** (20%) — на её объектах будет произведён итоговый тест для оценки качества модели."
   ]
  },
  {
   "cell_type": "code",
   "execution_count": 41,
   "metadata": {},
   "outputs": [
    {
     "data": {
      "text/html": [
       "<div>\n",
       "<style scoped>\n",
       "    .dataframe tbody tr th:only-of-type {\n",
       "        vertical-align: middle;\n",
       "    }\n",
       "\n",
       "    .dataframe tbody tr th {\n",
       "        vertical-align: top;\n",
       "    }\n",
       "\n",
       "    .dataframe thead th {\n",
       "        text-align: right;\n",
       "    }\n",
       "</style>\n",
       "<table border=\"1\" class=\"dataframe\">\n",
       "  <thead>\n",
       "    <tr style=\"text-align: right;\">\n",
       "      <th></th>\n",
       "      <th>brand</th>\n",
       "      <th>model</th>\n",
       "      <th>vehicle_type</th>\n",
       "      <th>gearbox</th>\n",
       "      <th>power</th>\n",
       "      <th>fuel_type</th>\n",
       "      <th>kilometer</th>\n",
       "      <th>registration_year</th>\n",
       "      <th>repaired</th>\n",
       "      <th>postal_code</th>\n",
       "      <th>days</th>\n",
       "    </tr>\n",
       "  </thead>\n",
       "  <tbody>\n",
       "    <tr>\n",
       "      <th>54638</th>\n",
       "      <td>audi</td>\n",
       "      <td>a4</td>\n",
       "      <td>wagon</td>\n",
       "      <td>manual</td>\n",
       "      <td>125</td>\n",
       "      <td>petrol</td>\n",
       "      <td>150000</td>\n",
       "      <td>1996</td>\n",
       "      <td>no</td>\n",
       "      <td>95515</td>\n",
       "      <td>20</td>\n",
       "    </tr>\n",
       "    <tr>\n",
       "      <th>108187</th>\n",
       "      <td>jeep</td>\n",
       "      <td>grand</td>\n",
       "      <td>suv</td>\n",
       "      <td>auto</td>\n",
       "      <td>231</td>\n",
       "      <td>petrol</td>\n",
       "      <td>150000</td>\n",
       "      <td>2006</td>\n",
       "      <td>no</td>\n",
       "      <td>49451</td>\n",
       "      <td>13</td>\n",
       "    </tr>\n",
       "    <tr>\n",
       "      <th>57546</th>\n",
       "      <td>volkswagen</td>\n",
       "      <td>golf</td>\n",
       "      <td>wagon</td>\n",
       "      <td>manual</td>\n",
       "      <td>105</td>\n",
       "      <td>petrol</td>\n",
       "      <td>50000</td>\n",
       "      <td>2013</td>\n",
       "      <td>no</td>\n",
       "      <td>42277</td>\n",
       "      <td>27</td>\n",
       "    </tr>\n",
       "    <tr>\n",
       "      <th>15898</th>\n",
       "      <td>chevrolet</td>\n",
       "      <td>matiz</td>\n",
       "      <td>small</td>\n",
       "      <td>manual</td>\n",
       "      <td>67</td>\n",
       "      <td>petrol</td>\n",
       "      <td>70000</td>\n",
       "      <td>2006</td>\n",
       "      <td>no</td>\n",
       "      <td>56244</td>\n",
       "      <td>4</td>\n",
       "    </tr>\n",
       "    <tr>\n",
       "      <th>175691</th>\n",
       "      <td>skoda</td>\n",
       "      <td>octavia</td>\n",
       "      <td>wagon</td>\n",
       "      <td>manual</td>\n",
       "      <td>125</td>\n",
       "      <td>petrol</td>\n",
       "      <td>90000</td>\n",
       "      <td>2011</td>\n",
       "      <td>undefined</td>\n",
       "      <td>40764</td>\n",
       "      <td>8</td>\n",
       "    </tr>\n",
       "  </tbody>\n",
       "</table>\n",
       "</div>"
      ],
      "text/plain": [
       "             brand    model vehicle_type gearbox  power fuel_type  kilometer  \\\n",
       "54638         audi       a4        wagon  manual    125    petrol     150000   \n",
       "108187        jeep    grand          suv    auto    231    petrol     150000   \n",
       "57546   volkswagen     golf        wagon  manual    105    petrol      50000   \n",
       "15898    chevrolet    matiz        small  manual     67    petrol      70000   \n",
       "175691       skoda  octavia        wagon  manual    125    petrol      90000   \n",
       "\n",
       "        registration_year   repaired  postal_code  days  \n",
       "54638                1996         no        95515    20  \n",
       "108187               2006         no        49451    13  \n",
       "57546                2013         no        42277    27  \n",
       "15898                2006         no        56244     4  \n",
       "175691               2011  undefined        40764     8  "
      ]
     },
     "metadata": {},
     "output_type": "display_data"
    }
   ],
   "source": [
    "# выделение признаков\n",
    "target = df['price']\n",
    "features = df.drop(['price'], axis=1)\n",
    "\n",
    "# выделение тренировочной выборки\n",
    "X_train, X_other, Y_train, Y_other = train_test_split(features, target, train_size = 0.60, random_state = RANDOM_STATE)\n",
    "\n",
    "# выделение валидационной и тестовой выборок\n",
    "X_valid, X_test,  Y_valid, Y_test  = train_test_split(X_other,  Y_other, test_size = 0.50, random_state = RANDOM_STATE)\n",
    "\n",
    "display(X_train.head())"
   ]
  },
  {
   "cell_type": "markdown",
   "metadata": {},
   "source": [
    "### Кодирование данных"
   ]
  },
  {
   "cell_type": "markdown",
   "metadata": {},
   "source": [
    "Сформированные выборки необходимо подготовить к обучению, посколько в текущем формате модель будет работать не корректно.\n",
    "- **Текстовые** (Категориальные) **данные** необходимо преобразовать (закодировать) в численные, с помощью  техники `Ordinal Encoding` поскольку она более предпочтителна для моделей Решающего дерева, используемые в градиентном бустинге;\n",
    "- **Численные данные** необходимо привести к единому масштабу, с помощью  техники `Standard Scaler`. Благодаря этому все признаки будут иметь одинаковую значимость."
   ]
  },
  {
   "cell_type": "code",
   "execution_count": 42,
   "metadata": {
    "scrolled": false
   },
   "outputs": [
    {
     "data": {
      "text/html": [
       "<div>\n",
       "<style scoped>\n",
       "    .dataframe tbody tr th:only-of-type {\n",
       "        vertical-align: middle;\n",
       "    }\n",
       "\n",
       "    .dataframe tbody tr th {\n",
       "        vertical-align: top;\n",
       "    }\n",
       "\n",
       "    .dataframe thead th {\n",
       "        text-align: right;\n",
       "    }\n",
       "</style>\n",
       "<table border=\"1\" class=\"dataframe\">\n",
       "  <thead>\n",
       "    <tr style=\"text-align: right;\">\n",
       "      <th></th>\n",
       "      <th>brand</th>\n",
       "      <th>model</th>\n",
       "      <th>vehicle_type</th>\n",
       "      <th>gearbox</th>\n",
       "      <th>power</th>\n",
       "      <th>fuel_type</th>\n",
       "      <th>kilometer</th>\n",
       "      <th>registration_year</th>\n",
       "      <th>repaired</th>\n",
       "      <th>postal_code</th>\n",
       "      <th>days</th>\n",
       "    </tr>\n",
       "  </thead>\n",
       "  <tbody>\n",
       "    <tr>\n",
       "      <th>54638</th>\n",
       "      <td>1.0</td>\n",
       "      <td>29.0</td>\n",
       "      <td>7.0</td>\n",
       "      <td>1.0</td>\n",
       "      <td>0.153038</td>\n",
       "      <td>5.0</td>\n",
       "      <td>0.596558</td>\n",
       "      <td>-1.377183</td>\n",
       "      <td>0.0</td>\n",
       "      <td>1.712350</td>\n",
       "      <td>0.317646</td>\n",
       "    </tr>\n",
       "    <tr>\n",
       "      <th>108187</th>\n",
       "      <td>14.0</td>\n",
       "      <td>117.0</td>\n",
       "      <td>6.0</td>\n",
       "      <td>0.0</td>\n",
       "      <td>2.444987</td>\n",
       "      <td>5.0</td>\n",
       "      <td>0.596558</td>\n",
       "      <td>0.534793</td>\n",
       "      <td>0.0</td>\n",
       "      <td>-0.078735</td>\n",
       "      <td>-0.448321</td>\n",
       "    </tr>\n",
       "    <tr>\n",
       "      <th>57546</th>\n",
       "      <td>37.0</td>\n",
       "      <td>116.0</td>\n",
       "      <td>7.0</td>\n",
       "      <td>1.0</td>\n",
       "      <td>-0.279405</td>\n",
       "      <td>5.0</td>\n",
       "      <td>-2.152449</td>\n",
       "      <td>1.873176</td>\n",
       "      <td>0.0</td>\n",
       "      <td>-0.357679</td>\n",
       "      <td>1.083613</td>\n",
       "    </tr>\n",
       "    <tr>\n",
       "      <th>15898</th>\n",
       "      <td>3.0</td>\n",
       "      <td>148.0</td>\n",
       "      <td>5.0</td>\n",
       "      <td>1.0</td>\n",
       "      <td>-1.101047</td>\n",
       "      <td>5.0</td>\n",
       "      <td>-1.602648</td>\n",
       "      <td>0.534793</td>\n",
       "      <td>0.0</td>\n",
       "      <td>0.185394</td>\n",
       "      <td>-1.433135</td>\n",
       "    </tr>\n",
       "    <tr>\n",
       "      <th>175691</th>\n",
       "      <td>31.0</td>\n",
       "      <td>163.0</td>\n",
       "      <td>7.0</td>\n",
       "      <td>1.0</td>\n",
       "      <td>0.153038</td>\n",
       "      <td>5.0</td>\n",
       "      <td>-1.052847</td>\n",
       "      <td>1.490780</td>\n",
       "      <td>1.0</td>\n",
       "      <td>-0.416508</td>\n",
       "      <td>-0.995440</td>\n",
       "    </tr>\n",
       "  </tbody>\n",
       "</table>\n",
       "</div>"
      ],
      "text/plain": [
       "        brand  model  vehicle_type  gearbox     power  fuel_type  kilometer  \\\n",
       "54638     1.0   29.0           7.0      1.0  0.153038        5.0   0.596558   \n",
       "108187   14.0  117.0           6.0      0.0  2.444987        5.0   0.596558   \n",
       "57546    37.0  116.0           7.0      1.0 -0.279405        5.0  -2.152449   \n",
       "15898     3.0  148.0           5.0      1.0 -1.101047        5.0  -1.602648   \n",
       "175691   31.0  163.0           7.0      1.0  0.153038        5.0  -1.052847   \n",
       "\n",
       "        registration_year  repaired  postal_code      days  \n",
       "54638           -1.377183       0.0     1.712350  0.317646  \n",
       "108187           0.534793       0.0    -0.078735 -0.448321  \n",
       "57546            1.873176       0.0    -0.357679  1.083613  \n",
       "15898            0.534793       0.0     0.185394 -1.433135  \n",
       "175691           1.490780       1.0    -0.416508 -0.995440  "
      ]
     },
     "metadata": {},
     "output_type": "display_data"
    }
   ],
   "source": [
    "# кодирование признаков\n",
    "category = ['brand', 'model', 'vehicle_type', 'gearbox', 'fuel_type', 'repaired']\n",
    "\n",
    "# One Hot Encoding\n",
    "X_train_ohe, X_valid_ohe, X_test_ohe = X_train, X_valid, X_test\n",
    "for features in [X_train_ohe, X_valid_ohe, X_test_ohe]:\n",
    "    features = pd.get_dummies(features, columns=category, drop_first=True)\n",
    "\n",
    "# Ordinal Encoding\n",
    "OE_encoder = OrdinalEncoder(handle_unknown='use_encoded_value', unknown_value=(-1)) # UPD\n",
    "OE_encoder.fit(X_train[category])\n",
    "for features in [X_train, X_valid, X_test]:\n",
    "    features[category] = OE_encoder.transform(features[category])\n",
    "    \n",
    "# масштабирование признаков\n",
    "numeric = ['power', 'kilometer', 'registration_year', 'postal_code', 'days']\n",
    "scaler = StandardScaler()\n",
    "scaler.fit(X_train[numeric])\n",
    "for features in [X_train, X_valid, X_test]:\n",
    "    features[numeric] = scaler.transform(features[numeric])\n",
    "\n",
    "    \n",
    "display(X_train.head())"
   ]
  },
  {
   "cell_type": "markdown",
   "metadata": {},
   "source": [
    "### Модель линейной регресии (LR)"
   ]
  },
  {
   "cell_type": "markdown",
   "metadata": {},
   "source": [
    "Если можно так выразится, то это достаточно примитивная модель предсказывания, что является её и слабой и сильной стороной. Она проста в настройке, и выделяется высоким быстродействием. Особенно, если данные закодированы с помощью техники _One Hot Encoding_. Но может давать не такой точный результат, по сравнению с более сложными моделями."
   ]
  },
  {
   "cell_type": "code",
   "execution_count": 43,
   "metadata": {},
   "outputs": [
    {
     "name": "stdout",
     "output_type": "stream",
     "text": [
      "Минимальная погрешность предсказаний: ± 2531€, при количестве итераций: 100\n",
      "Wall time: 1.07 s\n"
     ]
    }
   ],
   "source": [
    "%%time\n",
    "rmse_min = 3000\n",
    "for iteration in range(10, 101, 10): \n",
    "    model = LinearRegression(n_jobs=iteration)\n",
    "    model.fit(X_train, Y_train)\n",
    "    prediction_valid = model.predict(X_valid)\n",
    "    rmse = np.sqrt(mean_squared_error(Y_valid, prediction_valid))\n",
    "    if rmse_min >= rmse:\n",
    "        rmse_min = rmse \n",
    "        best_iter = iteration\n",
    "        best_LR = model\n",
    "\n",
    "print('Минимальная погрешность предсказаний: ± {:.0f}€, при количестве итераций: {}'.format(rmse_min, best_iter))"
   ]
  },
  {
   "cell_type": "code",
   "execution_count": 44,
   "metadata": {},
   "outputs": [
    {
     "name": "stdout",
     "output_type": "stream",
     "text": [
      "Минимальная погрешность предсказаний: ± 2531€, при количестве итераций: 100\n",
      "Wall time: 899 ms\n"
     ]
    }
   ],
   "source": [
    "%%time\n",
    "rmse_min = 3000\n",
    "for iteration in range(10, 101, 10): \n",
    "    model = LinearRegression(n_jobs=iteration)\n",
    "    model.fit(X_train_ohe, Y_train)\n",
    "    prediction_valid = model.predict(X_valid_ohe)\n",
    "    rmse = np.sqrt(mean_squared_error(Y_valid, prediction_valid))\n",
    "    if rmse_min >= rmse:\n",
    "        rmse_min = rmse \n",
    "        best_iter = iteration\n",
    "        best_prediction_valid = prediction_valid\n",
    "\n",
    "print('Минимальная погрешность предсказаний: ± {:.0f}€, при количестве итераций: {}'.format(rmse_min, best_iter))"
   ]
  },
  {
   "cell_type": "markdown",
   "metadata": {},
   "source": [
    "### Модель случайного леса (RF)"
   ]
  },
  {
   "cell_type": "markdown",
   "metadata": {},
   "source": [
    "Ансамбль (набор) моделей решающих деревьев. Преимущество заключается в том, что вместе модели ошибаются в среднем не так сильно как по отдельности. Из ключевых параметров _Случайного леса_: количество деревьев и их глубина."
   ]
  },
  {
   "cell_type": "code",
   "execution_count": 61,
   "metadata": {
    "scrolled": true
   },
   "outputs": [
    {
     "data": {
      "application/vnd.jupyter.widget-view+json": {
       "model_id": "77629585c6304882b6040d59c2454cd8",
       "version_major": 2,
       "version_minor": 0
      },
      "text/plain": [
       "  0%|          | 0/4 [00:00<?, ?it/s]"
      ]
     },
     "metadata": {},
     "output_type": "display_data"
    },
    {
     "name": "stdout",
     "output_type": "stream",
     "text": [
      "Минимальная погрешность: ± 1496€, при кол-ве деревьев: 40, и их глубине: 15\n"
     ]
    }
   ],
   "source": [
    "list_est_RF  = []\n",
    "list_rmse_RF = []\n",
    "rmse_min = 3000\n",
    "\n",
    "for est in tqdm(range(10, 41, 10)):\n",
    "    for depth in range(5, 16):\n",
    "        model = RandomForestRegressor(max_depth=depth, n_estimators=est, random_state=RANDOM_STATE)\n",
    "        model.fit(X_train, Y_train)\n",
    "        prediction_valid = model.predict(X_valid)\n",
    "        rmse = np.sqrt(mean_squared_error(Y_valid, prediction_valid))\n",
    "        if rmse_min >= rmse:\n",
    "            rmse_min = rmse \n",
    "            best_dep = depth\n",
    "            best_est = est\n",
    "            best_RF = model\n",
    "    list_est_RF.append(est)\n",
    "    list_rmse_RF.append(rmse_min)\n",
    "\n",
    "print('Минимальная погрешность: ± {:.0f}€, при кол-ве деревьев: {}, и их глубине: {}'.format(rmse_min, best_est, best_dep))"
   ]
  },
  {
   "cell_type": "code",
   "execution_count": 62,
   "metadata": {},
   "outputs": [
    {
     "data": {
      "image/png": "[encoded data removed]",
      "text/plain": [
       "<Figure size 1080x504 with 1 Axes>"
      ]
     },
     "metadata": {},
     "output_type": "display_data"
    }
   ],
   "source": [
    "# Визуализация зависимости качества модели от изменения гиперпараметра\n",
    "rmse_score_data = pd.DataFrame({'est': list_est_RF, 'rmse': list_rmse_RF})\n",
    "rmse_score_data.plot(style='o-', x='est', y='rmse', grid=True, legend=False, figsize=(15,7),\n",
    "                     title='Зависимость качества модели от настройки гиперпараметра.',\n",
    "                     xlabel='n_estimators - кол-во деревьев в \"Случайном лесу\"',\n",
    "                     ylabel='Погрешность RMSE');"
   ]
  },
  {
   "cell_type": "markdown",
   "metadata": {},
   "source": [
    "### Модель гриентного бустинга (LightGBM)"
   ]
  },
  {
   "cell_type": "markdown",
   "metadata": {},
   "source": [
    "Последовательно построенный ансамблю моделей, каждая из которых учитывает ошибку предыдущей, и уменьшает её."
   ]
  },
  {
   "cell_type": "code",
   "execution_count": 63,
   "metadata": {},
   "outputs": [
    {
     "data": {
      "application/vnd.jupyter.widget-view+json": {
       "model_id": "91d0cde1b4c54376bd3cd9e206743633",
       "version_major": 2,
       "version_minor": 0
      },
      "text/plain": [
       "  0%|          | 0/20 [00:00<?, ?it/s]"
      ]
     },
     "metadata": {},
     "output_type": "display_data"
    },
    {
     "name": "stdout",
     "output_type": "stream",
     "text": [
      "Погрешность модели: ± 1495€, при кол-ве базовых моделей: 200, и их глубине: 5\n"
     ]
    }
   ],
   "source": [
    "list_est_GBM  = []\n",
    "list_rmse_GBM = []\n",
    "rmse_min = 3000\n",
    "\n",
    "for est in tqdm(range(10, 201, 10)):\n",
    "    for depth in range(1, 6):\n",
    "        model = lgb.LGBMRegressor(max_depth=depth, n_estimators=est, random_state=RANDOM_STATE)\n",
    "        model.fit(X_train, Y_train)\n",
    "        prediction_valid = model.predict(X_valid)\n",
    "        rmse = np.sqrt(mean_squared_error(Y_valid, prediction_valid))\n",
    "        if rmse_min >= rmse:\n",
    "            rmse_min = rmse \n",
    "            best_dep = depth\n",
    "            best_est = est\n",
    "            best_GBM = model\n",
    "    list_est_GBM.append(est)\n",
    "    list_rmse_GBM.append(rmse_min)\n",
    "\n",
    "print('Погрешность модели: ± {:.0f}€, при кол-ве базовых моделей: {}, и их глубине: {}'.format(rmse_min, best_est, best_dep))"
   ]
  },
  {
   "cell_type": "code",
   "execution_count": 64,
   "metadata": {},
   "outputs": [
    {
     "data": {
      "image/png": "[encoded data removed]",
      "text/plain": [
       "<Figure size 1080x504 with 1 Axes>"
      ]
     },
     "metadata": {},
     "output_type": "display_data"
    }
   ],
   "source": [
    "# Визуализация зависимости качества модели от изменения гиперпараметра\n",
    "rmse_score_data = pd.DataFrame({'est': list_est_GBM, 'rmse': list_rmse_GBM})\n",
    "rmse_score_data.plot(style='o-', x='est', y='rmse', grid=True, legend=False, figsize=(15,7),\n",
    "                     title='Зависимость качества модели от настройки гиперпараметра.',\n",
    "                     xlabel='n_estimators - кол-во моделей, или выполненных шагов бустинга',\n",
    "                     ylabel='Погрешность RMSE')\n",
    "plt.show()"
   ]
  },
  {
   "cell_type": "markdown",
   "metadata": {},
   "source": [
    "## Анализ моделей"
   ]
  },
  {
   "cell_type": "code",
   "execution_count": 49,
   "metadata": {},
   "outputs": [
    {
     "name": "stdout",
     "output_type": "stream",
     "text": [
      "Погрешность модели: ± 2532€\n",
      "Wall time: 17 ms\n"
     ]
    }
   ],
   "source": [
    "%%time\n",
    "\n",
    "# ЛИНЕЙНАЯ РЕГРЕССИЯ, обученная на тренировочной выборке (60%)\n",
    "\n",
    "model = best_LR\n",
    "prediction_valid = model.predict(X_test)\n",
    "rmse = np.sqrt(mean_squared_error(Y_test, prediction_valid))\n",
    "print('Погрешность модели: ± {:.0f}€'.format(rmse))"
   ]
  },
  {
   "cell_type": "code",
   "execution_count": 50,
   "metadata": {},
   "outputs": [
    {
     "name": "stdout",
     "output_type": "stream",
     "text": [
      "Погрешность модели: ± 1515€\n",
      "Wall time: 561 ms\n"
     ]
    }
   ],
   "source": [
    "%%time\n",
    "\n",
    "# СЛУЧАЙНЫЙ ЛЕС, обученный на тренировочной выборке (60%)\n",
    "\n",
    "model = best_RF\n",
    "prediction_valid = model.predict(X_test)\n",
    "rmse = np.sqrt(mean_squared_error(Y_test, prediction_valid))\n",
    "print('Погрешность модели: ± {:.0f}€'.format(rmse))"
   ]
  },
  {
   "cell_type": "code",
   "execution_count": 51,
   "metadata": {},
   "outputs": [
    {
     "name": "stdout",
     "output_type": "stream",
     "text": [
      "Погрешность модели: ± 1511€\n",
      "Wall time: 413 ms\n"
     ]
    }
   ],
   "source": [
    "%%time\n",
    "\n",
    "# ГРАДИЕНТНЫЙ БУСТИНГ, обученный на тренировочной выборке (60%)\n",
    "\n",
    "model = best_GBM\n",
    "prediction_valid = model.predict(X_test)\n",
    "rmse = np.sqrt(mean_squared_error(Y_test, prediction_valid))\n",
    "print('Погрешность модели: ± {:.0f}€'.format(rmse))"
   ]
  },
  {
   "cell_type": "code",
   "execution_count": 52,
   "metadata": {},
   "outputs": [],
   "source": [
    "# увеличение обучающей выборки за счёт объединения тренер. и валидацион. выборок (+ 20% объектов)\n",
    "# (supp. - англ. supplemented, дополненный)\n",
    "\n",
    "X_supp = pd.concat([X_train, X_valid], ignore_index=True)\n",
    "Y_supp = pd.concat([Y_train, Y_valid], ignore_index=True)"
   ]
  },
  {
   "cell_type": "code",
   "execution_count": 53,
   "metadata": {},
   "outputs": [
    {
     "name": "stdout",
     "output_type": "stream",
     "text": [
      "Wall time: 103 ms\n"
     ]
    },
    {
     "data": {
      "text/plain": [
       "LinearRegression(n_jobs=100)"
      ]
     },
     "execution_count": 53,
     "metadata": {},
     "output_type": "execute_result"
    }
   ],
   "source": [
    "%%time\n",
    "# ЛИНЕЙНАЯ РЕГРЕССИЯ, обученная на тренировочной выборке (80%)\n",
    "\n",
    "model = best_LR\n",
    "model.fit(X_supp, Y_supp)"
   ]
  },
  {
   "cell_type": "code",
   "execution_count": 54,
   "metadata": {},
   "outputs": [
    {
     "name": "stdout",
     "output_type": "stream",
     "text": [
      "Погрешность модели: ± 2532€\n",
      "Wall time: 12 ms\n"
     ]
    }
   ],
   "source": [
    "%%time\n",
    "prediction_valid = model.predict(X_test)\n",
    "rmse = np.sqrt(mean_squared_error(Y_test, prediction_valid))\n",
    "print('Погрешность модели: ± {:.0f}€'.format(rmse))"
   ]
  },
  {
   "cell_type": "code",
   "execution_count": 55,
   "metadata": {},
   "outputs": [
    {
     "name": "stdout",
     "output_type": "stream",
     "text": [
      "Wall time: 39 s\n"
     ]
    },
    {
     "data": {
      "text/plain": [
       "RandomForestRegressor(max_depth=15, n_estimators=40, random_state=12345)"
      ]
     },
     "execution_count": 55,
     "metadata": {},
     "output_type": "execute_result"
    }
   ],
   "source": [
    "%%time\n",
    "# СЛУЧАЙНЫЙ ЛЕС, обученный на дополненной выборке (80%)\n",
    "\n",
    "model = best_RF\n",
    "model.fit(X_supp, Y_supp)"
   ]
  },
  {
   "cell_type": "code",
   "execution_count": 56,
   "metadata": {},
   "outputs": [
    {
     "name": "stdout",
     "output_type": "stream",
     "text": [
      "Погрешность модели: ± 1487€\n",
      "Wall time: 648 ms\n"
     ]
    }
   ],
   "source": [
    "%%time\n",
    "prediction_valid = model.predict(X_test)\n",
    "rmse = np.sqrt(mean_squared_error(Y_test, prediction_valid))\n",
    "print('Погрешность модели: ± {:.0f}€'.format(rmse))"
   ]
  },
  {
   "cell_type": "code",
   "execution_count": 57,
   "metadata": {},
   "outputs": [
    {
     "name": "stdout",
     "output_type": "stream",
     "text": [
      "Wall time: 2.45 s\n"
     ]
    },
    {
     "data": {
      "text/plain": [
       "LGBMRegressor(max_depth=5, n_estimators=200, random_state=12345)"
      ]
     },
     "execution_count": 57,
     "metadata": {},
     "output_type": "execute_result"
    }
   ],
   "source": [
    "%%time\n",
    "# ГРАДИЕНТНЫЙ БУСТИНГ, обученный на дополненной выборке (80%)\n",
    "\n",
    "model = best_GBM\n",
    "model.fit(X_supp, Y_supp)"
   ]
  },
  {
   "cell_type": "code",
   "execution_count": 58,
   "metadata": {},
   "outputs": [
    {
     "name": "stdout",
     "output_type": "stream",
     "text": [
      "Погрешность модели: ± 1505€\n",
      "Wall time: 416 ms\n"
     ]
    }
   ],
   "source": [
    "%%time\n",
    "prediction_valid = model.predict(X_test)\n",
    "rmse = np.sqrt(mean_squared_error(Y_test, prediction_valid))\n",
    "print('Погрешность модели: ± {:.0f}€'.format(rmse))"
   ]
  },
  {
   "cell_type": "markdown",
   "metadata": {},
   "source": [
    "**ИТОГ:**\n",
    "- **Линейная регрессия** - самая быстродейственная модель: общее время обучения и предсказаний не превышает **1 секунды*** (обучение: 45 мс., предсказания: 20 мс.). Но показала самую большую погрешность **± 2522€**. Эта модель подойдёт для других задач, к примеру для работы с бóльшим объёмом данных. При использовании кодирования _One Hot Encoding_ общее время сокращается примерно на 25%.\n",
    "- **Случайный лес** - самая медлительная модель: **обучение: 22 с., предсказания 480 мс.*** Минимальнейшая погрешность предсказаний среди сравниваемых моделей: **± 1503€**.\n",
    "- **Градиентный бустинг** - самая быстродейственная модель: **обучение 10 с., предсказание 560 мс.*** Погрешность предсказаний **± 1511€**, что соизмеримо с погрешностью предыдущей модели, но решающим значением является меньшее время. По этим причиная я рекомендую эту можель.\n",
    "\n",
    "*время обучения и предсказания могут отличаться в зависимости от устройства (ПК/сервера) на которо выполняются эти операции.\n",
    "\n",
    "_Примечание_: Увеличение обучающей выборки позволяет уменьшить погрешность предсказаний модели. Это очевидный вывод, но не очевидно как этого добиться, поскольку в исходных данных содержится значительное количество дефектов, устранение с которыми уменьшило объём данных, а так же потребовало больше времени, чем сам процесс обучения моделей и их тестирование.\n",
    "___"
   ]
  },
  {
   "cell_type": "markdown",
   "metadata": {},
   "source": [
    "## Чек-лист проверки"
   ]
  },
  {
   "cell_type": "markdown",
   "metadata": {},
   "source": [
    "- [x]  Весь код выполняется без ошибок\n",
    "- [x]  Ячейки с кодом расположены в порядке исполнения\n",
    "- [x]  Выполнена загрузка и подготовка данных\n",
    "- [x]  Выполнено обучение моделей\n",
    "- [x]  Есть анализ скорости работы и качества моделей"
   ]
  }
 ],
 "metadata": {
  "ExecuteTimeLog": [
   {
    "duration": 4785,
    "start_time": "2023-03-13T14:50:50.383Z"
   },
   {
    "duration": 2382,
    "start_time": "2023-03-13T14:50:55.170Z"
   },
   {
    "duration": 60,
    "start_time": "2023-03-13T14:50:57.554Z"
   },
   {
    "duration": 133,
    "start_time": "2023-03-13T14:50:57.616Z"
   },
   {
    "duration": 4,
    "start_time": "2023-03-13T14:50:57.762Z"
   },
   {
    "duration": 370,
    "start_time": "2023-03-13T14:50:57.768Z"
   },
   {
    "duration": 4,
    "start_time": "2023-03-13T14:50:58.140Z"
   },
   {
    "duration": 23,
    "start_time": "2023-03-13T14:50:58.146Z"
   },
   {
    "duration": 1197,
    "start_time": "2023-03-13T14:50:58.173Z"
   },
   {
    "duration": 4237,
    "start_time": "2023-03-13T14:50:59.372Z"
   },
   {
    "duration": 91,
    "start_time": "2023-03-13T14:51:03.611Z"
   },
   {
    "duration": 418,
    "start_time": "2023-03-13T14:51:03.709Z"
   },
   {
    "duration": 266,
    "start_time": "2023-03-13T14:51:04.129Z"
   },
   {
    "duration": 91,
    "start_time": "2023-03-13T14:51:04.398Z"
   },
   {
    "duration": 16,
    "start_time": "2023-03-13T14:51:04.491Z"
   },
   {
    "duration": 743,
    "start_time": "2023-03-13T14:51:04.518Z"
   },
   {
    "duration": 1178,
    "start_time": "2023-03-13T14:51:05.266Z"
   },
   {
    "duration": 55,
    "start_time": "2023-03-13T14:51:06.446Z"
   },
   {
    "duration": 84,
    "start_time": "2023-03-13T14:51:06.506Z"
   },
   {
    "duration": 3672,
    "start_time": "2023-03-13T14:51:06.610Z"
   },
   {
    "duration": 41,
    "start_time": "2023-03-13T14:51:10.288Z"
   },
   {
    "duration": 3621,
    "start_time": "2023-03-13T14:51:10.331Z"
   },
   {
    "duration": 58,
    "start_time": "2023-03-13T14:51:13.954Z"
   },
   {
    "duration": 28,
    "start_time": "2023-03-13T14:51:14.013Z"
   },
   {
    "duration": 103,
    "start_time": "2023-03-13T14:51:14.043Z"
   },
   {
    "duration": 58,
    "start_time": "2023-03-13T14:51:14.148Z"
   },
   {
    "duration": 171,
    "start_time": "2023-03-13T14:51:14.207Z"
   },
   {
    "duration": 62,
    "start_time": "2023-03-13T14:51:14.392Z"
   },
   {
    "duration": 279,
    "start_time": "2023-03-13T14:51:14.456Z"
   },
   {
    "duration": 488,
    "start_time": "2023-03-13T14:51:14.737Z"
   },
   {
    "duration": 77,
    "start_time": "2023-03-13T14:51:15.227Z"
   },
   {
    "duration": 15,
    "start_time": "2023-03-13T14:51:15.307Z"
   },
   {
    "duration": 21,
    "start_time": "2023-03-13T14:51:15.325Z"
   },
   {
    "duration": 319,
    "start_time": "2023-03-13T14:51:15.348Z"
   },
   {
    "duration": 54515,
    "start_time": "2023-03-13T14:51:15.669Z"
   },
   {
    "duration": 38352,
    "start_time": "2023-03-13T14:52:10.196Z"
   },
   {
    "duration": 65242,
    "start_time": "2023-03-13T14:52:48.550Z"
   },
   {
    "duration": 22537,
    "start_time": "2023-03-13T14:53:53.796Z"
   },
   {
    "duration": 394,
    "start_time": "2023-03-13T14:54:16.335Z"
   },
   {
    "duration": 170,
    "start_time": "2023-03-13T14:54:16.730Z"
   },
   {
    "duration": 165,
    "start_time": "2023-03-13T14:54:58.082Z"
   },
   {
    "duration": 126,
    "start_time": "2023-03-13T14:57:15.729Z"
   },
   {
    "duration": 1524,
    "start_time": "2023-03-13T14:57:17.374Z"
   },
   {
    "duration": 2199,
    "start_time": "2023-03-13T14:57:23.507Z"
   },
   {
    "duration": 2042,
    "start_time": "2023-03-13T14:57:25.771Z"
   },
   {
    "duration": 1746,
    "start_time": "2023-03-13T18:21:22.428Z"
   },
   {
    "duration": 1470,
    "start_time": "2023-03-13T18:21:24.176Z"
   },
   {
    "duration": 58,
    "start_time": "2023-03-13T18:21:25.648Z"
   },
   {
    "duration": 121,
    "start_time": "2023-03-13T18:21:25.708Z"
   },
   {
    "duration": 4,
    "start_time": "2023-03-13T18:21:25.832Z"
   },
   {
    "duration": 264,
    "start_time": "2023-03-13T18:21:25.837Z"
   },
   {
    "duration": 4,
    "start_time": "2023-03-13T18:21:26.102Z"
   },
   {
    "duration": 12,
    "start_time": "2023-03-13T18:21:26.107Z"
   },
   {
    "duration": 784,
    "start_time": "2023-03-13T18:21:26.120Z"
   },
   {
    "duration": 3127,
    "start_time": "2023-03-13T18:21:26.905Z"
   },
   {
    "duration": 76,
    "start_time": "2023-03-13T18:21:30.034Z"
   },
   {
    "duration": 339,
    "start_time": "2023-03-13T18:21:30.111Z"
   },
   {
    "duration": 176,
    "start_time": "2023-03-13T18:21:30.456Z"
   },
   {
    "duration": 68,
    "start_time": "2023-03-13T18:21:30.635Z"
   },
   {
    "duration": 4,
    "start_time": "2023-03-13T18:21:30.705Z"
   },
   {
    "duration": 449,
    "start_time": "2023-03-13T18:21:30.711Z"
   },
   {
    "duration": 908,
    "start_time": "2023-03-13T18:21:31.161Z"
   },
   {
    "duration": 31,
    "start_time": "2023-03-13T18:21:32.071Z"
   },
   {
    "duration": 85,
    "start_time": "2023-03-13T18:21:32.103Z"
   },
   {
    "duration": 2882,
    "start_time": "2023-03-13T18:21:32.190Z"
   },
   {
    "duration": 31,
    "start_time": "2023-03-13T18:21:35.074Z"
   },
   {
    "duration": 2900,
    "start_time": "2023-03-13T18:21:35.106Z"
   },
   {
    "duration": 30,
    "start_time": "2023-03-13T18:21:38.007Z"
   },
   {
    "duration": 37,
    "start_time": "2023-03-13T18:21:38.039Z"
   },
   {
    "duration": 78,
    "start_time": "2023-03-13T18:21:38.078Z"
   },
   {
    "duration": 29,
    "start_time": "2023-03-13T18:21:38.158Z"
   },
   {
    "duration": 107,
    "start_time": "2023-03-13T18:21:38.189Z"
   },
   {
    "duration": 44,
    "start_time": "2023-03-13T18:21:38.297Z"
   },
   {
    "duration": 215,
    "start_time": "2023-03-13T18:21:38.356Z"
   },
   {
    "duration": 420,
    "start_time": "2023-03-13T18:21:38.573Z"
   },
   {
    "duration": 48,
    "start_time": "2023-03-13T18:21:38.995Z"
   },
   {
    "duration": 7,
    "start_time": "2023-03-13T18:21:39.057Z"
   },
   {
    "duration": 43,
    "start_time": "2023-03-13T18:21:39.065Z"
   },
   {
    "duration": 217,
    "start_time": "2023-03-13T18:21:39.110Z"
   },
   {
    "duration": 39782,
    "start_time": "2023-03-13T18:21:39.329Z"
   },
   {
    "duration": 26964,
    "start_time": "2023-03-13T18:22:19.113Z"
   },
   {
    "duration": 49282,
    "start_time": "2023-03-13T18:22:46.079Z"
   },
   {
    "duration": 15743,
    "start_time": "2023-03-13T18:23:35.363Z"
   },
   {
    "duration": 74,
    "start_time": "2023-03-13T18:23:51.107Z"
   },
   {
    "duration": 0,
    "start_time": "2023-03-13T18:23:51.184Z"
   },
   {
    "duration": 0,
    "start_time": "2023-03-13T18:23:51.185Z"
   },
   {
    "duration": 0,
    "start_time": "2023-03-13T18:23:51.186Z"
   },
   {
    "duration": 0,
    "start_time": "2023-03-13T18:23:51.188Z"
   },
   {
    "duration": 0,
    "start_time": "2023-03-13T18:23:51.189Z"
   },
   {
    "duration": 0,
    "start_time": "2023-03-13T18:23:51.190Z"
   },
   {
    "duration": 0,
    "start_time": "2023-03-13T18:23:51.191Z"
   },
   {
    "duration": 0,
    "start_time": "2023-03-13T18:23:51.193Z"
   },
   {
    "duration": 0,
    "start_time": "2023-03-13T18:23:51.194Z"
   },
   {
    "duration": 0,
    "start_time": "2023-03-13T18:23:51.196Z"
   },
   {
    "duration": 0,
    "start_time": "2023-03-13T18:23:51.197Z"
   },
   {
    "duration": 0,
    "start_time": "2023-03-13T18:23:51.198Z"
   },
   {
    "duration": 0,
    "start_time": "2023-03-13T18:23:51.200Z"
   },
   {
    "duration": 0,
    "start_time": "2023-03-13T18:23:51.201Z"
   },
   {
    "duration": 0,
    "start_time": "2023-03-13T18:23:51.202Z"
   },
   {
    "duration": 0,
    "start_time": "2023-03-13T18:23:51.203Z"
   },
   {
    "duration": 185,
    "start_time": "2023-03-13T18:40:03.898Z"
   },
   {
    "duration": 305,
    "start_time": "2023-03-13T18:58:02.326Z"
   },
   {
    "duration": 125,
    "start_time": "2023-03-13T18:58:14.393Z"
   },
   {
    "duration": 568,
    "start_time": "2023-03-13T19:01:06.050Z"
   },
   {
    "duration": 1317,
    "start_time": "2023-03-13T19:01:57.913Z"
   },
   {
    "duration": 2084,
    "start_time": "2023-03-13T19:02:20.679Z"
   },
   {
    "duration": 286187,
    "start_time": "2023-03-13T19:02:55.892Z"
   },
   {
    "duration": 10,
    "start_time": "2023-03-13T19:08:20.778Z"
   },
   {
    "duration": 540,
    "start_time": "2023-03-13T19:08:23.734Z"
   },
   {
    "duration": 73,
    "start_time": "2023-03-13T19:08:40.460Z"
   },
   {
    "duration": 9,
    "start_time": "2023-03-13T19:08:45.981Z"
   },
   {
    "duration": 94,
    "start_time": "2023-03-13T19:08:47.169Z"
   },
   {
    "duration": 9161,
    "start_time": "2023-03-13T19:08:53.814Z"
   },
   {
    "duration": 322998,
    "start_time": "2023-03-13T19:10:21.492Z"
   },
   {
    "duration": 378,
    "start_time": "2023-03-13T19:25:24.720Z"
   },
   {
    "duration": 22613,
    "start_time": "2023-03-13T19:30:44.881Z"
   },
   {
    "duration": 51,
    "start_time": "2023-03-13T19:33:18.991Z"
   },
   {
    "duration": 15,
    "start_time": "2023-03-13T19:33:25.383Z"
   },
   {
    "duration": 22048,
    "start_time": "2023-03-13T19:33:26.482Z"
   },
   {
    "duration": 381,
    "start_time": "2023-03-13T19:34:11.622Z"
   },
   {
    "duration": 9272,
    "start_time": "2023-03-13T19:34:23.592Z"
   },
   {
    "duration": 568,
    "start_time": "2023-03-13T19:35:26.710Z"
   },
   {
    "duration": 4,
    "start_time": "2023-03-13T19:43:11.835Z"
   },
   {
    "duration": 9366,
    "start_time": "2023-03-13T19:43:23.204Z"
   },
   {
    "duration": 4373,
    "start_time": "2023-03-14T17:04:32.512Z"
   },
   {
    "duration": 1145,
    "start_time": "2023-03-14T17:04:36.887Z"
   },
   {
    "duration": 54,
    "start_time": "2023-03-14T17:04:38.034Z"
   },
   {
    "duration": 95,
    "start_time": "2023-03-14T17:04:38.091Z"
   },
   {
    "duration": 4,
    "start_time": "2023-03-14T17:04:38.188Z"
   },
   {
    "duration": 266,
    "start_time": "2023-03-14T17:04:38.194Z"
   },
   {
    "duration": 4,
    "start_time": "2023-03-14T17:04:38.462Z"
   },
   {
    "duration": 14,
    "start_time": "2023-03-14T17:04:38.467Z"
   },
   {
    "duration": 772,
    "start_time": "2023-03-14T17:04:38.483Z"
   },
   {
    "duration": 3227,
    "start_time": "2023-03-14T17:04:39.258Z"
   },
   {
    "duration": 82,
    "start_time": "2023-03-14T17:04:42.487Z"
   },
   {
    "duration": 333,
    "start_time": "2023-03-14T17:04:42.570Z"
   },
   {
    "duration": 186,
    "start_time": "2023-03-14T17:04:42.905Z"
   },
   {
    "duration": 73,
    "start_time": "2023-03-14T17:04:43.093Z"
   },
   {
    "duration": 5,
    "start_time": "2023-03-14T17:04:43.168Z"
   },
   {
    "duration": 446,
    "start_time": "2023-03-14T17:04:43.174Z"
   },
   {
    "duration": 934,
    "start_time": "2023-03-14T17:04:43.622Z"
   },
   {
    "duration": 27,
    "start_time": "2023-03-14T17:04:44.557Z"
   },
   {
    "duration": 139,
    "start_time": "2023-03-14T17:04:44.585Z"
   },
   {
    "duration": 2890,
    "start_time": "2023-03-14T17:04:44.725Z"
   },
   {
    "duration": 37,
    "start_time": "2023-03-14T17:04:47.617Z"
   },
   {
    "duration": 2819,
    "start_time": "2023-03-14T17:04:47.656Z"
   },
   {
    "duration": 26,
    "start_time": "2023-03-14T17:04:50.476Z"
   },
   {
    "duration": 17,
    "start_time": "2023-03-14T17:04:50.504Z"
   },
   {
    "duration": 91,
    "start_time": "2023-03-14T17:04:50.523Z"
   },
   {
    "duration": 41,
    "start_time": "2023-03-14T17:04:50.616Z"
   },
   {
    "duration": 99,
    "start_time": "2023-03-14T17:04:50.658Z"
   },
   {
    "duration": 35,
    "start_time": "2023-03-14T17:04:50.761Z"
   },
   {
    "duration": 227,
    "start_time": "2023-03-14T17:04:50.797Z"
   },
   {
    "duration": 423,
    "start_time": "2023-03-14T17:04:51.026Z"
   },
   {
    "duration": 50,
    "start_time": "2023-03-14T17:04:51.453Z"
   },
   {
    "duration": 9,
    "start_time": "2023-03-14T17:04:51.505Z"
   },
   {
    "duration": 45,
    "start_time": "2023-03-14T17:04:51.515Z"
   },
   {
    "duration": 228,
    "start_time": "2023-03-14T17:04:51.562Z"
   },
   {
    "duration": 39799,
    "start_time": "2023-03-14T17:04:51.792Z"
   },
   {
    "duration": 27290,
    "start_time": "2023-03-14T17:05:31.592Z"
   },
   {
    "duration": 50574,
    "start_time": "2023-03-14T17:05:58.884Z"
   },
   {
    "duration": 16173,
    "start_time": "2023-03-14T17:06:49.460Z"
   },
   {
    "duration": 179,
    "start_time": "2023-03-14T17:07:05.635Z"
   },
   {
    "duration": 303,
    "start_time": "2023-03-14T17:07:05.816Z"
   },
   {
    "duration": 99,
    "start_time": "2023-03-14T17:07:06.121Z"
   },
   {
    "duration": 1324,
    "start_time": "2023-03-14T17:07:06.223Z"
   },
   {
    "duration": 526017,
    "start_time": "2023-03-14T17:07:24.857Z"
   },
   {
    "duration": 267,
    "start_time": "2023-03-14T17:16:26.730Z"
   },
   {
    "duration": 17,
    "start_time": "2023-03-14T17:16:33.224Z"
   },
   {
    "duration": 13662,
    "start_time": "2023-03-14T17:16:36.492Z"
   },
   {
    "duration": 621,
    "start_time": "2023-03-14T17:16:50.156Z"
   },
   {
    "duration": 557,
    "start_time": "2023-03-14T17:17:32.210Z"
   },
   {
    "duration": 6944,
    "start_time": "2023-03-14T17:18:06.130Z"
   },
   {
    "duration": 6893,
    "start_time": "2023-03-14T17:19:37.064Z"
   },
   {
    "duration": 68655,
    "start_time": "2023-03-14T17:20:02.100Z"
   }
  ],
  "kernelspec": {
   "display_name": "Python 3",
   "language": "python",
   "name": "python3"
  },
  "language_info": {
   "codemirror_mode": {
    "name": "ipython",
    "version": 3
   },
   "file_extension": ".py",
   "mimetype": "text/x-python",
   "name": "python",
   "nbconvert_exporter": "python",
   "pygments_lexer": "ipython3",
   "version": "3.8.8"
  },
  "toc": {
   "base_numbering": 1,
   "nav_menu": {},
   "number_sections": true,
   "sideBar": true,
   "skip_h1_title": true,
   "title_cell": "Table of Contents",
   "title_sidebar": "Contents",
   "toc_cell": false,
   "toc_position": {},
   "toc_section_display": true,
   "toc_window_display": true
  }
 },
 "nbformat": 4,
 "nbformat_minor": 2
}
